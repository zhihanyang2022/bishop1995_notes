{
 "cells": [
  {
   "cell_type": "markdown",
   "metadata": {},
   "source": [
    "## Preprocess dataset"
   ]
  },
  {
   "cell_type": "code",
   "execution_count": 1,
   "metadata": {
    "ExecuteTime": {
     "end_time": "2020-03-27T17:12:35.380822Z",
     "start_time": "2020-03-27T17:12:29.480756Z"
    }
   },
   "outputs": [],
   "source": [
    "import numpy as np\n",
    "from scipy.stats import gaussian_kde\n",
    "from tensorflow.keras.datasets import mnist\n",
    "import matplotlib.pyplot as plt\n",
    "import seaborn as sns"
   ]
  },
  {
   "cell_type": "code",
   "execution_count": 110,
   "metadata": {
    "ExecuteTime": {
     "end_time": "2019-12-27T12:11:38.250265Z",
     "start_time": "2019-12-27T12:11:37.942229Z"
    }
   },
   "outputs": [],
   "source": [
    "(x_train, y_train), (x_test, y_test) = mnist.load_data()"
   ]
  },
  {
   "cell_type": "code",
   "execution_count": 111,
   "metadata": {
    "ExecuteTime": {
     "end_time": "2019-12-27T12:11:41.033330Z",
     "start_time": "2019-12-27T12:11:38.289291Z"
    }
   },
   "outputs": [
    {
     "name": "stdout",
     "output_type": "stream",
     "text": [
      "(47040000,)\n"
     ]
    }
   ],
   "source": [
    "all_pixels = x_train.flatten()\n",
    "print(all_pixels.shape)\n",
    "np.random.seed(42)\n",
    "np.random.shuffle(all_pixels)\n",
    "some_pixels = all_pixels[:10000]"
   ]
  },
  {
   "cell_type": "code",
   "execution_count": 113,
   "metadata": {
    "ExecuteTime": {
     "end_time": "2019-12-27T12:11:48.427394Z",
     "start_time": "2019-12-27T12:11:48.154319Z"
    }
   },
   "outputs": [
    {
     "data": {
      "text/plain": [
       "<matplotlib.axes._subplots.AxesSubplot at 0x1a3ad38b00>"
      ]
     },
     "execution_count": 113,
     "metadata": {},
     "output_type": "execute_result"
    },
    {
     "data": {
      "image/png": "[encoded data removed]",
      "text/plain": [
       "<Figure size 432x288 with 1 Axes>"
      ]
     },
     "metadata": {
      "needs_background": "light"
     },
     "output_type": "display_data"
    }
   ],
   "source": [
    "sns.distplot(some_pixels)"
   ]
  },
  {
   "cell_type": "code",
   "execution_count": 112,
   "metadata": {
    "ExecuteTime": {
     "end_time": "2019-12-27T12:11:41.330983Z",
     "start_time": "2019-12-27T12:11:41.035770Z"
    }
   },
   "outputs": [],
   "source": [
    "x_train[x_train < 100] = 0\n",
    "x_train[x_train > 150] = 1\n",
    "x_train[np.logical_and(x_train >= 100, x_train <= 150)] = 0"
   ]
  },
  {
   "cell_type": "markdown",
   "metadata": {},
   "source": [
    "## Prior probabilities"
   ]
  },
  {
   "cell_type": "markdown",
   "metadata": {},
   "source": [
    "From Bishop 1995 (Page 17): \n",
    "> If we were forced to classify a new character without being allowed to see the corresponding image, then the best we can do is to assign it to the class having the higher prior probability."
   ]
  },
  {
   "cell_type": "markdown",
   "metadata": {},
   "source": [
    "Purposefully make the two classes imbalanced to create uneven prior probabilities:"
   ]
  },
  {
   "cell_type": "code",
   "execution_count": 312,
   "metadata": {
    "ExecuteTime": {
     "end_time": "2019-12-27T13:08:09.050522Z",
     "start_time": "2019-12-27T13:08:09.038766Z"
    }
   },
   "outputs": [
    {
     "name": "stdout",
     "output_type": "stream",
     "text": [
      "6742\n",
      "6265\n"
     ]
    }
   ],
   "source": [
    "print(len(x_train[y_train == 1]))\n",
    "print(len(x_train[y_train == 7]))"
   ]
  },
  {
   "cell_type": "code",
   "execution_count": 369,
   "metadata": {
    "ExecuteTime": {
     "end_time": "2019-12-27T13:23:17.483695Z",
     "start_time": "2019-12-27T13:23:17.476117Z"
    }
   },
   "outputs": [],
   "source": [
    "ones = x_train[y_train == 1][:3000]\n",
    "sevens = x_train[y_train == 7][:2000]"
   ]
  },
  {
   "cell_type": "markdown",
   "metadata": {},
   "source": [
    "Create training set and testing set:"
   ]
  },
  {
   "cell_type": "code",
   "execution_count": 370,
   "metadata": {
    "ExecuteTime": {
     "end_time": "2019-12-27T13:23:17.852241Z",
     "start_time": "2019-12-27T13:23:17.840775Z"
    }
   },
   "outputs": [],
   "source": [
    "def train_test_split(items, p=0.9, seed=42):\n",
    "    num_items = len(items)\n",
    "    return items[:int(p * num_items)], items[int(p * num_items):]"
   ]
  },
  {
   "cell_type": "code",
   "execution_count": 371,
   "metadata": {
    "ExecuteTime": {
     "end_time": "2019-12-27T13:23:17.991737Z",
     "start_time": "2019-12-27T13:23:17.985979Z"
    }
   },
   "outputs": [],
   "source": [
    "ones_train, ones_test = train_test_split(ones)\n",
    "sevens_train, sevens_test = train_test_split(sevens)"
   ]
  },
  {
   "cell_type": "code",
   "execution_count": 372,
   "metadata": {
    "ExecuteTime": {
     "end_time": "2019-12-27T13:23:18.213078Z",
     "start_time": "2019-12-27T13:23:18.202343Z"
    }
   },
   "outputs": [
    {
     "name": "stdout",
     "output_type": "stream",
     "text": [
      "2700 300 1800 200\n"
     ]
    }
   ],
   "source": [
    "print(len(ones_train), len(ones_test), len(sevens_train), len(sevens_test))"
   ]
  },
  {
   "cell_type": "markdown",
   "metadata": {},
   "source": [
    "Compute prior probabilities:"
   ]
  },
  {
   "cell_type": "code",
   "execution_count": 373,
   "metadata": {
    "ExecuteTime": {
     "end_time": "2019-12-27T13:23:18.804681Z",
     "start_time": "2019-12-27T13:23:18.798998Z"
    }
   },
   "outputs": [],
   "source": [
    "num_digits = len(ones_train) + len(sevens_train)"
   ]
  },
  {
   "cell_type": "code",
   "execution_count": 374,
   "metadata": {
    "ExecuteTime": {
     "end_time": "2019-12-27T13:23:18.938204Z",
     "start_time": "2019-12-27T13:23:18.934939Z"
    }
   },
   "outputs": [],
   "source": [
    "P_C1 = len(ones_train) / num_digits\n",
    "P_C2 = len(sevens_train) / num_digits"
   ]
  },
  {
   "cell_type": "markdown",
   "metadata": {},
   "source": [
    "Let $C_1$ denotes the \"1\" class and $C_2$ denotes the \"7\" class:"
   ]
  },
  {
   "cell_type": "code",
   "execution_count": 375,
   "metadata": {
    "ExecuteTime": {
     "end_time": "2019-12-27T13:23:19.223516Z",
     "start_time": "2019-12-27T13:23:19.218182Z"
    }
   },
   "outputs": [
    {
     "name": "stdout",
     "output_type": "stream",
     "text": [
      "Prior probability P(C_1) = 0.6\n",
      "Prior probability P(C_2) = 0.4\n"
     ]
    }
   ],
   "source": [
    "print(r'Prior probability P(C_1) =', P_C1)\n",
    "print(r'Prior probability P(C_2) =', P_C2)"
   ]
  },
  {
   "cell_type": "markdown",
   "metadata": {},
   "source": [
    "## Class-conditioned probabilities"
   ]
  },
  {
   "cell_type": "code",
   "execution_count": 376,
   "metadata": {
    "ExecuteTime": {
     "end_time": "2019-12-27T13:23:19.499437Z",
     "start_time": "2019-12-27T13:23:19.493229Z"
    }
   },
   "outputs": [],
   "source": [
    "def get_height_weight_ratio(digit):\n",
    "    leftmost_index, rightmost_index, top_index, bottom_index = 27, 0, 27, 0\n",
    "    for i, row in enumerate(digit):\n",
    "        if 1 in row:\n",
    "\n",
    "            if i < top_index: top_index = i  # capture the topmost one\n",
    "            elif i > bottom_index: bottom_index = i  # capture the bottommost one afterwards\n",
    "\n",
    "            index_of_the_first_one = np.argmax(row)\n",
    "            index_of_the_last_one = 27 - np.argmax(np.flip(row))\n",
    "            if index_of_the_first_one < leftmost_index: leftmost_index = index_of_the_first_one\n",
    "            if index_of_the_last_one > rightmost_index: rightmost_index = index_of_the_last_one\n",
    "\n",
    "    return (bottom_index - top_index) / (rightmost_index - leftmost_index)"
   ]
  },
  {
   "cell_type": "code",
   "execution_count": 377,
   "metadata": {
    "ExecuteTime": {
     "end_time": "2019-12-27T13:23:19.654421Z",
     "start_time": "2019-12-27T13:23:19.650563Z"
    }
   },
   "outputs": [],
   "source": [
    "def get_height_weight_ratios(array_of_digits):\n",
    "    ratios = []\n",
    "    for digit in array_of_digits:\n",
    "        ratios.append(get_height_weight_ratio(digit))\n",
    "    return ratios"
   ]
  },
  {
   "cell_type": "code",
   "execution_count": 378,
   "metadata": {
    "ExecuteTime": {
     "end_time": "2019-12-27T13:23:21.149929Z",
     "start_time": "2019-12-27T13:23:20.060398Z"
    }
   },
   "outputs": [],
   "source": [
    "ones_train_ratios = get_height_weight_ratios(ones_train)\n",
    "sevens_train_ratios = get_height_weight_ratios(sevens_train)"
   ]
  },
  {
   "cell_type": "markdown",
   "metadata": {},
   "source": [
    "The overlap of the two distributions emphasizes the probabilitistic nature of pattern recognition:"
   ]
  },
  {
   "cell_type": "code",
   "execution_count": 379,
   "metadata": {
    "ExecuteTime": {
     "end_time": "2019-12-27T13:23:21.500008Z",
     "start_time": "2019-12-27T13:23:21.152305Z"
    }
   },
   "outputs": [
    {
     "data": {
      "image/png": "[encoded data removed]",
      "text/plain": [
       "<Figure size 432x288 with 1 Axes>"
      ]
     },
     "metadata": {
      "needs_background": "light"
     },
     "output_type": "display_data"
    }
   ],
   "source": [
    "sns.distplot(ones_train_ratios, label='ones')\n",
    "sns.distplot(sevens_train_ratios, label='sevens')\n",
    "plt.title(\"Height/Weight Ratios\")\n",
    "plt.xlabel('Ratios'); plt.ylabel('Probability Density')\n",
    "plt.xlim(0, 7.5); plt.grid(); plt.legend()\n",
    "plt.show()"
   ]
  },
  {
   "cell_type": "markdown",
   "metadata": {},
   "source": [
    "Scipy.stats' `guassian_kde` allows class-conditional probability densities to be computed directly."
   ]
  },
  {
   "cell_type": "code",
   "execution_count": 380,
   "metadata": {
    "ExecuteTime": {
     "end_time": "2019-12-27T13:23:21.737096Z",
     "start_time": "2019-12-27T13:23:21.505484Z"
    }
   },
   "outputs": [
    {
     "data": {
      "text/plain": [
       "<matplotlib.axes._subplots.AxesSubplot at 0x1a37e5b780>"
      ]
     },
     "execution_count": 380,
     "metadata": {},
     "output_type": "execute_result"
    },
    {
     "data": {
      "image/png": "[encoded data removed]",
      "text/plain": [
       "<Figure size 432x288 with 1 Axes>"
      ]
     },
     "metadata": {
      "needs_background": "light"
     },
     "output_type": "display_data"
    }
   ],
   "source": [
    "ones_train_ratios_kde = gaussian_kde(ones_train_ratios)  # probability density function of feature given C1\n",
    "sevens_train_ratios_kde = gaussian_kde(sevens_train_ratios)  # probability density function of feature given C2\n",
    "\n",
    "xs = np.arange(0, 8, 0.1)\n",
    "\n",
    "ones_train_ys = ones_train_ratios_kde(xs)\n",
    "sevens_train_ys = sevens_train_ratios_kde(xs)\n",
    "\n",
    "sns.lineplot(xs, ones_train_ys)\n",
    "sns.lineplot(xs, sevens_train_ys)"
   ]
  },
  {
   "cell_type": "markdown",
   "metadata": {},
   "source": [
    "## Inference - posterior probabilities"
   ]
  },
  {
   "cell_type": "code",
   "execution_count": 381,
   "metadata": {
    "ExecuteTime": {
     "end_time": "2019-12-27T13:23:21.794424Z",
     "start_time": "2019-12-27T13:23:21.787191Z"
    }
   },
   "outputs": [],
   "source": [
    "def bayesian_classifier(X):\n",
    "    \n",
    "    feature = get_height_weight_ratio(X)\n",
    "    \n",
    "    likelihood_X_given_C1 = ones_train_ratios_kde(feature)\n",
    "    posterior_C1_given_X = likelihood_X_given_C1 * P_C1\n",
    "\n",
    "    likelihood_X_given_C2 = sevens_train_ratios_kde(feature)\n",
    "    posterior_C2_given_X = likelihood_X_given_C2 * P_C2\n",
    "    \n",
    "    normalization_factor = posterior_C1_given_X + posterior_C2_given_X\n",
    "    \n",
    "    P_C1_given_X = posterior_C1_given_X / normalization_factor\n",
    "    P_C2_given_X = posterior_C2_given_X / normalization_factor\n",
    "    \n",
    "    return 1 if P_C1_given_X > P_C2_given_X else 2"
   ]
  },
  {
   "cell_type": "code",
   "execution_count": 382,
   "metadata": {
    "ExecuteTime": {
     "end_time": "2019-12-27T13:23:22.012743Z",
     "start_time": "2019-12-27T13:23:22.006400Z"
    }
   },
   "outputs": [],
   "source": [
    "def accuracy(digits, label):\n",
    "    predictions = np.array([bayesian_classifier(digit) for digit in digits])\n",
    "    acc = np.mean(predictions == label)\n",
    "    return acc"
   ]
  },
  {
   "cell_type": "code",
   "execution_count": 383,
   "metadata": {
    "ExecuteTime": {
     "end_time": "2019-12-27T13:23:22.587583Z",
     "start_time": "2019-12-27T13:23:22.333753Z"
    }
   },
   "outputs": [],
   "source": [
    "num_digits_test = len(ones_test) + len(sevens_test)\n",
    "acc_test = (accuracy(ones_test, label=1) * len(ones_test) + accuracy(sevens_test, label=2) * len(sevens_test)) / num_digits_test"
   ]
  },
  {
   "cell_type": "markdown",
   "metadata": {},
   "source": [
    "**Observation.** The classifier accuracy wins over prior probability more when the dataset is more balanced.\n",
    "- Question: what if the likelihood divide is against the prior probability?"
   ]
  },
  {
   "cell_type": "code",
   "execution_count": 384,
   "metadata": {
    "ExecuteTime": {
     "end_time": "2019-12-27T13:23:23.020208Z",
     "start_time": "2019-12-27T13:23:23.014437Z"
    }
   },
   "outputs": [
    {
     "name": "stdout",
     "output_type": "stream",
     "text": [
      "0.866\n",
      "0.6\n"
     ]
    }
   ],
   "source": [
    "print(acc_test)\n",
    "print(np.max([P_C1, P_C2]))"
   ]
  },
  {
   "cell_type": "code",
   "execution_count": 387,
   "metadata": {
    "ExecuteTime": {
     "end_time": "2019-12-27T13:24:01.515426Z",
     "start_time": "2019-12-27T13:24:01.505236Z"
    }
   },
   "outputs": [],
   "source": [
    "assert acc_test >= np.max([P_C1, P_C2])"
   ]
  },
  {
   "cell_type": "markdown",
   "metadata": {},
   "source": [
    "## More decision criteria"
   ]
  },
  {
   "cell_type": "code",
   "execution_count": null,
   "metadata": {},
   "outputs": [],
   "source": []
  }
 ],
 "metadata": {
  "kernelspec": {
   "display_name": "Python 3",
   "language": "python",
   "name": "python3"
  },
  "language_info": {
   "codemirror_mode": {
    "name": "ipython",
    "version": 3
   },
   "file_extension": ".py",
   "mimetype": "text/x-python",
   "name": "python",
   "nbconvert_exporter": "python",
   "pygments_lexer": "ipython3",
   "version": "3.6.9"
  },
  "toc": {
   "base_numbering": 1,
   "nav_menu": {},
   "number_sections": false,
   "sideBar": true,
   "skip_h1_title": false,
   "title_cell": "Table of Contents",
   "title_sidebar": "Contents",
   "toc_cell": false,
   "toc_position": {},
   "toc_section_display": true,
   "toc_window_display": true
  }
 },
 "nbformat": 4,
 "nbformat_minor": 2
}
