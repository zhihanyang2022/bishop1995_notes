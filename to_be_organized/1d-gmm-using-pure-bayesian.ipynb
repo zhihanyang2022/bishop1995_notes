{
 "cells": [
  {
   "cell_type": "markdown",
   "metadata": {},
   "source": [
    "# GMM + Bayesian Parameter Estimation + Grid search"
   ]
  },
  {
   "cell_type": "markdown",
   "metadata": {},
   "source": [
    "## Imports"
   ]
  },
  {
   "cell_type": "code",
   "execution_count": 1,
   "metadata": {
    "ExecuteTime": {
     "end_time": "2019-12-31T09:09:52.764723Z",
     "start_time": "2019-12-31T09:09:52.248128Z"
    }
   },
   "outputs": [
    {
     "name": "stderr",
     "output_type": "stream",
     "text": [
      "/Users/yangzhihan/anaconda/envs/deeplearning_googlecloud/lib/python3.6/importlib/_bootstrap.py:219: RuntimeWarning: numpy.ufunc size changed, may indicate binary incompatibility. Expected 216, got 192\n",
      "  return f(*args, **kwds)\n",
      "/Users/yangzhihan/anaconda/envs/deeplearning_googlecloud/lib/python3.6/importlib/_bootstrap.py:219: RuntimeWarning: numpy.ufunc size changed, may indicate binary incompatibility. Expected 192 from C header, got 216 from PyObject\n",
      "  return f(*args, **kwds)\n"
     ]
    }
   ],
   "source": [
    "from functools import partial\n",
    "import numpy as np\n",
    "from numpy.random import normal\n",
    "from scipy.stats import norm\n",
    "import matplotlib.pyplot as plt\n",
    "from seaborn import kdeplot as kde"
   ]
  },
  {
   "cell_type": "code",
   "execution_count": 200,
   "metadata": {
    "ExecuteTime": {
     "end_time": "2019-12-29T08:10:55.823386Z",
     "start_time": "2019-12-29T08:10:55.808804Z"
    }
   },
   "outputs": [],
   "source": [
    "def log_progress(sequence, every=None, size=None, name='Items'):\n",
    "    from ipywidgets import IntProgress, HTML, VBox\n",
    "    from IPython.display import display\n",
    "\n",
    "    is_iterator = False\n",
    "    if size is None:\n",
    "        try:\n",
    "            size = len(sequence)\n",
    "        except TypeError:\n",
    "            is_iterator = True\n",
    "    if size is not None:\n",
    "        if every is None:\n",
    "            if size <= 200:\n",
    "                every = 1\n",
    "            else:\n",
    "                every = int(size / 200)     # every 0.5%\n",
    "    else:\n",
    "        assert every is not None, 'sequence is iterator, set every'\n",
    "\n",
    "    if is_iterator:\n",
    "        progress = IntProgress(min=0, max=1, value=1)\n",
    "        progress.bar_style = 'info'\n",
    "    else:\n",
    "        progress = IntProgress(min=0, max=size, value=0)\n",
    "    label = HTML()\n",
    "    box = VBox(children=[label, progress])\n",
    "    display(box)\n",
    "\n",
    "    index = 0\n",
    "    try:\n",
    "        for index, record in enumerate(sequence, 1):\n",
    "            if index == 1 or index % every == 0:\n",
    "                if is_iterator:\n",
    "                    label.value = '{name}: {index} / ?'.format(\n",
    "                        name=name,\n",
    "                        index=index\n",
    "                    )\n",
    "                else:\n",
    "                    progress.value = index\n",
    "                    label.value = u'{name}: {index} / {size}'.format(\n",
    "                        name=name,\n",
    "                        index=index,\n",
    "                        size=size\n",
    "                    )\n",
    "            yield record\n",
    "    except:\n",
    "        progress.bar_style = 'danger'\n",
    "        raise\n",
    "    else:\n",
    "        progress.bar_style = 'success'\n",
    "        progress.value = index\n",
    "        label.value = \"{name}: {index}\".format(\n",
    "            name=name,\n",
    "            index=str(index or '?')\n",
    "        )"
   ]
  },
  {
   "cell_type": "markdown",
   "metadata": {},
   "source": [
    "## Create datasets"
   ]
  },
  {
   "cell_type": "code",
   "execution_count": 124,
   "metadata": {
    "ExecuteTime": {
     "end_time": "2019-12-29T07:58:45.723723Z",
     "start_time": "2019-12-29T07:58:45.717818Z"
    }
   },
   "outputs": [],
   "source": [
    "dist_1 = partial(normal, loc=4, scale=1)\n",
    "dist_2 = partial(normal, loc=8, scale=1)"
   ]
  },
  {
   "cell_type": "code",
   "execution_count": 149,
   "metadata": {
    "ExecuteTime": {
     "end_time": "2019-12-29T08:02:01.123517Z",
     "start_time": "2019-12-29T08:02:01.114501Z"
    }
   },
   "outputs": [],
   "source": [
    "def true_density(size):\n",
    "    mcoeffs = np.random.choice([0, 1], size=size, p=[1/3, 2/3])\n",
    "    dist_1_sample = dist_1(size=size) * mcoeffs  # 2/3\n",
    "    dist_1_sample = dist_1_sample[dist_1_sample > 0]\n",
    "    dist_2_sample = dist_2(size=size) * np.logical_not(mcoeffs)\n",
    "    dist_2_sample = dist_2_sample[dist_2_sample > 0]\n",
    "    sample = np.concatenate([dist_1_sample, dist_2_sample])\n",
    "    np.random.shuffle(sample)\n",
    "    return sample"
   ]
  },
  {
   "cell_type": "code",
   "execution_count": 171,
   "metadata": {
    "ExecuteTime": {
     "end_time": "2019-12-29T08:02:34.329235Z",
     "start_time": "2019-12-29T08:02:34.187974Z"
    }
   },
   "outputs": [
    {
     "data": {
      "image/png": "[encoded data removed]",
      "text/plain": [
       "<Figure size 432x288 with 1 Axes>"
      ]
     },
     "metadata": {
      "needs_background": "light"
     },
     "output_type": "display_data"
    }
   ],
   "source": [
    "data = true_density(100)\n",
    "kde(data); plt.show()"
   ]
  },
  {
   "cell_type": "markdown",
   "metadata": {},
   "source": [
    "## Define priors"
   ]
  },
  {
   "cell_type": "code",
   "execution_count": 677,
   "metadata": {
    "ExecuteTime": {
     "end_time": "2019-12-29T10:54:17.464891Z",
     "start_time": "2019-12-29T10:54:17.457604Z"
    }
   },
   "outputs": [],
   "source": [
    "prior_mcoeff = norm(loc=1, scale=0.5)\n",
    "prior_mu1 = norm(loc=7, scale=2)\n",
    "prior_mu2 = norm(loc=7, scale=2)"
   ]
  },
  {
   "cell_type": "code",
   "execution_count": 678,
   "metadata": {
    "ExecuteTime": {
     "end_time": "2019-12-29T10:54:17.962013Z",
     "start_time": "2019-12-29T10:54:17.956567Z"
    }
   },
   "outputs": [],
   "source": [
    "def prior(thetas):\n",
    "    probas = []\n",
    "    for i in range(thetas.shape[0]):\n",
    "        mcoeff, mu1, mu2 = thetas[i]\n",
    "        proba = prior_mcoeff.pdf(mcoeff) * prior_mu1.pdf(mu1) * prior_mu2.pdf(mu2)\n",
    "        probas.append(proba)\n",
    "    probas = np.array(probas)\n",
    "    return probas"
   ]
  },
  {
   "cell_type": "markdown",
   "metadata": {},
   "source": [
    "## Define update rule"
   ]
  },
  {
   "cell_type": "code",
   "execution_count": 679,
   "metadata": {
    "ExecuteTime": {
     "end_time": "2019-12-29T10:54:18.131824Z",
     "start_time": "2019-12-29T10:54:18.123595Z"
    }
   },
   "outputs": [],
   "source": [
    "STEPSIZE = 0.1 * 1 * 1"
   ]
  },
  {
   "cell_type": "code",
   "execution_count": 680,
   "metadata": {
    "ExecuteTime": {
     "end_time": "2019-12-29T10:54:18.217323Z",
     "start_time": "2019-12-29T10:54:18.208036Z"
    }
   },
   "outputs": [],
   "source": [
    "def normalize(densities):\n",
    "    return densities / densities.max()"
   ]
  },
  {
   "cell_type": "code",
   "execution_count": 681,
   "metadata": {
    "ExecuteTime": {
     "end_time": "2019-12-29T10:54:18.343474Z",
     "start_time": "2019-12-29T10:54:18.324873Z"
    }
   },
   "outputs": [],
   "source": [
    "def likelihood(data, thetas):\n",
    "    \n",
    "    likelihoods = []\n",
    "    for i in log_progress(list(range(thetas.shape[0])), every=10):\n",
    "    \n",
    "        mcoeff, mu1, mu2 = thetas[i]\n",
    "        model_1, model_2 = norm(loc=mu1, scale=1), norm(loc=mu2, scale=1)\n",
    "\n",
    "        likelihood_model_1 = model_1.pdf(data)\n",
    "        likelihood_model_2 = model_2.pdf(data)\n",
    "\n",
    "        likelihood = np.prod(mcoeff * likelihood_model_1 + (1 - mcoeff) * likelihood_model_2)\n",
    "        likelihoods.append(likelihood)\n",
    "        \n",
    "    likelihoods = np.array(likelihoods)\n",
    "    return likelihoods"
   ]
  },
  {
   "cell_type": "code",
   "execution_count": 682,
   "metadata": {
    "ExecuteTime": {
     "end_time": "2019-12-29T10:54:18.392550Z",
     "start_time": "2019-12-29T10:54:18.380522Z"
    }
   },
   "outputs": [],
   "source": [
    "def posterior(prior, thetas, data):\n",
    "    priors = prior(thetas)\n",
    "    likelihoods = likelihood(data, thetas)\n",
    "    unnormalized_posteriors = prior(thetas) * likelihoods\n",
    "    return priors, likelihoods, normalize(unnormalized_posteriors)"
   ]
  },
  {
   "cell_type": "markdown",
   "metadata": {},
   "source": [
    "## Training"
   ]
  },
  {
   "cell_type": "markdown",
   "metadata": {},
   "source": [
    "Set up grid search:"
   ]
  },
  {
   "cell_type": "code",
   "execution_count": 683,
   "metadata": {
    "ExecuteTime": {
     "end_time": "2019-12-29T10:54:18.646504Z",
     "start_time": "2019-12-29T10:54:18.640412Z"
    }
   },
   "outputs": [
    {
     "name": "stdout",
     "output_type": "stream",
     "text": [
      "(14, 10, 14) (14, 10, 14) (14, 10, 14)\n"
     ]
    }
   ],
   "source": [
    "mcoeffs = np.arange(0, 1, 0.1)\n",
    "mu1s = np.arange(0, 14, 1)  # does not make sense for stepsize to be greater than 1\n",
    "mu2s = np.arange(0, 14, 1)\n",
    "mcoeffs_grid, mu1s_grid, mu2s_grid = np.array(np.meshgrid(mcoeffs, mu1s, mu2s))\n",
    "print(mcoeffs_grid.shape, mu1s_grid.shape, mu2s_grid.shape)"
   ]
  },
  {
   "cell_type": "code",
   "execution_count": 684,
   "metadata": {
    "ExecuteTime": {
     "end_time": "2019-12-29T10:54:18.722134Z",
     "start_time": "2019-12-29T10:54:18.716627Z"
    }
   },
   "outputs": [
    {
     "name": "stdout",
     "output_type": "stream",
     "text": [
      "(1960, 3)\n"
     ]
    }
   ],
   "source": [
    "thetas = np.vstack([mcoeffs_grid.flatten(), mu1s_grid.flatten(), mu2s_grid.flatten()]).T\n",
    "print(thetas.shape)"
   ]
  },
  {
   "cell_type": "markdown",
   "metadata": {},
   "source": [
    "Training:"
   ]
  },
  {
   "cell_type": "code",
   "execution_count": 697,
   "metadata": {
    "ExecuteTime": {
     "end_time": "2019-12-29T10:55:29.555062Z",
     "start_time": "2019-12-29T10:55:29.547571Z"
    }
   },
   "outputs": [],
   "source": [
    "num_examples = 10  # too big leads to underflow"
   ]
  },
  {
   "cell_type": "code",
   "execution_count": 698,
   "metadata": {
    "ExecuteTime": {
     "end_time": "2019-12-29T10:55:35.436263Z",
     "start_time": "2019-12-29T10:55:29.732198Z"
    }
   },
   "outputs": [
    {
     "data": {
      "application/vnd.jupyter.widget-view+json": {
       "model_id": "490e4409d0754e20b2e9e7afff6bbd93",
       "version_major": 2,
       "version_minor": 0
      },
      "text/plain": [
       "VBox(children=(HTML(value=''), IntProgress(value=0, max=1960)))"
      ]
     },
     "metadata": {},
     "output_type": "display_data"
    }
   ],
   "source": [
    "gen = true_density(size=num_examples)\n",
    "priors, likelihoods, posteriors = posterior(prior, thetas, gen)"
   ]
  },
  {
   "cell_type": "code",
   "execution_count": 699,
   "metadata": {
    "ExecuteTime": {
     "end_time": "2019-12-29T10:55:35.445812Z",
     "start_time": "2019-12-29T10:55:35.438521Z"
    }
   },
   "outputs": [],
   "source": [
    "grid_shape = (len(mu1s), len(mcoeffs), len(mu2s))\n",
    "priors = priors.reshape(grid_shape)\n",
    "likelihoods = likelihoods.reshape(grid_shape)\n",
    "posteriors = posteriors.reshape(grid_shape)\n",
    "\n",
    "priors_section = priors[:,0,:]\n",
    "likelihoods_section = likelihoods[:,4,:]\n",
    "posteriors_section = posteriors[:,4,:]"
   ]
  },
  {
   "cell_type": "markdown",
   "metadata": {},
   "source": [
    "Find axis of non-repetition:"
   ]
  },
  {
   "cell_type": "code",
   "execution_count": 700,
   "metadata": {
    "ExecuteTime": {
     "end_time": "2019-12-29T10:55:35.459714Z",
     "start_time": "2019-12-29T10:55:35.449199Z"
    }
   },
   "outputs": [
    {
     "name": "stdout",
     "output_type": "stream",
     "text": [
      "[0.  0.1 0.2 0.3 0.4 0.5 0.6 0.7 0.8 0.9]\n",
      "[ 0.  1.  2.  3.  4.  5.  6.  7.  8.  9. 10. 11. 12. 13.]\n",
      "[ 0.  1.  2.  3.  4.  5.  6.  7.  8.  9. 10. 11. 12. 13.]\n"
     ]
    }
   ],
   "source": [
    "print(mcoeffs_grid[0, :, 0])\n",
    "print(mu1s_grid[:, 0, 0])\n",
    "print(mu2s_grid[0, 0, :])"
   ]
  },
  {
   "cell_type": "markdown",
   "metadata": {},
   "source": [
    "ML and MAP solutions:"
   ]
  },
  {
   "cell_type": "code",
   "execution_count": 701,
   "metadata": {
    "ExecuteTime": {
     "end_time": "2019-12-29T10:55:35.467549Z",
     "start_time": "2019-12-29T10:55:35.463197Z"
    }
   },
   "outputs": [],
   "source": [
    "def argmax_nd(array):\n",
    "    return np.unravel_index(array.argmax(), array.shape)"
   ]
  },
  {
   "cell_type": "code",
   "execution_count": 713,
   "metadata": {
    "ExecuteTime": {
     "end_time": "2019-12-29T10:56:56.264290Z",
     "start_time": "2019-12-29T10:56:56.258297Z"
    }
   },
   "outputs": [
    {
     "name": "stdout",
     "output_type": "stream",
     "text": [
      "(7, 3, 4)\n"
     ]
    }
   ],
   "source": [
    "ML = argmax_nd(likelihoods)\n",
    "print(ML)  # second value can be both 3 and 7"
   ]
  },
  {
   "cell_type": "code",
   "execution_count": 714,
   "metadata": {
    "ExecuteTime": {
     "end_time": "2019-12-29T10:56:56.876407Z",
     "start_time": "2019-12-29T10:56:56.869483Z"
    }
   },
   "outputs": [
    {
     "name": "stdout",
     "output_type": "stream",
     "text": [
      "(4, 7, 7)\n"
     ]
    }
   ],
   "source": [
    "MAP = argmax_nd(posteriors)\n",
    "print(MAP)"
   ]
  },
  {
   "cell_type": "markdown",
   "metadata": {},
   "source": [
    "Plot prior, likelihood and posterior distributions over means:"
   ]
  },
  {
   "cell_type": "code",
   "execution_count": 718,
   "metadata": {
    "ExecuteTime": {
     "end_time": "2019-12-29T10:57:45.330112Z",
     "start_time": "2019-12-29T10:57:44.869613Z"
    }
   },
   "outputs": [
    {
     "data": {
      "image/png": "[encoded data removed]",
      "text/plain": [
       "<Figure size 1440x504 with 3 Axes>"
      ]
     },
     "metadata": {
      "needs_background": "light"
     },
     "output_type": "display_data"
    }
   ],
   "source": [
    "fig = plt.figure(figsize=(20, 7))\n",
    "\n",
    "ax1 = fig.add_subplot(1, 3, 1)\n",
    "ax2 = fig.add_subplot(1, 3, 2)\n",
    "ax3 = fig.add_subplot(1, 3, 3)\n",
    "\n",
    "ax1.matshow(priors_section)\n",
    "ax2.matshow(likelihoods_section)\n",
    "ax3.matshow(posteriors_section)\n",
    "\n",
    "ax1.set_title(r'Prior over $\\mu_1$ and $\\mu_2$', pad=10)\n",
    "ax2.set_title(f'Likelihood - after {num_examples} examples', pad=10)\n",
    "ax3.set_title(f'Posterior - after {num_examples} examples', pad=10)\n",
    "\n",
    "for ax in [ax1, ax2, ax3]:\n",
    "    ax.set_xticks(np.arange(0, len(mu1s), 1))\n",
    "    ax.set_yticks(np.arange(0, len(mu2s), 1))\n",
    "\n",
    "plt.show()"
   ]
  },
  {
   "cell_type": "markdown",
   "metadata": {},
   "source": [
    "Plot prior, likelihood and posterior distributions over the mixing coefficient:"
   ]
  },
  {
   "cell_type": "code",
   "execution_count": 719,
   "metadata": {
    "ExecuteTime": {
     "end_time": "2019-12-29T10:57:45.911818Z",
     "start_time": "2019-12-29T10:57:45.758144Z"
    }
   },
   "outputs": [
    {
     "data": {
      "image/png": "[encoded data removed]",
      "text/plain": [
       "<Figure size 432x288 with 1 Axes>"
      ]
     },
     "metadata": {
      "needs_background": "light"
     },
     "output_type": "display_data"
    }
   ],
   "source": [
    "plt.plot(mcoeffs, priors[4,:,8] / priors[4,:,8].max(), label='prior')  \n",
    "plt.scatter(mcoeffs, priors[4,:,8] / priors[4,:,8].max())\n",
    "\n",
    "plt.plot(mcoeffs, likelihoods[4,:,8] / likelihoods[4,:,8].max(), label='likelihood')  \n",
    "plt.scatter(mcoeffs, likelihoods[4,:,8] / likelihoods[4,:,8].max())\n",
    "\n",
    "plt.plot(mcoeffs, posteriors[4,:,8] / posteriors[4,:,8].max(), label='posterior')\n",
    "plt.scatter(mcoeffs, posteriors[4,:,8] / posteriors[4,:,8].max())\n",
    "           \n",
    "plt.xlabel(r'Mixing Coefficient 1, $\\pi_1$'); plt.ylabel('Weight')\n",
    "plt.grid(); plt.legend()\n",
    "plt.show()"
   ]
  },
  {
   "cell_type": "code",
   "execution_count": null,
   "metadata": {},
   "outputs": [],
   "source": []
  },
  {
   "cell_type": "code",
   "execution_count": null,
   "metadata": {},
   "outputs": [],
   "source": []
  }
 ],
 "metadata": {
  "kernelspec": {
   "display_name": "Python 3",
   "language": "python",
   "name": "python3"
  },
  "language_info": {
   "codemirror_mode": {
    "name": "ipython",
    "version": 3
   },
   "file_extension": ".py",
   "mimetype": "text/x-python",
   "name": "python",
   "nbconvert_exporter": "python",
   "pygments_lexer": "ipython3",
   "version": "3.6.9"
  },
  "toc": {
   "base_numbering": 1,
   "nav_menu": {},
   "number_sections": false,
   "sideBar": true,
   "skip_h1_title": false,
   "title_cell": "Table of Contents",
   "title_sidebar": "Contents",
   "toc_cell": false,
   "toc_position": {},
   "toc_section_display": true,
   "toc_window_display": true
  }
 },
 "nbformat": 4,
 "nbformat_minor": 2
}
