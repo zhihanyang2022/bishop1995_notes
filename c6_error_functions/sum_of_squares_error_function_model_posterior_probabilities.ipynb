{
 "cells": [
  {
   "cell_type": "code",
   "execution_count": 19,
   "metadata": {
    "ExecuteTime": {
     "end_time": "2020-04-30T00:38:57.518569Z",
     "start_time": "2020-04-30T00:38:57.507365Z"
    }
   },
   "outputs": [],
   "source": [
    "import numpy as np\n",
    "from scipy.stats import norm\n",
    "import matplotlib.pyplot as plt\n",
    "import seaborn as sns\n",
    "\n",
    "import torch\n",
    "import torch.nn as nn\n",
    "import torch.optim as optim\n",
    "from torch.utils.data import TensorDataset, DataLoader\n",
    "\n",
    "import sys\n",
    "sys.path.append('../modules_for_nn_training')\n",
    "from callbacks import CallbackHandler\n",
    "from learner import Learner\n",
    "from trainer import Trainer\n",
    "from utility_callbacks import LossCallback"
   ]
  },
  {
   "cell_type": "markdown",
   "metadata": {},
   "source": [
    "## Create dataset"
   ]
  },
  {
   "cell_type": "code",
   "execution_count": 3,
   "metadata": {
    "ExecuteTime": {
     "end_time": "2020-04-30T00:38:29.753847Z",
     "start_time": "2020-04-30T00:38:29.749190Z"
    }
   },
   "outputs": [],
   "source": [
    "priors = [0.7, 0.3]"
   ]
  },
  {
   "cell_type": "code",
   "execution_count": 4,
   "metadata": {
    "ExecuteTime": {
     "end_time": "2020-04-30T00:38:29.767051Z",
     "start_time": "2020-04-30T00:38:29.757457Z"
    }
   },
   "outputs": [],
   "source": [
    "class1_gen = norm(loc=-1, scale=0.5)\n",
    "class2_gen = norm(loc=1, scale=0.5)\n",
    "gens = [class1_gen, class2_gen]"
   ]
  },
  {
   "cell_type": "code",
   "execution_count": 5,
   "metadata": {
    "ExecuteTime": {
     "end_time": "2020-04-30T00:38:29.781793Z",
     "start_time": "2020-04-30T00:38:29.771657Z"
    }
   },
   "outputs": [],
   "source": [
    "class1_xs = class1_gen.rvs(int(50000 * priors[0]))\n",
    "class2_xs = class2_gen.rvs(int(50000 * priors[1]))"
   ]
  },
  {
   "cell_type": "code",
   "execution_count": 6,
   "metadata": {
    "ExecuteTime": {
     "end_time": "2020-04-30T00:38:30.054538Z",
     "start_time": "2020-04-30T00:38:29.784088Z"
    }
   },
   "outputs": [
    {
     "data": {
      "image/png": "[encoded data removed]",
      "text/plain": [
       "<Figure size 432x288 with 1 Axes>"
      ]
     },
     "metadata": {
      "needs_background": "light"
     },
     "output_type": "display_data"
    }
   ],
   "source": [
    "sns.kdeplot(class1_xs)\n",
    "sns.kdeplot(class2_xs)\n",
    "plt.show()"
   ]
  },
  {
   "cell_type": "markdown",
   "metadata": {},
   "source": [
    "## Prediction using Bayes' rule"
   ]
  },
  {
   "cell_type": "code",
   "execution_count": 43,
   "metadata": {
    "ExecuteTime": {
     "end_time": "2020-04-30T00:38:30.068550Z",
     "start_time": "2020-04-30T00:38:30.059458Z"
    }
   },
   "outputs": [],
   "source": [
    "def p_class_given_x(klass, x):\n",
    "    return (gens[klass].pdf(x) * priors[klass]) / (gens[0].pdf(x) * priors[0] + gens[1].pdf(x) * priors[1])"
   ]
  },
  {
   "cell_type": "code",
   "execution_count": 44,
   "metadata": {
    "ExecuteTime": {
     "end_time": "2020-04-30T00:38:30.144018Z",
     "start_time": "2020-04-30T00:38:30.070321Z"
    }
   },
   "outputs": [],
   "source": [
    "xs = np.linspace(-3, 3, 100)\n",
    "likelihoods_c2 = [gens[1].pdf(x) for x in xs]\n",
    "posteriors_c2 = [p_class_given_x(klass=1, x=x) for x in xs]"
   ]
  },
  {
   "cell_type": "code",
   "execution_count": 45,
   "metadata": {
    "ExecuteTime": {
     "end_time": "2020-04-30T00:38:30.252196Z",
     "start_time": "2020-04-30T00:38:30.147846Z"
    }
   },
   "outputs": [
    {
     "data": {
      "image/png": "[encoded data removed]",
      "text/plain": [
       "<Figure size 432x288 with 1 Axes>"
      ]
     },
     "metadata": {
      "needs_background": "light"
     },
     "output_type": "display_data"
    }
   ],
   "source": [
    "plt.plot(xs, posteriors_c2)\n",
    "plt.show()"
   ]
  },
  {
   "cell_type": "markdown",
   "metadata": {},
   "source": [
    "## Prepare dataset for neural network"
   ]
  },
  {
   "cell_type": "code",
   "execution_count": 10,
   "metadata": {
    "ExecuteTime": {
     "end_time": "2020-04-30T00:38:30.262504Z",
     "start_time": "2020-04-30T00:38:30.256767Z"
    }
   },
   "outputs": [],
   "source": [
    "all_xs = np.vstack([class1_xs.reshape(-1, 1), class2_xs.reshape(-1, 1)])\n",
    "all_ys = np.vstack([np.zeros((len(class1_xs), 1)), np.ones((len(class2_xs), 1))])"
   ]
  },
  {
   "cell_type": "code",
   "execution_count": 11,
   "metadata": {
    "ExecuteTime": {
     "end_time": "2020-04-30T00:38:30.272793Z",
     "start_time": "2020-04-30T00:38:30.266177Z"
    }
   },
   "outputs": [],
   "source": [
    "def train_test_split(xs, ys, train_prop):\n",
    "    train_num = int(train_prop * len(xs))\n",
    "    idxs = np.arange(len(xs))\n",
    "    np.random.shuffle(idxs)\n",
    "    train_idxs, valid_idxs = sorted(idxs[:train_num]), sorted(idxs[train_num:])\n",
    "    return (xs[train_idxs], ys[train_idxs]), (xs[valid_idxs], ys[valid_idxs])"
   ]
  },
  {
   "cell_type": "code",
   "execution_count": 12,
   "metadata": {
    "ExecuteTime": {
     "end_time": "2020-04-30T00:38:30.386373Z",
     "start_time": "2020-04-30T00:38:30.276144Z"
    }
   },
   "outputs": [],
   "source": [
    "(x_train, y_train), (x_valid, y_valid) = train_test_split(all_xs, all_ys, train_prop=0.8)"
   ]
  },
  {
   "cell_type": "code",
   "execution_count": 13,
   "metadata": {
    "ExecuteTime": {
     "end_time": "2020-04-30T00:38:30.395182Z",
     "start_time": "2020-04-30T00:38:30.388767Z"
    }
   },
   "outputs": [],
   "source": [
    "x_train, y_train, x_valid, y_valid = map(torch.Tensor, [x_train, y_train, x_valid, y_valid])"
   ]
  },
  {
   "cell_type": "code",
   "execution_count": 14,
   "metadata": {
    "ExecuteTime": {
     "end_time": "2020-04-30T00:38:30.411190Z",
     "start_time": "2020-04-30T00:38:30.399138Z"
    }
   },
   "outputs": [],
   "source": [
    "train_ds, valid_ds = TensorDataset(x_train, y_train), TensorDataset(x_valid, y_valid)\n",
    "train_dl, valid_dl = DataLoader(train_ds, batch_size=64, shuffle=True), DataLoader(valid_ds, batch_size=128)"
   ]
  },
  {
   "cell_type": "markdown",
   "metadata": {},
   "source": [
    "## Train neural network"
   ]
  },
  {
   "cell_type": "code",
   "execution_count": 15,
   "metadata": {
    "ExecuteTime": {
     "end_time": "2020-04-30T00:38:30.431630Z",
     "start_time": "2020-04-30T00:38:30.419293Z"
    }
   },
   "outputs": [],
   "source": [
    "class NN(nn.Module):\n",
    "    \n",
    "    def __init__(self, num_layers):\n",
    "        \n",
    "        super().__init__()\n",
    "        \n",
    "        input_layer = [nn.Linear(1, 64), nn.ReLU()]\n",
    "        hidden_layers = []\n",
    "        for i in range(num_layers):\n",
    "            hidden_layers.append(nn.Linear(64, 64))\n",
    "            hidden_layers.append(nn.ReLU())\n",
    "        output_layer = [nn.Linear(64, 1)]\n",
    "        \n",
    "        self.network = nn.ModuleList(input_layer + hidden_layers + output_layer)\n",
    "        \n",
    "    def forward(self, xs):\n",
    "        for l in self.network:\n",
    "            xs = l(xs)\n",
    "        return xs"
   ]
  },
  {
   "cell_type": "code",
   "execution_count": 16,
   "metadata": {
    "ExecuteTime": {
     "end_time": "2020-04-30T00:38:59.542978Z",
     "start_time": "2020-04-30T00:38:59.538922Z"
    }
   },
   "outputs": [],
   "source": [
    "def get_model(num_components):\n",
    "    nn = NN(num_layers=3)\n",
    "    return nn, optim.Adam(nn.parameters(), lr=0.01)"
   ]
  },
  {
   "cell_type": "code",
   "execution_count": 17,
   "metadata": {
    "ExecuteTime": {
     "end_time": "2020-04-30T00:40:15.571439Z",
     "start_time": "2020-04-30T00:40:15.566858Z"
    }
   },
   "outputs": [],
   "source": [
    "def sum_of_squares(yhats, ys):\n",
    "    return torch.sum((yhats - ys) ** 2)"
   ]
  },
  {
   "cell_type": "code",
   "execution_count": 21,
   "metadata": {},
   "outputs": [],
   "source": [
    "num_components = 4\n",
    "\n",
    "model, opt = get_model(num_components)\n",
    "learn = Learner(train_dl, valid_dl, model, sum_of_squares, opt)\n",
    "\n",
    "loss_cb = LossCallback()\n",
    "cb_handler = CallbackHandler(cbs=[loss_cb])\n",
    "\n",
    "trainer = Trainer(learn=learn, cb_handler=cb_handler)"
   ]
  },
  {
   "cell_type": "code",
   "execution_count": 23,
   "metadata": {},
   "outputs": [
    {
     "data": {
      "image/png": "[encoded data removed]",
      "text/plain": [
       "<Figure size 432x288 with 1 Axes>"
      ]
     },
     "metadata": {
      "needs_background": "light"
     },
     "output_type": "display_data"
    }
   ],
   "source": [
    "trainer.find_lr(beta=0.98, final_value=10, num_itr=300)"
   ]
  },
  {
   "cell_type": "code",
   "execution_count": 24,
   "metadata": {},
   "outputs": [
    {
     "data": {
      "application/vnd.jupyter.widget-view+json": {
       "model_id": "40ccd411c60341bead00c3bf9548cdc1",
       "version_major": 2,
       "version_minor": 0
      },
      "text/plain": [
       "HBox(children=(IntProgress(value=0, description='Overall Progress', max=5, style=ProgressStyle(description_wid…"
      ]
     },
     "metadata": {},
     "output_type": "display_data"
    },
    {
     "data": {
      "application/vnd.jupyter.widget-view+json": {
       "model_id": "",
       "version_major": 2,
       "version_minor": 0
      },
      "text/plain": [
       "HBox(children=(IntProgress(value=0, description='Training', max=625, style=ProgressStyle(description_width='in…"
      ]
     },
     "metadata": {},
     "output_type": "display_data"
    },
    {
     "data": {
      "application/vnd.jupyter.widget-view+json": {
       "model_id": "",
       "version_major": 2,
       "version_minor": 0
      },
      "text/plain": [
       "HBox(children=(IntProgress(value=0, description='Validation', max=79, style=ProgressStyle(description_width='i…"
      ]
     },
     "metadata": {},
     "output_type": "display_data"
    },
    {
     "data": {
      "application/vnd.jupyter.widget-view+json": {
       "model_id": "",
       "version_major": 2,
       "version_minor": 0
      },
      "text/plain": [
       "HBox(children=(IntProgress(value=0, description='Training', max=625, style=ProgressStyle(description_width='in…"
      ]
     },
     "metadata": {},
     "output_type": "display_data"
    },
    {
     "data": {
      "application/vnd.jupyter.widget-view+json": {
       "model_id": "",
       "version_major": 2,
       "version_minor": 0
      },
      "text/plain": [
       "HBox(children=(IntProgress(value=0, description='Validation', max=79, style=ProgressStyle(description_width='i…"
      ]
     },
     "metadata": {},
     "output_type": "display_data"
    },
    {
     "data": {
      "application/vnd.jupyter.widget-view+json": {
       "model_id": "",
       "version_major": 2,
       "version_minor": 0
      },
      "text/plain": [
       "HBox(children=(IntProgress(value=0, description='Training', max=625, style=ProgressStyle(description_width='in…"
      ]
     },
     "metadata": {},
     "output_type": "display_data"
    },
    {
     "data": {
      "application/vnd.jupyter.widget-view+json": {
       "model_id": "",
       "version_major": 2,
       "version_minor": 0
      },
      "text/plain": [
       "HBox(children=(IntProgress(value=0, description='Validation', max=79, style=ProgressStyle(description_width='i…"
      ]
     },
     "metadata": {},
     "output_type": "display_data"
    },
    {
     "data": {
      "application/vnd.jupyter.widget-view+json": {
       "model_id": "",
       "version_major": 2,
       "version_minor": 0
      },
      "text/plain": [
       "HBox(children=(IntProgress(value=0, description='Training', max=625, style=ProgressStyle(description_width='in…"
      ]
     },
     "metadata": {},
     "output_type": "display_data"
    },
    {
     "data": {
      "application/vnd.jupyter.widget-view+json": {
       "model_id": "",
       "version_major": 2,
       "version_minor": 0
      },
      "text/plain": [
       "HBox(children=(IntProgress(value=0, description='Validation', max=79, style=ProgressStyle(description_width='i…"
      ]
     },
     "metadata": {},
     "output_type": "display_data"
    },
    {
     "data": {
      "application/vnd.jupyter.widget-view+json": {
       "model_id": "",
       "version_major": 2,
       "version_minor": 0
      },
      "text/plain": [
       "HBox(children=(IntProgress(value=0, description='Training', max=625, style=ProgressStyle(description_width='in…"
      ]
     },
     "metadata": {},
     "output_type": "display_data"
    },
    {
     "data": {
      "application/vnd.jupyter.widget-view+json": {
       "model_id": "",
       "version_major": 2,
       "version_minor": 0
      },
      "text/plain": [
       "HBox(children=(IntProgress(value=0, description='Validation', max=79, style=ProgressStyle(description_width='i…"
      ]
     },
     "metadata": {},
     "output_type": "display_data"
    },
    {
     "name": "stdout",
     "output_type": "stream",
     "text": [
      "\n"
     ]
    }
   ],
   "source": [
    "trainer.set_lr(7e-4)\n",
    "trainer.train(num_epoch=5)"
   ]
  },
  {
   "cell_type": "code",
   "execution_count": 25,
   "metadata": {},
   "outputs": [
    {
     "data": {
      "image/png": "[encoded data removed]",
      "text/plain": [
       "<Figure size 432x288 with 1 Axes>"
      ]
     },
     "metadata": {
      "needs_background": "light"
     },
     "output_type": "display_data"
    }
   ],
   "source": [
    "loss_cb.plot()\n",
    "plt.show()"
   ]
  },
  {
   "cell_type": "code",
   "execution_count": 58,
   "metadata": {},
   "outputs": [],
   "source": [
    "# trainer.save_as_pth('sum_of_squares_error_function_model_posterior_probabilities.pth')"
   ]
  },
  {
   "cell_type": "code",
   "execution_count": 63,
   "metadata": {},
   "outputs": [],
   "source": [
    "trainer.load_from_pth('sum_of_squares_error_function_model_posterior_probabilities.pth')"
   ]
  },
  {
   "cell_type": "code",
   "execution_count": 64,
   "metadata": {},
   "outputs": [
    {
     "data": {
      "image/png": "[encoded data removed]",
      "text/plain": [
       "<Figure size 432x288 with 1 Axes>"
      ]
     },
     "metadata": {
      "needs_background": "light"
     },
     "output_type": "display_data"
    }
   ],
   "source": [
    "plt.plot(\n",
    "    np.linspace(-3, 3, 100), \n",
    "    model(torch.Tensor(np.linspace(-3, 3, 100).reshape(-1, 1))).detach().numpy().flatten(),\n",
    "    '--'\n",
    ")\n",
    "plt.plot(xs, posteriors_c2, '--')\n",
    "plt.show()"
   ]
  },
  {
   "cell_type": "code",
   "execution_count": 65,
   "metadata": {},
   "outputs": [
    {
     "data": {
      "text/plain": [
       "1.0107701"
      ]
     },
     "execution_count": 65,
     "metadata": {},
     "output_type": "execute_result"
    }
   ],
   "source": [
    "np.max(model(torch.Tensor(np.linspace(-3, 3, 100).reshape(-1, 1))).detach().numpy().flatten())"
   ]
  },
  {
   "cell_type": "code",
   "execution_count": null,
   "metadata": {},
   "outputs": [],
   "source": []
  },
  {
   "cell_type": "code",
   "execution_count": null,
   "metadata": {},
   "outputs": [],
   "source": []
  }
 ],
 "metadata": {
  "kernelspec": {
   "display_name": "Python 3",
   "language": "python",
   "name": "python3"
  },
  "language_info": {
   "codemirror_mode": {
    "name": "ipython",
    "version": 3
   },
   "file_extension": ".py",
   "mimetype": "text/x-python",
   "name": "python",
   "nbconvert_exporter": "python",
   "pygments_lexer": "ipython3",
   "version": "3.7.6"
  },
  "toc": {
   "base_numbering": 1,
   "nav_menu": {},
   "number_sections": false,
   "sideBar": true,
   "skip_h1_title": false,
   "title_cell": "Table of Contents",
   "title_sidebar": "Contents",
   "toc_cell": false,
   "toc_position": {},
   "toc_section_display": true,
   "toc_window_display": false
  },
  "varInspector": {
   "cols": {
    "lenName": 16,
    "lenType": 16,
    "lenVar": 40
   },
   "kernels_config": {
    "python": {
     "delete_cmd_postfix": "",
     "delete_cmd_prefix": "del ",
     "library": "var_list.py",
     "varRefreshCmd": "print(var_dic_list())"
    },
    "r": {
     "delete_cmd_postfix": ") ",
     "delete_cmd_prefix": "rm(",
     "library": "var_list.r",
     "varRefreshCmd": "cat(var_dic_list()) "
    }
   },
   "types_to_exclude": [
    "module",
    "function",
    "builtin_function_or_method",
    "instance",
    "_Feature"
   ],
   "window_display": false
  }
 },
 "nbformat": 4,
 "nbformat_minor": 2
}
