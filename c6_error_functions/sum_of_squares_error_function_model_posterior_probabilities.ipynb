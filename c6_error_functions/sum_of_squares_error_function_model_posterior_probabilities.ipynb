{
 "cells": [
  {
   "cell_type": "code",
   "execution_count": 161,
   "metadata": {
    "ExecuteTime": {
     "end_time": "2020-04-30T00:38:57.518569Z",
     "start_time": "2020-04-30T00:38:57.507365Z"
    }
   },
   "outputs": [],
   "source": [
    "import numpy as np\n",
    "from scipy.stats import norm\n",
    "import matplotlib.pyplot as plt\n",
    "import seaborn as sns\n",
    "\n",
    "import torch\n",
    "import torch.nn as nn\n",
    "import torch.optim as optim\n",
    "from torch.utils.data import TensorDataset, DataLoader"
   ]
  },
  {
   "cell_type": "markdown",
   "metadata": {},
   "source": [
    "## Create dataset"
   ]
  },
  {
   "cell_type": "code",
   "execution_count": 147,
   "metadata": {
    "ExecuteTime": {
     "end_time": "2020-04-30T00:38:29.753847Z",
     "start_time": "2020-04-30T00:38:29.749190Z"
    }
   },
   "outputs": [],
   "source": [
    "priors = [0.7, 0.3]"
   ]
  },
  {
   "cell_type": "code",
   "execution_count": 148,
   "metadata": {
    "ExecuteTime": {
     "end_time": "2020-04-30T00:38:29.767051Z",
     "start_time": "2020-04-30T00:38:29.757457Z"
    }
   },
   "outputs": [],
   "source": [
    "class1_gen = norm(loc=-1, scale=0.5)\n",
    "class2_gen = norm(loc=1, scale=0.5)\n",
    "gens = [class1_gen, class2_gen]"
   ]
  },
  {
   "cell_type": "code",
   "execution_count": 149,
   "metadata": {
    "ExecuteTime": {
     "end_time": "2020-04-30T00:38:29.781793Z",
     "start_time": "2020-04-30T00:38:29.771657Z"
    }
   },
   "outputs": [],
   "source": [
    "class1_xs = class1_gen.rvs(int(50000 * priors[0]))\n",
    "class2_xs = class2_gen.rvs(int(50000 * priors[1]))"
   ]
  },
  {
   "cell_type": "code",
   "execution_count": 150,
   "metadata": {
    "ExecuteTime": {
     "end_time": "2020-04-30T00:38:30.054538Z",
     "start_time": "2020-04-30T00:38:29.784088Z"
    }
   },
   "outputs": [
    {
     "data": {
      "image/png": "[encoded data removed]",
      "text/plain": [
       "<Figure size 432x288 with 1 Axes>"
      ]
     },
     "metadata": {
      "needs_background": "light"
     },
     "output_type": "display_data"
    }
   ],
   "source": [
    "sns.kdeplot(class1_xs)\n",
    "sns.kdeplot(class2_xs)\n",
    "plt.show()"
   ]
  },
  {
   "cell_type": "markdown",
   "metadata": {},
   "source": [
    "## Prediction using Bayes' rule"
   ]
  },
  {
   "cell_type": "code",
   "execution_count": 151,
   "metadata": {
    "ExecuteTime": {
     "end_time": "2020-04-30T00:38:30.068550Z",
     "start_time": "2020-04-30T00:38:30.059458Z"
    }
   },
   "outputs": [],
   "source": [
    "def p_class_given_x(klass, x):\n",
    "    return (gens[klass].pdf(x) * priors[klass]) / (gens[0].pdf(x) + gens[1].pdf(x))"
   ]
  },
  {
   "cell_type": "code",
   "execution_count": 152,
   "metadata": {
    "ExecuteTime": {
     "end_time": "2020-04-30T00:38:30.144018Z",
     "start_time": "2020-04-30T00:38:30.070321Z"
    }
   },
   "outputs": [],
   "source": [
    "xs = np.linspace(-3, 3, 100)\n",
    "likelihoods_c1 = [gens[0].pdf(x) for x in xs]\n",
    "posteriors_c1 = [p_class_given_x(klass=0, x=x) for x in xs]"
   ]
  },
  {
   "cell_type": "code",
   "execution_count": 153,
   "metadata": {
    "ExecuteTime": {
     "end_time": "2020-04-30T00:38:30.252196Z",
     "start_time": "2020-04-30T00:38:30.147846Z"
    }
   },
   "outputs": [
    {
     "data": {
      "image/png": "[encoded data removed]",
      "text/plain": [
       "<Figure size 432x288 with 1 Axes>"
      ]
     },
     "metadata": {
      "needs_background": "light"
     },
     "output_type": "display_data"
    }
   ],
   "source": [
    "plt.plot(xs, posteriors_c1)\n",
    "plt.show()"
   ]
  },
  {
   "cell_type": "markdown",
   "metadata": {},
   "source": [
    "## Prepare dataset for neural network"
   ]
  },
  {
   "cell_type": "code",
   "execution_count": 154,
   "metadata": {
    "ExecuteTime": {
     "end_time": "2020-04-30T00:38:30.262504Z",
     "start_time": "2020-04-30T00:38:30.256767Z"
    }
   },
   "outputs": [],
   "source": [
    "all_xs = np.vstack([class1_xs.reshape(-1, 1), class2_xs.reshape(-1, 1)])\n",
    "all_ys = np.vstack([np.zeros((len(class1_xs), 1)), np.ones((len(class2_xs), 1))])"
   ]
  },
  {
   "cell_type": "code",
   "execution_count": 155,
   "metadata": {
    "ExecuteTime": {
     "end_time": "2020-04-30T00:38:30.272793Z",
     "start_time": "2020-04-30T00:38:30.266177Z"
    }
   },
   "outputs": [],
   "source": [
    "def train_test_split(xs, ys, train_prop):\n",
    "    train_num = int(train_prop * len(xs))\n",
    "    idxs = np.arange(len(xs))\n",
    "    np.random.shuffle(idxs)\n",
    "    train_idxs, valid_idxs = sorted(idxs[:train_num]), sorted(idxs[train_num:])\n",
    "    return (xs[train_idxs], ys[train_idxs]), (xs[valid_idxs], ys[valid_idxs])"
   ]
  },
  {
   "cell_type": "code",
   "execution_count": 156,
   "metadata": {
    "ExecuteTime": {
     "end_time": "2020-04-30T00:38:30.386373Z",
     "start_time": "2020-04-30T00:38:30.276144Z"
    }
   },
   "outputs": [],
   "source": [
    "(x_train, y_train), (x_valid, y_valid) = train_test_split(all_xs, all_ys, train_prop=0.8)"
   ]
  },
  {
   "cell_type": "code",
   "execution_count": 157,
   "metadata": {
    "ExecuteTime": {
     "end_time": "2020-04-30T00:38:30.395182Z",
     "start_time": "2020-04-30T00:38:30.388767Z"
    }
   },
   "outputs": [],
   "source": [
    "x_train, y_train, x_valid, y_valid = map(torch.Tensor, [x_train, y_train, x_valid, y_valid])"
   ]
  },
  {
   "cell_type": "code",
   "execution_count": 158,
   "metadata": {
    "ExecuteTime": {
     "end_time": "2020-04-30T00:38:30.411190Z",
     "start_time": "2020-04-30T00:38:30.399138Z"
    }
   },
   "outputs": [],
   "source": [
    "train_ds, valid_ds = TensorDataset(x_train, y_train), TensorDataset(x_valid, y_valid)\n",
    "train_dl, valid_dl = DataLoader(train_ds, batch_size=64, shuffle=True), DataLoader(valid_ds, batch_size=128)"
   ]
  },
  {
   "cell_type": "markdown",
   "metadata": {},
   "source": [
    "## Train neural network"
   ]
  },
  {
   "cell_type": "code",
   "execution_count": 159,
   "metadata": {
    "ExecuteTime": {
     "end_time": "2020-04-30T00:38:30.431630Z",
     "start_time": "2020-04-30T00:38:30.419293Z"
    }
   },
   "outputs": [],
   "source": [
    "class NN(nn.Module):\n",
    "    \n",
    "    def __init__(self, num_layers):\n",
    "        \n",
    "        super().__init__()\n",
    "        \n",
    "        input_layer = [nn.Linear(1, 64), nn.ReLU()]\n",
    "        hidden_layers = []\n",
    "        for i in range(num_layers):\n",
    "            hidden_layers.append(nn.Linear(64, 64))\n",
    "            hidden_layers.append(nn.ReLU())\n",
    "        output_layer = [nn.Linear(64, 1)]\n",
    "        \n",
    "        self.network = nn.ModuleList(input_layer + hidden_layers + output_layer)\n",
    "        \n",
    "    def forward(self, xs):\n",
    "        for l in self.network:\n",
    "            xs = l(xs)\n",
    "        return xs"
   ]
  },
  {
   "cell_type": "code",
   "execution_count": 162,
   "metadata": {
    "ExecuteTime": {
     "end_time": "2020-04-30T00:38:59.542978Z",
     "start_time": "2020-04-30T00:38:59.538922Z"
    }
   },
   "outputs": [],
   "source": [
    "def get_model(num_components):\n",
    "    nn = NN(num_layers=3)\n",
    "    return nn, optim.Adam(nn.parameters(), lr=0.01)"
   ]
  },
  {
   "cell_type": "code",
   "execution_count": 163,
   "metadata": {
    "ExecuteTime": {
     "end_time": "2020-04-30T00:40:15.571439Z",
     "start_time": "2020-04-30T00:40:15.566858Z"
    }
   },
   "outputs": [],
   "source": [
    "def sum_of_squares(yhats, ys):\n",
    "    return torch.sum((yhats - ys) ** 2)"
   ]
  },
  {
   "cell_type": "code",
   "execution_count": null,
   "metadata": {},
   "outputs": [],
   "source": [
    "num_components = 4\n",
    "\n",
    "model, opt = get_model(num_components)\n",
    "learn = Learner(train_dl, valid_dl, model, nll_loss, opt)\n",
    "\n",
    "loss_cb = LossCallback()\n",
    "cb_handler = CallbackHandler(cbs=[loss_cb])\n",
    "\n",
    "trainer = Trainer(learn=learn, cb_handler=cb_handler)"
   ]
  },
  {
   "cell_type": "code",
   "execution_count": null,
   "metadata": {},
   "outputs": [],
   "source": []
  },
  {
   "cell_type": "code",
   "execution_count": null,
   "metadata": {},
   "outputs": [],
   "source": []
  },
  {
   "cell_type": "code",
   "execution_count": null,
   "metadata": {},
   "outputs": [],
   "source": []
  },
  {
   "cell_type": "code",
   "execution_count": null,
   "metadata": {},
   "outputs": [],
   "source": []
  },
  {
   "cell_type": "code",
   "execution_count": null,
   "metadata": {},
   "outputs": [],
   "source": []
  },
  {
   "cell_type": "code",
   "execution_count": null,
   "metadata": {},
   "outputs": [],
   "source": []
  },
  {
   "cell_type": "code",
   "execution_count": null,
   "metadata": {},
   "outputs": [],
   "source": []
  }
 ],
 "metadata": {
  "kernelspec": {
   "display_name": "Python 3",
   "language": "python",
   "name": "python3"
  },
  "language_info": {
   "codemirror_mode": {
    "name": "ipython",
    "version": 3
   },
   "file_extension": ".py",
   "mimetype": "text/x-python",
   "name": "python",
   "nbconvert_exporter": "python",
   "pygments_lexer": "ipython3",
   "version": "3.6.9"
  },
  "toc": {
   "base_numbering": 1,
   "nav_menu": {},
   "number_sections": false,
   "sideBar": true,
   "skip_h1_title": false,
   "title_cell": "Table of Contents",
   "title_sidebar": "Contents",
   "toc_cell": false,
   "toc_position": {},
   "toc_section_display": true,
   "toc_window_display": false
  }
 },
 "nbformat": 4,
 "nbformat_minor": 2
}
