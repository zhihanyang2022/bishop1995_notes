{
 "cells": [
  {
   "cell_type": "code",
   "execution_count": 2,
   "metadata": {
    "ExecuteTime": {
     "end_time": "2020-05-09T19:54:43.747203Z",
     "start_time": "2020-05-09T19:54:42.853178Z"
    }
   },
   "outputs": [],
   "source": [
    "import numpy as np\n",
    "import matplotlib.pyplot as plt\n",
    "from ipywidgets import interact, FloatSlider"
   ]
  },
  {
   "cell_type": "code",
   "execution_count": null,
   "metadata": {
    "ExecuteTime": {
     "end_time": "2020-05-09T19:06:49.059553Z",
     "start_time": "2020-05-09T19:06:49.050254Z"
    }
   },
   "outputs": [],
   "source": []
  },
  {
   "cell_type": "code",
   "execution_count": null,
   "metadata": {
    "ExecuteTime": {
     "end_time": "2020-05-08T21:47:37.245298Z",
     "start_time": "2020-05-08T21:47:37.238719Z"
    }
   },
   "outputs": [],
   "source": []
  },
  {
   "cell_type": "code",
   "execution_count": 3,
   "metadata": {
    "ExecuteTime": {
     "end_time": "2020-05-09T19:54:44.451332Z",
     "start_time": "2020-05-09T19:54:44.446072Z"
    }
   },
   "outputs": [],
   "source": [
    "first_order = np.array([\n",
    "        [1],\n",
    "        [1]\n",
    "])\n",
    "hessian = np.array([\n",
    "    [1, 0.15],\n",
    "    [0.15, 1]\n",
    "])"
   ]
  },
  {
   "cell_type": "code",
   "execution_count": 4,
   "metadata": {
    "ExecuteTime": {
     "end_time": "2020-05-09T19:54:44.674092Z",
     "start_time": "2020-05-09T19:54:44.669808Z"
    }
   },
   "outputs": [],
   "source": [
    "def quadratic(w):\n",
    "    constant = 0.6\n",
    "    return float(0.6 + first_order.T @ w + 0.5 * w.T @ hessian @ w)"
   ]
  },
  {
   "cell_type": "code",
   "execution_count": 5,
   "metadata": {
    "ExecuteTime": {
     "end_time": "2020-05-09T19:54:44.869402Z",
     "start_time": "2020-05-09T19:54:44.865082Z"
    }
   },
   "outputs": [],
   "source": [
    "def gradient(w):\n",
    "    return first_order + hessian @ w"
   ]
  },
  {
   "cell_type": "code",
   "execution_count": null,
   "metadata": {},
   "outputs": [],
   "source": []
  },
  {
   "cell_type": "code",
   "execution_count": null,
   "metadata": {},
   "outputs": [],
   "source": []
  },
  {
   "cell_type": "code",
   "execution_count": 8,
   "metadata": {
    "ExecuteTime": {
     "end_time": "2020-05-09T19:54:56.490799Z",
     "start_time": "2020-05-09T19:54:56.485436Z"
    }
   },
   "outputs": [],
   "source": [
    "def vectorize(x, y):\n",
    "    return np.array([x, y]).reshape(-1, 1)"
   ]
  },
  {
   "cell_type": "code",
   "execution_count": 9,
   "metadata": {
    "ExecuteTime": {
     "end_time": "2020-05-09T19:54:56.730184Z",
     "start_time": "2020-05-09T19:54:56.722497Z"
    }
   },
   "outputs": [],
   "source": [
    "def fs():\n",
    "    return FloatSlider(min=-0.9, max=0.9, value=0.5, continuous_update=False)"
   ]
  },
  {
   "cell_type": "code",
   "execution_count": 10,
   "metadata": {
    "ExecuteTime": {
     "end_time": "2020-05-09T19:54:57.444275Z",
     "start_time": "2020-05-09T19:54:57.054475Z"
    }
   },
   "outputs": [],
   "source": [
    "from scipy import optimize\n",
    "import time"
   ]
  },
  {
   "cell_type": "code",
   "execution_count": 14,
   "metadata": {
    "ExecuteTime": {
     "end_time": "2020-05-09T19:58:04.954837Z",
     "start_time": "2020-05-09T19:57:44.886424Z"
    }
   },
   "outputs": [
    {
     "data": {
      "application/vnd.jupyter.widget-view+json": {
       "model_id": "e09516897cdc4b1790bd2d1dffd79513",
       "version_major": 2,
       "version_minor": 0
      },
      "text/plain": [
       "interactive(children=(FloatSlider(value=0.5, continuous_update=False, description='b1', max=0.9, min=-0.9), Fl…"
      ]
     },
     "metadata": {},
     "output_type": "display_data"
    }
   ],
   "source": [
    "@interact(b1=fs(), b2=fs(), h1=0.78, h2=-0.2, h3=-0.3, h4=fs())\n",
    "def plot(b1, b2, h1, h2, h3, h4):\n",
    "    \n",
    "    first_order = np.array([\n",
    "        [b1],\n",
    "        [b2]\n",
    "    ])\n",
    "    hessian = np.array([\n",
    "        [h1, h2],\n",
    "        [h3, h4]\n",
    "    ])\n",
    "    \n",
    "    def quadratic(w):\n",
    "        return float(first_order.T @ w + 0.5 * w.T @ hessian @ w)\n",
    "    \n",
    "    def gradient(w):\n",
    "        return first_order + hessian @ w\n",
    "    \n",
    "    def get_search_y(xs, starting_point, direction):\n",
    "        return direction[1] / direction[0] * (xs - starting_point[0]) + starting_point[1]\n",
    "        \n",
    "    starting_point = np.array([[3], [3]])\n",
    "    \n",
    "    for i in range(10):\n",
    "        \n",
    "        direction = gradient(starting_point)\n",
    "\n",
    "        def func(x):\n",
    "            return np.abs(float(gradient(vectorize(x, get_search_y(x, starting_point, direction))).T @ direction))\n",
    "\n",
    "        res = optimize.minimize(func, x0=0)\n",
    "\n",
    "        grad_at_argmin = gradient(vectorize(res.x, get_search_y(res.x, starting_point, direction)))\n",
    "        error_at_argmin = quadratic(vectorize(res.x, get_search_y(res.x, starting_point, direction)))\n",
    "\n",
    "        plt.figure(figsize=(7, 7))\n",
    "\n",
    "        plt.plot(np.linspace(-15, 15, 2), get_search_y(np.linspace(-15, 15, 2), starting_point, direction), '--', color='black', label='Search direction')\n",
    "        plt.scatter(res.x, get_search_y(res.x, starting_point, direction), c='red', label='Point of minimum error')\n",
    "\n",
    "        y_bounds = get_search_y(np.linspace(-3, 3, 2), starting_point, direction)\n",
    "\n",
    "        xs = np.linspace(-15, 15, 200)\n",
    "        ys = np.linspace(-15, 15, 200)\n",
    "        xxs, yys = np.meshgrid(xs, ys)\n",
    "        xxs, yys = xxs.flatten(), yys.flatten()\n",
    "\n",
    "        ws = np.hstack([xxs.reshape(-1, 1), yys.reshape(-1, 1)])\n",
    "\n",
    "        errors = []\n",
    "        for w in ws:\n",
    "            errors.append(float(quadratic(w.reshape(-1, 1))))\n",
    "\n",
    "        if error_at_argmin < np.min(errors):\n",
    "            error_at_argmin = np.min(errors) + 1\n",
    "        if error_at_argmin > np.max(errors):\n",
    "            error_at_argmin = np.max(errors) - 1\n",
    "\n",
    "        plt.contourf(\n",
    "            xxs.reshape(200, 200), \n",
    "            yys.reshape(200, 200), \n",
    "            np.array(errors).reshape(200, 200), \n",
    "            levels=list(np.concatenate([\n",
    "                np.linspace(np.min(errors), error_at_argmin, 5),\n",
    "                np.linspace(error_at_argmin+1e-7, np.max(errors), 10)\n",
    "            ])),\n",
    "            cmap='inferno',\n",
    "            alpha=0.5\n",
    "        )\n",
    "\n",
    "        if not (grad_at_argmin[0] == 0 or grad_at_argmin[1] == 0):\n",
    "            norm = np.linalg.norm(grad_at_argmin)\n",
    "            plt.arrow(float(res.x), float(get_search_y(res.x, starting_point, direction)), -2*float(grad_at_argmin[0])/norm, -2*float(grad_at_argmin[1])/norm, length_includes_head=False, head_width=0.5, color='red')\n",
    "        plt.xlim(-15, 15); plt.ylim(-15, 15)\n",
    "        plt.axis('off')\n",
    "        plt.legend()\n",
    "        plt.show()\n",
    "\n",
    "        try:\n",
    "            angle_btw_search_direction_and_new_grad = np.rad2deg(np.arccos(\n",
    "                float(direction.T @ grad_at_argmin) / (np.linalg.norm(direction) * np.linalg.norm(grad_at_argmin))\n",
    "            ))\n",
    "            print(f'Angle between search direction and new gradient: {angle_btw_search_direction_and_new_grad}')\n",
    "        except:\n",
    "            print('Error')\n",
    "\n",
    "        try:\n",
    "            np.linalg.cholesky(hessian)\n",
    "            print('Hessian status: Hessian is positive definite.')\n",
    "        except:\n",
    "            print('Hessian status: Hessian is NOT positive definite.')\n",
    "            \n",
    "        time.sleep(3)\n",
    "        starting_point = vectorize(res.x, get_search_y(res.x, starting_point, direction))"
   ]
  },
  {
   "cell_type": "code",
   "execution_count": null,
   "metadata": {},
   "outputs": [],
   "source": []
  },
  {
   "cell_type": "code",
   "execution_count": null,
   "metadata": {},
   "outputs": [],
   "source": []
  },
  {
   "cell_type": "code",
   "execution_count": null,
   "metadata": {},
   "outputs": [],
   "source": []
  },
  {
   "cell_type": "code",
   "execution_count": null,
   "metadata": {},
   "outputs": [],
   "source": []
  },
  {
   "cell_type": "code",
   "execution_count": null,
   "metadata": {},
   "outputs": [],
   "source": []
  }
 ],
 "metadata": {
  "kernelspec": {
   "display_name": "Python 3",
   "language": "python",
   "name": "python3"
  },
  "toc": {
   "base_numbering": 1,
   "nav_menu": {},
   "number_sections": true,
   "sideBar": true,
   "skip_h1_title": false,
   "title_cell": "Table of Contents",
   "title_sidebar": "Contents",
   "toc_cell": false,
   "toc_position": {},
   "toc_section_display": true,
   "toc_window_display": false
  }
 },
 "nbformat": 4,
 "nbformat_minor": 2
}
