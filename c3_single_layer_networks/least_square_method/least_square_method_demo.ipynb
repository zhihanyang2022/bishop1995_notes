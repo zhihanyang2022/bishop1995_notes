{
 "cells": [
  {
   "cell_type": "code",
   "execution_count": 7,
   "metadata": {
    "ExecuteTime": {
     "end_time": "2020-04-17T22:59:36.105623Z",
     "start_time": "2020-04-17T22:59:36.099165Z"
    }
   },
   "outputs": [],
   "source": [
    "from functools import partial\n",
    "import numpy as np\n",
    "import pandas as pd\n",
    "import matplotlib.pyplot as plt\n",
    "from ipywidgets import interact, IntSlider\n",
    "\n",
    "inv = np.linalg.inv"
   ]
  },
  {
   "cell_type": "code",
   "execution_count": 2,
   "metadata": {
    "ExecuteTime": {
     "end_time": "2020-04-17T22:58:32.770431Z",
     "start_time": "2020-04-17T22:58:32.740433Z"
    }
   },
   "outputs": [
    {
     "data": {
      "text/html": [
       "<div>\n",
       "<style scoped>\n",
       "    .dataframe tbody tr th:only-of-type {\n",
       "        vertical-align: middle;\n",
       "    }\n",
       "\n",
       "    .dataframe tbody tr th {\n",
       "        vertical-align: top;\n",
       "    }\n",
       "\n",
       "    .dataframe thead th {\n",
       "        text-align: right;\n",
       "    }\n",
       "</style>\n",
       "<table border=\"1\" class=\"dataframe\">\n",
       "  <thead>\n",
       "    <tr style=\"text-align: right;\">\n",
       "      <th></th>\n",
       "      <th>x</th>\n",
       "      <th>y</th>\n",
       "    </tr>\n",
       "  </thead>\n",
       "  <tbody>\n",
       "    <tr>\n",
       "      <th>0</th>\n",
       "      <td>0.047159</td>\n",
       "      <td>0.220033</td>\n",
       "    </tr>\n",
       "    <tr>\n",
       "      <th>1</th>\n",
       "      <td>0.064022</td>\n",
       "      <td>0.179399</td>\n",
       "    </tr>\n",
       "    <tr>\n",
       "      <th>2</th>\n",
       "      <td>0.080122</td>\n",
       "      <td>0.195405</td>\n",
       "    </tr>\n",
       "  </tbody>\n",
       "</table>\n",
       "</div>"
      ],
      "text/plain": [
       "          x         y\n",
       "0  0.047159  0.220033\n",
       "1  0.064022  0.179399\n",
       "2  0.080122  0.195405"
      ]
     },
     "execution_count": 2,
     "metadata": {},
     "output_type": "execute_result"
    }
   ],
   "source": [
    "df = pd.read_csv('regression_data.csv')\n",
    "df.head(3)"
   ]
  },
  {
   "cell_type": "markdown",
   "metadata": {},
   "source": [
    "## Regularized least squares"
   ]
  },
  {
   "cell_type": "code",
   "execution_count": 3,
   "metadata": {
    "ExecuteTime": {
     "end_time": "2020-04-17T22:58:32.781432Z",
     "start_time": "2020-04-17T22:58:32.772877Z"
    }
   },
   "outputs": [],
   "source": [
    "def regularized_least_squares(df, regularizer):\n",
    "    \n",
    "    # set up design matrices\n",
    "    PHI = df['x'].to_numpy().reshape(-1, 1)\n",
    "    PHI = np.hstack([\n",
    "        PHI,\n",
    "        np.ones(PHI.shape)\n",
    "    ])\n",
    "    T = df['y'].to_numpy().reshape(-1, 1)\n",
    "    \n",
    "    assert PHI.shape[0] == T.shape[0]\n",
    "    \n",
    "    pseudo_inv = inv(PHI.T @ PHI + np.eye(PHI.shape[1]) * regularizer)\n",
    "    \n",
    "    assert pseudo_inv.shape[0] == pseudo_inv.shape[1]\n",
    "    \n",
    "    W = pseudo_inv @ PHI.T @ T\n",
    "    return {'slope':W[0], 'intercept':W[1]}"
   ]
  },
  {
   "cell_type": "code",
   "execution_count": 4,
   "metadata": {
    "ExecuteTime": {
     "end_time": "2020-04-17T22:58:32.797632Z",
     "start_time": "2020-04-17T22:58:32.784520Z"
    }
   },
   "outputs": [
    {
     "data": {
      "text/plain": [
       "{'slope': array([0.61336595]), 'intercept': array([0.28343368])}"
      ]
     },
     "execution_count": 4,
     "metadata": {},
     "output_type": "execute_result"
    }
   ],
   "source": [
    "regularized_least_squares(df, 0.1)"
   ]
  },
  {
   "cell_type": "markdown",
   "metadata": {},
   "source": [
    "## Plot regression line"
   ]
  },
  {
   "cell_type": "code",
   "execution_count": 5,
   "metadata": {
    "ExecuteTime": {
     "end_time": "2020-04-17T22:58:32.813366Z",
     "start_time": "2020-04-17T22:58:32.803027Z"
    }
   },
   "outputs": [],
   "source": [
    "def plot_regression_line(df, regularizer):\n",
    "    \n",
    "    params = regularized_least_squares(df, regularizer)\n",
    "    \n",
    "    x_min, x_max = df['x'].min(), df['x'].max()\n",
    "    xs = np.arange(x_min, x_max, 0.001)\n",
    "    ys = params['slope'] * xs + params['intercept']\n",
    "    \n",
    "    plt.scatter(df['x'], df['y'])\n",
    "    plt.plot(xs, ys)\n",
    "    plt.show()"
   ]
  },
  {
   "cell_type": "code",
   "execution_count": 19,
   "metadata": {
    "ExecuteTime": {
     "end_time": "2020-04-17T23:02:01.833650Z",
     "start_time": "2020-04-17T23:02:01.719327Z"
    }
   },
   "outputs": [
    {
     "data": {
      "image/png": "[encoded data removed]",
      "text/plain": [
       "<Figure size 432x288 with 1 Axes>"
      ]
     },
     "metadata": {
      "needs_background": "light"
     },
     "output_type": "display_data"
    }
   ],
   "source": [
    "plot_regression_line(df, regularizer=20)"
   ]
  },
  {
   "cell_type": "markdown",
   "metadata": {},
   "source": [
    "## Animation"
   ]
  },
  {
   "cell_type": "code",
   "execution_count": 12,
   "metadata": {
    "ExecuteTime": {
     "end_time": "2020-04-17T23:00:52.486173Z",
     "start_time": "2020-04-17T23:00:52.482345Z"
    }
   },
   "outputs": [],
   "source": [
    "def plot_regression_line_for_df(regularizer):\n",
    "    plot_regression_line(df, regularizer)"
   ]
  },
  {
   "cell_type": "code",
   "execution_count": 16,
   "metadata": {
    "ExecuteTime": {
     "end_time": "2020-04-17T23:01:27.620213Z",
     "start_time": "2020-04-17T23:01:27.455891Z"
    }
   },
   "outputs": [
    {
     "data": {
      "application/vnd.jupyter.widget-view+json": {
       "model_id": "79a2dd7abf0c4a01a05c7c28e7246d38",
       "version_major": 2,
       "version_minor": 0
      },
      "text/plain": [
       "interactive(children=(IntSlider(value=0, continuous_update=False, description='regularizer', max=600), Output(…"
      ]
     },
     "metadata": {},
     "output_type": "display_data"
    }
   ],
   "source": [
    "_ = interact(\n",
    "    plot_regression_line_for_df, \n",
    "    regularizer=IntSlider(min=0, max=600, value=0, continuous_update=False)\n",
    ")"
   ]
  },
  {
   "cell_type": "markdown",
   "metadata": {},
   "source": [
    "Question: does the effect of regularization changes with the size of dataset, or magnitude of data?"
   ]
  },
  {
   "cell_type": "code",
   "execution_count": null,
   "metadata": {},
   "outputs": [],
   "source": []
  }
 ],
 "metadata": {
  "kernelspec": {
   "display_name": "Python 3",
   "language": "python",
   "name": "python3"
  },
  "language_info": {
   "codemirror_mode": {
    "name": "ipython",
    "version": 3
   },
   "file_extension": ".py",
   "mimetype": "text/x-python",
   "name": "python",
   "nbconvert_exporter": "python",
   "pygments_lexer": "ipython3",
   "version": "3.6.9"
  },
  "toc": {
   "base_numbering": 1,
   "nav_menu": {},
   "number_sections": false,
   "sideBar": true,
   "skip_h1_title": false,
   "title_cell": "Table of Contents",
   "title_sidebar": "Contents",
   "toc_cell": false,
   "toc_position": {
    "height": "calc(100% - 180px)",
    "left": "10px",
    "top": "150px",
    "width": "261.818px"
   },
   "toc_section_display": true,
   "toc_window_display": false
  }
 },
 "nbformat": 4,
 "nbformat_minor": 2
}
