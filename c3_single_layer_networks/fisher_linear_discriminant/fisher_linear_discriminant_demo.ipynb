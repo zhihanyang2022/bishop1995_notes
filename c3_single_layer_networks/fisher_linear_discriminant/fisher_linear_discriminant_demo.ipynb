{
 "cells": [
  {
   "cell_type": "markdown",
   "metadata": {},
   "source": [
    "# Fisher's linear discriminant\n",
    "\n",
    "- Author: Zhihan Yang\n",
    "- Date: Friday, March 27, 2020"
   ]
  },
  {
   "cell_type": "code",
   "execution_count": 31,
   "metadata": {
    "ExecuteTime": {
     "end_time": "2020-03-28T15:40:16.633556Z",
     "start_time": "2020-03-28T15:40:16.628435Z"
    }
   },
   "outputs": [],
   "source": [
    "import numpy as np\n",
    "from scipy.stats import multivariate_normal\n",
    "from tensorflow.keras.datasets import mnist\n",
    "from sklearn.decomposition import PCA\n",
    "import matplotlib.pyplot as plt\n",
    "import seaborn as sns"
   ]
  },
  {
   "cell_type": "markdown",
   "metadata": {},
   "source": [
    "## Load data"
   ]
  },
  {
   "cell_type": "code",
   "execution_count": 2,
   "metadata": {
    "ExecuteTime": {
     "end_time": "2020-03-28T15:31:07.423455Z",
     "start_time": "2020-03-28T15:31:07.015292Z"
    }
   },
   "outputs": [],
   "source": [
    "(x_train, y_train), (x_test, y_test) = mnist.load_data()"
   ]
  },
  {
   "cell_type": "code",
   "execution_count": 3,
   "metadata": {
    "ExecuteTime": {
     "end_time": "2020-03-28T15:31:07.431293Z",
     "start_time": "2020-03-28T15:31:07.426324Z"
    }
   },
   "outputs": [],
   "source": [
    "x_train = x_train.reshape(len(x_train), 28 * 28)\n",
    "x_test = x_test.reshape(len(x_test), 28 * 28)"
   ]
  },
  {
   "cell_type": "markdown",
   "metadata": {},
   "source": [
    "## Reduce data dimension"
   ]
  },
  {
   "cell_type": "markdown",
   "metadata": {},
   "source": [
    "Motivation for PCA before LDA: https://stats.stackexchange.com/questions/247720/why-is-within-class-scatter-matrix-in-lda-singular"
   ]
  },
  {
   "cell_type": "code",
   "execution_count": 4,
   "metadata": {
    "ExecuteTime": {
     "end_time": "2020-03-28T15:31:11.478253Z",
     "start_time": "2020-03-28T15:31:07.434595Z"
    }
   },
   "outputs": [],
   "source": [
    "pca = PCA(n_components=50).fit(x_train)\n",
    "# use PCA(0.90).fit(x_train) and then pca.n_components_\n",
    "# to search for the appropriate number of components without significant compression"
   ]
  },
  {
   "cell_type": "code",
   "execution_count": 5,
   "metadata": {
    "ExecuteTime": {
     "end_time": "2020-03-28T15:31:11.897141Z",
     "start_time": "2020-03-28T15:31:11.480303Z"
    }
   },
   "outputs": [],
   "source": [
    "x_train_transformed, x_test_transformed = pca.transform(x_train), pca.transform(x_test)"
   ]
  },
  {
   "cell_type": "code",
   "execution_count": 6,
   "metadata": {
    "ExecuteTime": {
     "end_time": "2020-03-28T15:31:12.002237Z",
     "start_time": "2020-03-28T15:31:11.900610Z"
    }
   },
   "outputs": [
    {
     "data": {
      "text/plain": [
       "((60000, 50), 2363.32405537362, -1507.4220234441318)"
      ]
     },
     "execution_count": 6,
     "metadata": {},
     "output_type": "execute_result"
    }
   ],
   "source": [
    "x_train_transformed.shape, x_train_transformed.max(), x_train_transformed.min()"
   ]
  },
  {
   "cell_type": "code",
   "execution_count": 7,
   "metadata": {
    "ExecuteTime": {
     "end_time": "2020-03-28T15:31:12.022675Z",
     "start_time": "2020-03-28T15:31:12.008980Z"
    }
   },
   "outputs": [],
   "source": [
    "ones = x_train_transformed[y_train == 1]\n",
    "ones_test = x_test_transformed[y_test == 1]\n",
    "one_labels = np.zeros(len(ones))\n",
    "\n",
    "sevens = x_train_transformed[y_train == 7]\n",
    "sevens_test = x_test_transformed[y_test == 7]\n",
    "seven_labels = np.zeros(len(sevens))"
   ]
  },
  {
   "cell_type": "code",
   "execution_count": 8,
   "metadata": {
    "ExecuteTime": {
     "end_time": "2020-03-28T15:31:12.036341Z",
     "start_time": "2020-03-28T15:31:12.029899Z"
    }
   },
   "outputs": [
    {
     "data": {
      "text/plain": [
       "((6742, 50), (6265, 50))"
      ]
     },
     "execution_count": 8,
     "metadata": {},
     "output_type": "execute_result"
    }
   ],
   "source": [
    "ones.shape, sevens.shape"
   ]
  },
  {
   "cell_type": "markdown",
   "metadata": {},
   "source": [
    "## Compute Fisher's linear discriminant"
   ]
  },
  {
   "cell_type": "markdown",
   "metadata": {},
   "source": [
    "Fisher's linear discrimiant is proportional to:\n",
    "$$\\vec{w} = S_W (\\vec{m}_2 - \\vec{m}_1)$$"
   ]
  },
  {
   "cell_type": "markdown",
   "metadata": {},
   "source": [
    "Compute $\\vec{m}_2$ and $\\vec{m}_1$:"
   ]
  },
  {
   "cell_type": "code",
   "execution_count": 9,
   "metadata": {
    "ExecuteTime": {
     "end_time": "2020-03-28T15:31:12.068916Z",
     "start_time": "2020-03-28T15:31:12.040681Z"
    }
   },
   "outputs": [
    {
     "data": {
      "text/plain": [
       "((50,), (50,))"
      ]
     },
     "execution_count": 9,
     "metadata": {},
     "output_type": "execute_result"
    }
   ],
   "source": [
    "m1 = np.mean(ones, axis=0)\n",
    "m2 = np.mean(sevens, axis=0)\n",
    "m1.shape, m2.shape"
   ]
  },
  {
   "cell_type": "markdown",
   "metadata": {},
   "source": [
    "Compute $S_W$ using vectorization:"
   ]
  },
  {
   "cell_type": "markdown",
   "metadata": {},
   "source": [
    "$$S_{W} = \\sum_{n \\in C_{1}}\\left(\\vec{x}^{n}-\\vec{m}_{1}\\right)\\left(\\vec{x}^{n}-\\vec{m}_{1}\\right)^{T}+\\sum_{n \\in C_{2}}\\left(\\vec{x}^{n}-\\vec{m}_{2}\\right)\\left(\\vec{x}^{n}-\\vec{m}_{2}\\right)^{T}$$"
   ]
  },
  {
   "cell_type": "markdown",
   "metadata": {},
   "source": [
    "- `ones`: $n_1$ by 784\n",
    "- `m1`: 784 (broadcasted to $n_1$ by 784)\n",
    "- Draw matrix diagrams on a piece of paper and you will understand this vectorization immediately."
   ]
  },
  {
   "cell_type": "code",
   "execution_count": 10,
   "metadata": {
    "ExecuteTime": {
     "end_time": "2020-03-28T15:31:12.136215Z",
     "start_time": "2020-03-28T15:31:12.078473Z"
    }
   },
   "outputs": [],
   "source": [
    "Sw = (ones - m1).T @ (ones - m1) + (sevens - m2).T @ (sevens - m2)"
   ]
  },
  {
   "cell_type": "code",
   "execution_count": 11,
   "metadata": {
    "ExecuteTime": {
     "end_time": "2020-03-28T15:31:12.155900Z",
     "start_time": "2020-03-28T15:31:12.140918Z"
    }
   },
   "outputs": [
    {
     "data": {
      "text/plain": [
       "((50, 50), 1731108116.2450194, -616938063.6365619)"
      ]
     },
     "execution_count": 11,
     "metadata": {},
     "output_type": "execute_result"
    }
   ],
   "source": [
    "Sw.shape, Sw.max(), Sw.min()"
   ]
  },
  {
   "cell_type": "markdown",
   "metadata": {},
   "source": [
    "Compute $\\vec{w}$ using an arbitrarily chosen proportionality constant of 1:"
   ]
  },
  {
   "cell_type": "code",
   "execution_count": 12,
   "metadata": {
    "ExecuteTime": {
     "end_time": "2020-03-28T15:31:12.194562Z",
     "start_time": "2020-03-28T15:31:12.159952Z"
    }
   },
   "outputs": [
    {
     "data": {
      "text/plain": [
       "(50, 1)"
      ]
     },
     "execution_count": 12,
     "metadata": {},
     "output_type": "execute_result"
    }
   ],
   "source": [
    "w = np.linalg.inv(Sw) @ (m2 - m1).reshape(-1, 1)\n",
    "w.shape"
   ]
  },
  {
   "cell_type": "markdown",
   "metadata": {},
   "source": [
    "Project data onto $\\vec{w}$:"
   ]
  },
  {
   "cell_type": "code",
   "execution_count": 13,
   "metadata": {
    "ExecuteTime": {
     "end_time": "2020-03-28T15:31:12.203173Z",
     "start_time": "2020-03-28T15:31:12.197311Z"
    }
   },
   "outputs": [],
   "source": [
    "ones_train_proj = ones @ w\n",
    "sevens_train_proj = sevens @ w"
   ]
  },
  {
   "cell_type": "code",
   "execution_count": 14,
   "metadata": {
    "ExecuteTime": {
     "end_time": "2020-03-28T15:31:12.214676Z",
     "start_time": "2020-03-28T15:31:12.207616Z"
    }
   },
   "outputs": [],
   "source": [
    "ones_test_proj = ones_test @ w\n",
    "sevens_test_proj = sevens_test @ w"
   ]
  },
  {
   "cell_type": "markdown",
   "metadata": {},
   "source": [
    "Plot the distribution of (scalar) projections:"
   ]
  },
  {
   "cell_type": "code",
   "execution_count": 35,
   "metadata": {
    "ExecuteTime": {
     "end_time": "2020-03-28T15:41:19.737150Z",
     "start_time": "2020-03-28T15:41:19.104424Z"
    }
   },
   "outputs": [
    {
     "data": {
      "image/png": "[encoded data removed]",
      "text/plain": [
       "<Figure size 1080x360 with 2 Axes>"
      ]
     },
     "metadata": {
      "needs_background": "light"
     },
     "output_type": "display_data"
    }
   ],
   "source": [
    "fig = plt.figure(figsize=(15, 5))\n",
    "\n",
    "fig.add_subplot(121)\n",
    "\n",
    "sns.distplot(ones_train_proj)\n",
    "sns.distplot(sevens_train_proj)\n",
    "\n",
    "plt.title(r'Distribution of projection $\\vec{w}^T \\vec{x}$ (for train set)')\n",
    "plt.ylabel('Density')\n",
    "\n",
    "fig.add_subplot(122)\n",
    "\n",
    "sns.distplot(ones_test_proj)\n",
    "sns.distplot(sevens_test_proj)\n",
    "\n",
    "plt.title(r'Distribution of projection $\\vec{w}^T \\vec{x}$ (for test set)')\n",
    "plt.ylabel('Density')\n",
    "\n",
    "plt.show()"
   ]
  },
  {
   "cell_type": "markdown",
   "metadata": {},
   "source": [
    "## Maximum likelihood for normal distributions"
   ]
  },
  {
   "cell_type": "markdown",
   "metadata": {},
   "source": [
    "From Bishop 1995, the maximum likelihood estimate of the mean and the covariance matrix of a normal distribution given a set of data points $\\vec{x}^n$, is given by:\n",
    "\n",
    "- Mean: $\\widehat{\\boldsymbol{\\mu}}=\\frac{1}{N} \\sum_{n=1}^{N} \\mathbf{x}^{n}$\n",
    "- Covariance matrix: $\\widehat{\\mathbf{\\Sigma}}=\\frac{1}{N} \\sum_{n=1}^{N}\\left(\\mathbf{x}^{n}-\\widehat{\\boldsymbol{\\mu}}\\right)\\left(\\mathbf{x}^{n}-\\widehat{\\boldsymbol{\\mu}}\\right)^{\\mathrm{T}}$"
   ]
  },
  {
   "cell_type": "markdown",
   "metadata": {},
   "source": [
    "Mean and covariance matrix for ones:"
   ]
  },
  {
   "cell_type": "code",
   "execution_count": 86,
   "metadata": {
    "ExecuteTime": {
     "end_time": "2020-03-28T15:53:17.846827Z",
     "start_time": "2020-03-28T15:53:17.839701Z"
    }
   },
   "outputs": [],
   "source": [
    "mean_est_ones = np.mean(ones_train_proj)\n",
    "covar_est_ones = 1 / len(ones_train_proj) * ((ones_train_proj - mean_est_ones).T @ (ones_train_proj - mean_est_ones))"
   ]
  },
  {
   "cell_type": "code",
   "execution_count": 87,
   "metadata": {
    "ExecuteTime": {
     "end_time": "2020-03-28T15:53:18.079154Z",
     "start_time": "2020-03-28T15:53:18.070735Z"
    }
   },
   "outputs": [],
   "source": [
    "xs_ones = np.linspace(ones_train_proj.min(), ones_train_proj.max(), 200)\n",
    "rvs_ones= multivariate_normal(mean=mean_est_ones, cov=covar_est_ones)\n",
    "densities_ones = rvs_ones.pdf(xs_ones)"
   ]
  },
  {
   "cell_type": "markdown",
   "metadata": {},
   "source": [
    "Mean and covariance matrix for sevens."
   ]
  },
  {
   "cell_type": "code",
   "execution_count": 88,
   "metadata": {
    "ExecuteTime": {
     "end_time": "2020-03-28T15:53:18.272970Z",
     "start_time": "2020-03-28T15:53:18.266718Z"
    }
   },
   "outputs": [],
   "source": [
    "mean_est_sevens = np.mean(sevens_train_proj)\n",
    "covar_est_sevens = 1 / len(sevens_train_proj) * ((sevens_train_proj - mean_est_sevens).T @ (sevens_train_proj - mean_est_sevens))"
   ]
  },
  {
   "cell_type": "code",
   "execution_count": 89,
   "metadata": {
    "ExecuteTime": {
     "end_time": "2020-03-28T15:53:18.473347Z",
     "start_time": "2020-03-28T15:53:18.464792Z"
    }
   },
   "outputs": [],
   "source": [
    "xs_sevens = np.linspace(sevens_train_proj.min(), sevens_train_proj.max(), 200)\n",
    "rvs_sevens = multivariate_normal(mean=mean_est_sevens, cov=covar_est_sevens)\n",
    "densities_sevens = rvs_sevens.pdf(xs_sevens)"
   ]
  },
  {
   "cell_type": "code",
   "execution_count": 108,
   "metadata": {
    "ExecuteTime": {
     "end_time": "2020-03-28T15:59:56.617665Z",
     "start_time": "2020-03-28T15:59:56.128819Z"
    }
   },
   "outputs": [
    {
     "data": {
      "image/png": "[encoded data removed]",
      "text/plain": [
       "<Figure size 1080x360 with 2 Axes>"
      ]
     },
     "metadata": {
      "needs_background": "light"
     },
     "output_type": "display_data"
    }
   ],
   "source": [
    "fig = plt.figure(figsize=(15, 5))\n",
    "\n",
    "# subplot 1\n",
    "\n",
    "fig.add_subplot(121)\n",
    "\n",
    "sns.kdeplot(ones_train_proj.flatten(), label='Train ones - KDE density')\n",
    "plt.plot(xs_ones, densities_ones, label='Train ones - ML normal density')\n",
    "\n",
    "sns.kdeplot(sevens_train_proj.flatten(), label='Train sevens - KDE density')\n",
    "plt.plot(xs_sevens, densities_sevens, label='Train sevens - ML normal density')\n",
    "\n",
    "plt.title(r'Distribution of projection $\\vec{w}^T \\vec{x}$ (for train set)')\n",
    "plt.ylabel('Density')\n",
    "plt.yscale('log')\n",
    "\n",
    "plt.legend()\n",
    "\n",
    "# subplot 2\n",
    "\n",
    "fig.add_subplot(122)\n",
    "\n",
    "sns.kdeplot(ones_test_proj.flatten(), label='Test ones - KDE density')\n",
    "plt.plot(xs_ones, densities_ones, label='Train ones - ML normal density')\n",
    "\n",
    "sns.kdeplot(sevens_test_proj.flatten(), label='Test sevens - KDE density')\n",
    "plt.plot(xs_sevens, densities_sevens, label='Train sevens - ML normal density')\n",
    "\n",
    "plt.yscale('log')\n",
    "\n",
    "plt.title(r'Distribution of projection $\\vec{w}^T \\vec{x}$ (for test set)')\n",
    "plt.ylabel('Density')\n",
    "\n",
    "plt.legend()\n",
    "\n",
    "plt.show()"
   ]
  },
  {
   "cell_type": "markdown",
   "metadata": {},
   "source": [
    "The y scale is logged to show differences between distributions in terms of small densities."
   ]
  },
  {
   "cell_type": "markdown",
   "metadata": {},
   "source": [
    "## Optimal threshold"
   ]
  },
  {
   "cell_type": "markdown",
   "metadata": {},
   "source": [
    "The optimal threshold is the x-axis value above which the ML normal density for train ones crosses with the ML normal density for train sevens."
   ]
  },
  {
   "cell_type": "code",
   "execution_count": 113,
   "metadata": {
    "ExecuteTime": {
     "end_time": "2020-03-28T16:02:49.373804Z",
     "start_time": "2020-03-28T16:02:49.365039Z"
    }
   },
   "outputs": [
    {
     "data": {
      "text/plain": [
       "0.9955947136563876"
      ]
     },
     "execution_count": 113,
     "metadata": {},
     "output_type": "execute_result"
    }
   ],
   "source": [
    "np.mean(rvs_ones.pdf(ones_test_proj) > rvs_sevens.pdf(ones_test_proj))"
   ]
  },
  {
   "cell_type": "code",
   "execution_count": 114,
   "metadata": {
    "ExecuteTime": {
     "end_time": "2020-03-28T16:02:49.590581Z",
     "start_time": "2020-03-28T16:02:49.579807Z"
    }
   },
   "outputs": [
    {
     "data": {
      "text/plain": [
       "0.9854085603112841"
      ]
     },
     "execution_count": 114,
     "metadata": {},
     "output_type": "execute_result"
    }
   ],
   "source": [
    "np.mean(rvs_sevens.pdf(sevens_test_proj) > rvs_ones.pdf(sevens_test_proj))"
   ]
  },
  {
   "cell_type": "code",
   "execution_count": null,
   "metadata": {},
   "outputs": [],
   "source": []
  },
  {
   "cell_type": "code",
   "execution_count": null,
   "metadata": {},
   "outputs": [],
   "source": []
  }
 ],
 "metadata": {
  "kernelspec": {
   "display_name": "Python 3",
   "language": "python",
   "name": "python3"
  },
  "language_info": {
   "codemirror_mode": {
    "name": "ipython",
    "version": 3
   },
   "file_extension": ".py",
   "mimetype": "text/x-python",
   "name": "python",
   "nbconvert_exporter": "python",
   "pygments_lexer": "ipython3",
   "version": "3.6.9"
  },
  "toc": {
   "base_numbering": 1,
   "nav_menu": {},
   "number_sections": false,
   "sideBar": true,
   "skip_h1_title": false,
   "title_cell": "Table of Contents",
   "title_sidebar": "Contents",
   "toc_cell": false,
   "toc_position": {},
   "toc_section_display": true,
   "toc_window_display": false
  }
 },
 "nbformat": 4,
 "nbformat_minor": 2
}
