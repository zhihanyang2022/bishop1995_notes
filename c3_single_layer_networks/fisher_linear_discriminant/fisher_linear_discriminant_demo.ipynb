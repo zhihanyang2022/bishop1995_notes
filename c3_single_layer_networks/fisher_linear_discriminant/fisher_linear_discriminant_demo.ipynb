{
 "cells": [
  {
   "cell_type": "markdown",
   "metadata": {},
   "source": [
    "# Fisher's linear discriminant\n",
    "\n",
    "- Author: Zhihan Yang\n",
    "- Date: Friday, March 27, 2020"
   ]
  },
  {
   "cell_type": "code",
   "execution_count": 2,
   "metadata": {
    "ExecuteTime": {
     "end_time": "2020-03-27T22:29:06.280545Z",
     "start_time": "2020-03-27T22:28:54.760363Z"
    }
   },
   "outputs": [],
   "source": [
    "import numpy as np\n",
    "from scipy.stats import gaussian_kde\n",
    "from tensorflow.keras.datasets import mnist\n",
    "from sklearn.decomposition import PCA\n",
    "import matplotlib.pyplot as plt\n",
    "import seaborn as sns"
   ]
  },
  {
   "cell_type": "markdown",
   "metadata": {},
   "source": [
    "## Load data"
   ]
  },
  {
   "cell_type": "code",
   "execution_count": 3,
   "metadata": {
    "ExecuteTime": {
     "end_time": "2020-03-27T22:29:06.800049Z",
     "start_time": "2020-03-27T22:29:06.304770Z"
    }
   },
   "outputs": [],
   "source": [
    "(x_train, y_train), (x_test, y_test) = mnist.load_data()"
   ]
  },
  {
   "cell_type": "code",
   "execution_count": 4,
   "metadata": {
    "ExecuteTime": {
     "end_time": "2020-03-27T22:29:06.808436Z",
     "start_time": "2020-03-27T22:29:06.802644Z"
    }
   },
   "outputs": [],
   "source": [
    "x_train = x_train.reshape(len(x_train), 28 * 28)\n",
    "x_test = x_test.reshape(len(x_test), 28 * 28)"
   ]
  },
  {
   "cell_type": "markdown",
   "metadata": {},
   "source": [
    "## Reduce data dimension"
   ]
  },
  {
   "cell_type": "markdown",
   "metadata": {},
   "source": [
    "Motivation for PCA before LDA: https://stats.stackexchange.com/questions/247720/why-is-within-class-scatter-matrix-in-lda-singular"
   ]
  },
  {
   "cell_type": "code",
   "execution_count": 5,
   "metadata": {
    "ExecuteTime": {
     "end_time": "2020-03-27T22:29:11.521280Z",
     "start_time": "2020-03-27T22:29:06.813585Z"
    }
   },
   "outputs": [],
   "source": [
    "pca = PCA(n_components=50).fit(x_train)\n",
    "# use PCA(0.90).fit(x_train) and then pca.n_components_\n",
    "# to search for the appropriate number of components without significant compression"
   ]
  },
  {
   "cell_type": "code",
   "execution_count": 7,
   "metadata": {
    "ExecuteTime": {
     "end_time": "2020-03-27T22:29:12.429460Z",
     "start_time": "2020-03-27T22:29:11.983224Z"
    }
   },
   "outputs": [],
   "source": [
    "x_train_transformed, x_test_transformed = pca.transform(x_train), pca.transform(x_test)"
   ]
  },
  {
   "cell_type": "code",
   "execution_count": 8,
   "metadata": {
    "ExecuteTime": {
     "end_time": "2020-03-27T22:29:14.725297Z",
     "start_time": "2020-03-27T22:29:14.709170Z"
    }
   },
   "outputs": [
    {
     "data": {
      "text/plain": [
       "((60000, 50), 2363.324055373632, -1507.422023441816)"
      ]
     },
     "execution_count": 8,
     "metadata": {},
     "output_type": "execute_result"
    }
   ],
   "source": [
    "x_train_transformed.shape, x_train_transformed.max(), x_train_transformed.min()"
   ]
  },
  {
   "cell_type": "code",
   "execution_count": 9,
   "metadata": {
    "ExecuteTime": {
     "end_time": "2020-03-27T22:29:42.308664Z",
     "start_time": "2020-03-27T22:29:42.147985Z"
    }
   },
   "outputs": [],
   "source": [
    "ones = x_train_transformed[y_train == 1]\n",
    "ones_test = x_test_transformed[y_test == 1]\n",
    "one_labels = np.zeros(len(ones))\n",
    "\n",
    "sevens = x_train_transformed[y_train == 7]\n",
    "sevens_test = x_test_transformed[y_test == 7]\n",
    "seven_labels = np.zeros(len(sevens))"
   ]
  },
  {
   "cell_type": "code",
   "execution_count": 10,
   "metadata": {
    "ExecuteTime": {
     "end_time": "2020-03-27T22:29:42.527056Z",
     "start_time": "2020-03-27T22:29:42.513816Z"
    }
   },
   "outputs": [
    {
     "data": {
      "text/plain": [
       "((6742, 50), (6265, 50))"
      ]
     },
     "execution_count": 10,
     "metadata": {},
     "output_type": "execute_result"
    }
   ],
   "source": [
    "ones.shape, sevens.shape"
   ]
  },
  {
   "cell_type": "markdown",
   "metadata": {},
   "source": [
    "## Compute Fisher's linear discriminant"
   ]
  },
  {
   "cell_type": "markdown",
   "metadata": {},
   "source": [
    "Fisher's linear discrimiant is proportional to:\n",
    "$$\\vec{w} = S_W (\\vec{m}_2 - \\vec{m}_1)$$"
   ]
  },
  {
   "cell_type": "markdown",
   "metadata": {},
   "source": [
    "Compute $\\vec{m}_2$ and $\\vec{m}_1$:"
   ]
  },
  {
   "cell_type": "code",
   "execution_count": 11,
   "metadata": {
    "ExecuteTime": {
     "end_time": "2020-03-27T22:30:53.158263Z",
     "start_time": "2020-03-27T22:30:53.145236Z"
    }
   },
   "outputs": [
    {
     "data": {
      "text/plain": [
       "((50,), (50,))"
      ]
     },
     "execution_count": 11,
     "metadata": {},
     "output_type": "execute_result"
    }
   ],
   "source": [
    "m1 = np.mean(ones, axis=0)\n",
    "m2 = np.mean(sevens, axis=0)\n",
    "m1.shape, m2.shape"
   ]
  },
  {
   "cell_type": "markdown",
   "metadata": {},
   "source": [
    "Compute $S_W$ using vectorization:"
   ]
  },
  {
   "cell_type": "markdown",
   "metadata": {},
   "source": [
    "$$S_{W} = \\sum_{n \\in C_{1}}\\left(\\vec{x}^{n}-\\vec{m}_{1}\\right)\\left(\\vec{x}^{n}-\\vec{m}_{1}\\right)^{T}+\\sum_{n \\in C_{2}}\\left(\\vec{x}^{n}-\\vec{m}_{2}\\right)\\left(\\vec{x}^{n}-\\vec{m}_{2}\\right)^{T}$$"
   ]
  },
  {
   "cell_type": "markdown",
   "metadata": {},
   "source": [
    "- `ones`: $n_1$ by 784\n",
    "- `m1`: 784 (broadcasted to $n_1$ by 784)\n",
    "- Draw matrix diagrams on a piece of paper and you will understand this vectorization immediately."
   ]
  },
  {
   "cell_type": "code",
   "execution_count": 13,
   "metadata": {
    "ExecuteTime": {
     "end_time": "2020-03-27T22:32:17.623344Z",
     "start_time": "2020-03-27T22:32:17.604976Z"
    }
   },
   "outputs": [],
   "source": [
    "Sw = (ones - m1).T @ (ones - m1) + (sevens - m2).T @ (sevens - m2)"
   ]
  },
  {
   "cell_type": "code",
   "execution_count": 14,
   "metadata": {
    "ExecuteTime": {
     "end_time": "2020-03-27T22:32:17.789206Z",
     "start_time": "2020-03-27T22:32:17.782567Z"
    }
   },
   "outputs": [
    {
     "data": {
      "text/plain": [
       "((50, 50), 1731108116.2574472, -616938063.2372075)"
      ]
     },
     "execution_count": 14,
     "metadata": {},
     "output_type": "execute_result"
    }
   ],
   "source": [
    "Sw.shape, Sw.max(), Sw.min()"
   ]
  },
  {
   "cell_type": "markdown",
   "metadata": {},
   "source": [
    "Compute $\\vec{w}$ using an arbitrarily chosen proportionality constant of 1:"
   ]
  },
  {
   "cell_type": "code",
   "execution_count": 15,
   "metadata": {
    "ExecuteTime": {
     "end_time": "2020-03-27T22:32:18.391940Z",
     "start_time": "2020-03-27T22:32:18.356951Z"
    }
   },
   "outputs": [
    {
     "data": {
      "text/plain": [
       "(50, 1)"
      ]
     },
     "execution_count": 15,
     "metadata": {},
     "output_type": "execute_result"
    }
   ],
   "source": [
    "w = np.linalg.inv(Sw) @ (m2 - m1).reshape(-1, 1)\n",
    "w.shape"
   ]
  },
  {
   "cell_type": "markdown",
   "metadata": {},
   "source": [
    "Project data onto $\\vec{w}$:"
   ]
  },
  {
   "cell_type": "code",
   "execution_count": 19,
   "metadata": {
    "ExecuteTime": {
     "end_time": "2020-03-27T22:33:51.366768Z",
     "start_time": "2020-03-27T22:33:51.354209Z"
    }
   },
   "outputs": [],
   "source": [
    "ones_train_proj = ones @ w\n",
    "sevens_train_proj = sevens @ w"
   ]
  },
  {
   "cell_type": "code",
   "execution_count": 17,
   "metadata": {
    "ExecuteTime": {
     "end_time": "2020-03-27T22:33:24.442315Z",
     "start_time": "2020-03-27T22:33:24.431579Z"
    }
   },
   "outputs": [],
   "source": [
    "ones_test_proj = ones_test @ w\n",
    "sevens_test_proj = sevens_test @ w"
   ]
  },
  {
   "cell_type": "markdown",
   "metadata": {},
   "source": [
    "Plot the distribution of (scalar) projections:"
   ]
  },
  {
   "cell_type": "code",
   "execution_count": 31,
   "metadata": {
    "ExecuteTime": {
     "end_time": "2020-03-27T22:36:00.032356Z",
     "start_time": "2020-03-27T22:35:59.276337Z"
    }
   },
   "outputs": [
    {
     "data": {
      "image/png": "[encoded data removed]",
      "text/plain": [
       "<Figure size 1080x360 with 2 Axes>"
      ]
     },
     "metadata": {
      "needs_background": "light"
     },
     "output_type": "display_data"
    }
   ],
   "source": [
    "fig = plt.figure(figsize=(15, 5))\n",
    "\n",
    "fig.add_subplot(121)\n",
    "\n",
    "sns.distplot(ones_train_proj)\n",
    "sns.distplot(sevens_train_proj)\n",
    "\n",
    "plt.title(r'Distribution of projection $\\vec{w}^T \\vec{x}$ (for train set)')\n",
    "plt.ylabel('Density')\n",
    "\n",
    "fig.add_subplot(122)\n",
    "\n",
    "sns.distplot(ones_test_proj)\n",
    "sns.distplot(sevens_test_proj)\n",
    "\n",
    "plt.title(r'Distribution of projection $\\vec{w}^T \\vec{x}$ (for test set)')\n",
    "plt.ylabel('Density')\n",
    "\n",
    "plt.show()"
   ]
  },
  {
   "cell_type": "code",
   "execution_count": null,
   "metadata": {},
   "outputs": [],
   "source": []
  }
 ],
 "metadata": {
  "kernelspec": {
   "display_name": "Python 3",
   "language": "python",
   "name": "python3"
  },
  "language_info": {
   "codemirror_mode": {
    "name": "ipython",
    "version": 3
   },
   "file_extension": ".py",
   "mimetype": "text/x-python",
   "name": "python",
   "nbconvert_exporter": "python",
   "pygments_lexer": "ipython3",
   "version": "3.6.9"
  },
  "toc": {
   "base_numbering": 1,
   "nav_menu": {},
   "number_sections": false,
   "sideBar": true,
   "skip_h1_title": false,
   "title_cell": "Table of Contents",
   "title_sidebar": "Contents",
   "toc_cell": false,
   "toc_position": {},
   "toc_section_display": true,
   "toc_window_display": false
  }
 },
 "nbformat": 4,
 "nbformat_minor": 2
}
