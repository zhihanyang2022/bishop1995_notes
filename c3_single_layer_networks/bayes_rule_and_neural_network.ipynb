{
 "cells": [
  {
   "cell_type": "markdown",
   "metadata": {},
   "source": [
    "# Bayes' Rule and Neural Network\n",
    "\n",
    "- Assumption: 2 class-conditional densities share the same covariance matrix\n",
    "- Bayesian (closed form) vs. neural network (logistic regression trained using gradient descent)\n",
    "- Whether the gradient-descent solutions approaches closed-form solution in terms of accuracy and solution similarity"
   ]
  },
  {
   "cell_type": "markdown",
   "metadata": {},
   "source": [
    "## Logistic function motivation"
   ]
  },
  {
   "cell_type": "markdown",
   "metadata": {},
   "source": [
    "Suppose each output node of our single-layer network deals with a binary classification problem. For the output node $y_k$, $p(C^k_1|x)$ denotes the probability that $x$ belongs to $C^k_1$ and $1-p(C^k_1|x)$ denotes the probability that $x$ belongs to $C^k_2$. Here, $C^k_1$ and $C^k_2$ represents the two states of the $k$th binary output variable.\n",
    "\n",
    "Intuitively, we can train our single-layer network directly on a dataset with examples as inputs and posterior probabilities as outputs. However, note that probabilities are bounded by $[0, 1]$. Since this assumption is inherently built into the neural network, there may be times when the network outputs values below zero or above one. What should one do when the network outputs 1.01? There's no clear answers.\n",
    "\n",
    "Therefore, we seek a way of representing a posterior probability in terms of another quantity (let's call it $a$) which is (1) unbounded ($a \\in [-\\infty, \\infty]$) and (2) can be easily converted back to a probability. Recall the Bayes' rule, that the posterior probability is equal to the RHS:\n",
    "\n",
    "$$p(C_1|x)=\\frac{p(x|C_1)P(C_1)}{p(x|C_1)P(C_1) + p(x|C_2)P(C_2)}$$\n",
    "\n",
    "So our real challenge is to represent the RHS in terms of $a$. Let's consider some unrelated ideas just for inspiration:\n",
    "- ratios between two positive numbers are bounded by $[0, \\infty]$\n",
    "- log(ratios) between two positive numbers are bounded by $[-\\infty, \\infty]$\n",
    "\n",
    "To obtain a ratio, we divide both the numerator and the denominator of the RHS by the numerator:\n",
    "$$p(C_1|x)=\\frac{1}{1 + \\frac{p(x|C_2)P(C_2)}{p(x|C_1)P(C_1}}$$\n",
    "\n",
    "To obtain a log(ratio), we use the trick $n=\\exp\\{ \\log(n) \\}$ for $n\\in\\mathbb{R}$:\n",
    "$$p(C_1|x)=\\frac{1}{1 + \\exp \\{ a \\} }$$ where we have defined $a$ to be $\\log( \\frac{p(x|C_2)P(C_2)}{p(x|C_1)P(C_1)} )$.\n",
    "\n",
    "Since we are evaluating $p(C_1|x)$ not $p(C_2|x)$, we would like $p(C_1|x)$ to have a positive gradient with respect to $p(x|C_1)P(C_1)$. Currently, this gradient is negative, which does not pose any serious problems except that it is counter-intuitive. To do this, we simply change the log(ratio) to:\n",
    "$$p(C_1|x)=\\frac{1}{1 + \\exp \\{ -a \\} }$$ where we have defined $a$ to be $- \\log( \\frac{p(x|C_2)P(C_2)}{p(x|C_1)P(C_1)} )=\\log( \\frac{p(x|C_1)P(C_1)}{p(x|C_2)P(C_2)} )$.\n",
    "\n",
    "The function $p(C_1|x)=\\frac{1}{1 + \\exp \\{ -a \\} }$ is called the logistic sigmoid function.\n",
    "\n",
    "Now we only seek to model the quantity $\\log( \\frac{p(x|C_1)P(C_1)}{p(x|C_2)P(C_2)} )$. To do this, we simply maximizes it as much as we can. But before optimizing it directly using gradient descent, let's substitute in the expressions for the two class-conditional distributions and see what form it takes. If this form matches the form of a single-layer network, then we are more confident that our single-layer network can handle the tasks of evaluating posterior probabilities."
   ]
  },
  {
   "cell_type": "markdown",
   "metadata": {},
   "source": [
    "## Generate data"
   ]
  },
  {
   "cell_type": "code",
   "execution_count": 2,
   "metadata": {
    "ExecuteTime": {
     "end_time": "2020-03-16T21:08:02.562280Z",
     "start_time": "2020-03-16T21:07:59.913436Z"
    }
   },
   "outputs": [],
   "source": [
    "import numpy as np\n",
    "from scipy.stats import multivariate_normal\n",
    "from seaborn import kdeplot\n",
    "import matplotlib.pyplot as plt"
   ]
  },
  {
   "cell_type": "code",
   "execution_count": 3,
   "metadata": {
    "ExecuteTime": {
     "end_time": "2020-03-16T21:08:02.611634Z",
     "start_time": "2020-03-16T21:08:02.564852Z"
    }
   },
   "outputs": [],
   "source": [
    "class GMM():\n",
    "    \n",
    "    def __init__(self): \n",
    "        self.class_props = [0.3, 0.7]\n",
    "        self.class_conditional_1 = multivariate_normal(mean=[1, 1], cov=0.2)\n",
    "        self.class_conditional_2 = multivariate_normal(mean=[2, 1], cov=0.2)\n",
    "     \n",
    "    def sample_with_labels(self, n):\n",
    "\n",
    "        comp_indices = np.random.choice([0, 1], size=n, p=self.class_props)\n",
    "\n",
    "        comp_1_indices = np.where(comp_indices == 0)[0]\n",
    "        comp_1_samples_all = self.class_conditional_1.rvs(n)\n",
    "        if comp_1_samples_all.ndim == 1:\n",
    "            comp_1_samples_all = np.expand_dims(comp_1_samples_all, 0)\n",
    "        comp_1_samples = comp_1_samples_all[comp_1_indices]\n",
    "    \n",
    "        comp_2_indices = np.where(comp_indices == 1)[0]\n",
    "        comp_2_samples_all = self.class_conditional_2.rvs(n)\n",
    "        if comp_2_samples_all.ndim == 1:\n",
    "            comp_2_samples_all = np.expand_dims(comp_2_samples_all, 0)\n",
    "        comp_2_samples = comp_2_samples_all[comp_2_indices]\n",
    "\n",
    "        return comp_1_samples, comp_2_samples\n",
    "    \n",
    "    def sample(self, n):\n",
    "        comp_1_samples, comp_2_samples = self.sample_with_labels(n)\n",
    "        samples = np.concatenate([comp_1_samples, comp_2_samples])\n",
    "        np.random.shuffle(samples)\n",
    "        return samples\n",
    "    \n",
    "    def pdf(self, point):\n",
    "        p = np.sum(self.class_props * np.array([self.class_conditional_1.pdf(point), self.class_conditional_2.pdf(point)]))\n",
    "        return p"
   ]
  },
  {
   "cell_type": "code",
   "execution_count": 4,
   "metadata": {
    "ExecuteTime": {
     "end_time": "2020-03-16T21:08:02.628145Z",
     "start_time": "2020-03-16T21:08:02.615448Z"
    }
   },
   "outputs": [],
   "source": [
    "gmm = GMM()"
   ]
  },
  {
   "cell_type": "code",
   "execution_count": 5,
   "metadata": {
    "ExecuteTime": {
     "end_time": "2020-03-16T21:08:02.647910Z",
     "start_time": "2020-03-16T21:08:02.631946Z"
    }
   },
   "outputs": [
    {
     "name": "stdout",
     "output_type": "stream",
     "text": [
      "(149, 2) (351, 2)\n"
     ]
    }
   ],
   "source": [
    "comp_1_samples, comp_2_samples = gmm.sample_with_labels(n=500)\n",
    "print(comp_1_samples.shape, comp_2_samples.shape)"
   ]
  },
  {
   "cell_type": "code",
   "execution_count": 6,
   "metadata": {
    "ExecuteTime": {
     "end_time": "2020-03-16T21:08:02.657574Z",
     "start_time": "2020-03-16T21:08:02.650564Z"
    }
   },
   "outputs": [],
   "source": [
    "point = np.array([1, 1.0])"
   ]
  },
  {
   "cell_type": "code",
   "execution_count": 7,
   "metadata": {
    "ExecuteTime": {
     "end_time": "2020-03-16T21:08:02.665157Z",
     "start_time": "2020-03-16T21:08:02.660731Z"
    }
   },
   "outputs": [],
   "source": [
    "FEATURE_1 = np.s_[:,0]\n",
    "FEATURE_2 = np.s_[:,1]"
   ]
  },
  {
   "cell_type": "code",
   "execution_count": 8,
   "metadata": {
    "ExecuteTime": {
     "end_time": "2020-03-16T21:08:03.143717Z",
     "start_time": "2020-03-16T21:08:02.668177Z"
    }
   },
   "outputs": [
    {
     "data": {
      "image/png": "[encoded data removed]",
      "text/plain": [
       "<Figure size 864x360 with 2 Axes>"
      ]
     },
     "metadata": {
      "needs_background": "light"
     },
     "output_type": "display_data"
    }
   ],
   "source": [
    "fig = plt.figure(figsize=(12, 5))\n",
    "\n",
    "ax1 = fig.add_subplot(121)\n",
    "\n",
    "kdeplot(comp_1_samples[FEATURE_1], comp_1_samples[FEATURE_2], label=1, ax=ax1)\n",
    "kdeplot(comp_2_samples[FEATURE_1], comp_2_samples[FEATURE_2], label=2, ax=ax1)\n",
    "\n",
    "point = np.array([[1, 0.5]])\n",
    "plt.scatter(point[FEATURE_1], point[FEATURE_2], label='Point to classify', color='red')\n",
    "\n",
    "ax1.set_title('class conditional densities')\n",
    "ax1.set_xlabel('feature 1'); ax1.set_ylabel('feature 2')\n",
    "ax1.legend(); ax1.grid()\n",
    "\n",
    "ax2 = fig.add_subplot(122)\n",
    "\n",
    "samples = np.concatenate([comp_1_samples, comp_2_samples])\n",
    "kdeplot(samples[FEATURE_1], samples[FEATURE_2], ax=ax2)\n",
    "\n",
    "ax2.set_title('overall density')\n",
    "ax2.set_xlabel('feature 1'); ax2.set_ylabel('feature 2')\n",
    "ax2.grid()\n",
    "\n",
    "plt.show()"
   ]
  },
  {
   "cell_type": "markdown",
   "metadata": {},
   "source": [
    "## Closed-form solution in Bayesian"
   ]
  },
  {
   "cell_type": "markdown",
   "metadata": {},
   "source": [
    "For a single data point:"
   ]
  },
  {
   "cell_type": "markdown",
   "metadata": {},
   "source": [
    "$$p(C_k|x)=\\frac{p(x|C_k)P(C_k)}{p(x)}$$"
   ]
  },
  {
   "cell_type": "code",
   "execution_count": 9,
   "metadata": {
    "ExecuteTime": {
     "end_time": "2020-03-16T21:08:03.157513Z",
     "start_time": "2020-03-16T21:08:03.146954Z"
    }
   },
   "outputs": [
    {
     "name": "stdout",
     "output_type": "stream",
     "text": [
      "0.3 0.7\n"
     ]
    }
   ],
   "source": [
    "# prior\n",
    "P_C1, P_C2 = gmm.class_props\n",
    "print(P_C1, P_C2)"
   ]
  },
  {
   "cell_type": "code",
   "execution_count": 10,
   "metadata": {
    "ExecuteTime": {
     "end_time": "2020-03-16T21:08:03.168608Z",
     "start_time": "2020-03-16T21:08:03.161879Z"
    }
   },
   "outputs": [
    {
     "name": "stdout",
     "output_type": "stream",
     "text": [
      "0.4259475109761324 0.03496390085232893\n"
     ]
    }
   ],
   "source": [
    "# class conditional\n",
    "p_x_C1 = gmm.class_conditional_1.pdf(point)\n",
    "p_x_C2 = gmm.class_conditional_2.pdf(point)\n",
    "print(p_x_C1, p_x_C2)"
   ]
  },
  {
   "cell_type": "code",
   "execution_count": 11,
   "metadata": {
    "ExecuteTime": {
     "end_time": "2020-03-16T21:08:03.177043Z",
     "start_time": "2020-03-16T21:08:03.170518Z"
    }
   },
   "outputs": [
    {
     "name": "stdout",
     "output_type": "stream",
     "text": [
      "0.15225898388946996\n"
     ]
    }
   ],
   "source": [
    "# normalization factor\n",
    "p_x = gmm.pdf(point)\n",
    "print(p_x)"
   ]
  },
  {
   "cell_type": "code",
   "execution_count": 12,
   "metadata": {
    "ExecuteTime": {
     "end_time": "2020-03-16T21:08:03.187372Z",
     "start_time": "2020-03-16T21:08:03.180565Z"
    }
   },
   "outputs": [
    {
     "name": "stdout",
     "output_type": "stream",
     "text": [
      "0.8392559179667369 0.16074408203326312\n"
     ]
    }
   ],
   "source": [
    "# posterior\n",
    "p_C1_x = (p_x_C1 * P_C1) / p_x\n",
    "p_C2_x = (p_x_C2 * P_C2) / p_x\n",
    "print(p_C1_x, p_C2_x)"
   ]
  },
  {
   "cell_type": "code",
   "execution_count": 13,
   "metadata": {
    "ExecuteTime": {
     "end_time": "2020-03-16T21:08:03.201449Z",
     "start_time": "2020-03-16T21:08:03.190315Z"
    }
   },
   "outputs": [],
   "source": [
    "def bayes_rule(gmm, point, klass):\n",
    "    if klass == 1:\n",
    "        return (gmm.class_conditional_1.pdf(point) * gmm.class_props[0]) / gmm.pdf(point) \n",
    "    elif klass == 2:\n",
    "        return (gmm.class_conditional_2.pdf(point) * gmm.class_props[1]) / gmm.pdf(point) "
   ]
  },
  {
   "cell_type": "code",
   "execution_count": 14,
   "metadata": {
    "ExecuteTime": {
     "end_time": "2020-03-16T21:08:03.228102Z",
     "start_time": "2020-03-16T21:08:03.210138Z"
    }
   },
   "outputs": [
    {
     "name": "stdout",
     "output_type": "stream",
     "text": [
      "0.8392559179667369\n",
      "0.16074408203326312\n"
     ]
    }
   ],
   "source": [
    "print(bayes_rule(gmm, point, klass=1))\n",
    "print(bayes_rule(gmm, point, klass=2))"
   ]
  },
  {
   "cell_type": "markdown",
   "metadata": {},
   "source": [
    "For 1000 data points:"
   ]
  },
  {
   "cell_type": "code",
   "execution_count": 15,
   "metadata": {
    "ExecuteTime": {
     "end_time": "2020-03-16T21:08:03.241486Z",
     "start_time": "2020-03-16T21:08:03.233028Z"
    }
   },
   "outputs": [
    {
     "name": "stdout",
     "output_type": "stream",
     "text": [
      "(318, 2) (682, 2)\n"
     ]
    }
   ],
   "source": [
    "# generate some test samples\n",
    "# c1_test_samps: test samples generated by component 1\n",
    "c1_test_samps, c2_test_samps = gmm.sample_with_labels(n=1000)\n",
    "print(c1_test_samps.shape, c2_test_samps.shape)"
   ]
  },
  {
   "cell_type": "code",
   "execution_count": 16,
   "metadata": {
    "ExecuteTime": {
     "end_time": "2020-03-16T21:08:03.260600Z",
     "start_time": "2020-03-16T21:08:03.250516Z"
    }
   },
   "outputs": [],
   "source": [
    "def acc(preds, decision_func):\n",
    "    return np.mean(decision_func(preds))"
   ]
  },
  {
   "cell_type": "code",
   "execution_count": 17,
   "metadata": {
    "ExecuteTime": {
     "end_time": "2020-03-16T21:08:03.296174Z",
     "start_time": "2020-03-16T21:08:03.262962Z"
    }
   },
   "outputs": [],
   "source": [
    "preds = np.zeros((len(c1_test_samps), ))\n",
    "for i, samp in enumerate(c1_test_samps):\n",
    "    posterior = bayes_rule(gmm, samp, klass=1)\n",
    "    if posterior > 0.5:\n",
    "        preds[i] = 1"
   ]
  },
  {
   "cell_type": "code",
   "execution_count": 18,
   "metadata": {
    "ExecuteTime": {
     "end_time": "2020-03-16T21:08:03.305402Z",
     "start_time": "2020-03-16T21:08:03.297874Z"
    }
   },
   "outputs": [
    {
     "data": {
      "text/plain": [
       "0.7861635220125787"
      ]
     },
     "execution_count": 18,
     "metadata": {},
     "output_type": "execute_result"
    }
   ],
   "source": [
    "acc(preds, decision_func=lambda pred : pred == 1)"
   ]
  },
  {
   "cell_type": "code",
   "execution_count": 19,
   "metadata": {
    "ExecuteTime": {
     "end_time": "2020-03-16T21:08:03.379715Z",
     "start_time": "2020-03-16T21:08:03.307055Z"
    }
   },
   "outputs": [],
   "source": [
    "preds = np.zeros((len(c2_test_samps), ))\n",
    "for i, samp in enumerate(c2_test_samps):\n",
    "    posterior = bayes_rule(gmm, samp, klass=2)\n",
    "    if posterior > 0.5: preds[i] = 1"
   ]
  },
  {
   "cell_type": "code",
   "execution_count": 20,
   "metadata": {
    "ExecuteTime": {
     "end_time": "2020-03-16T21:08:03.387227Z",
     "start_time": "2020-03-16T21:08:03.381242Z"
    }
   },
   "outputs": [
    {
     "data": {
      "text/plain": [
       "0.9266862170087976"
      ]
     },
     "execution_count": 20,
     "metadata": {},
     "output_type": "execute_result"
    }
   ],
   "source": [
    "acc(preds, decision_func=lambda pred : pred == 1)"
   ]
  },
  {
   "cell_type": "markdown",
   "metadata": {},
   "source": [
    "## Closed-form NN-style solution in Bayesian\n",
    "First written: Sunday, March 15th, 2020, Spring Break, Cognition Lab @ Carleton College, Good mood"
   ]
  },
  {
   "cell_type": "markdown",
   "metadata": {},
   "source": [
    "If we substitude \n",
    "$p\\left(\\mathbf{x} | C_{k}\\right)=\\frac{1}{(2 \\pi)^{d / 2}|\\mathbf{\\Sigma}|^{1 / 2}} \\exp \\left\\{-\\frac{1}{2}\\left(\\mathbf{x}-\\boldsymbol{\\mu}_{k}\\right)^{\\mathrm{T}} \\mathbf{\\Sigma}^{-1}\\left(\\mathbf{x}-\\boldsymbol{\\mu}_{k}\\right)\\right\\}$\n",
    "into $a = \\log( \\frac{p(x|C_1)P(C_1)}{p(x|C_2)P(C_2)} )$, we obtain:"
   ]
  },
  {
   "cell_type": "markdown",
   "metadata": {},
   "source": [
    "<img src='closed_form_solution.png' width=600>"
   ]
  },
  {
   "cell_type": "markdown",
   "metadata": {},
   "source": [
    "Posterior probabilities are computed using $p(C_1|x)=\\frac{1}{1 + \\exp \\{ -a \\} }$, or $p(C_1|x)=\\frac{1}{1 + \\exp \\{ \\vec{w}^T \\vec{x} + x_0 \\} }$ (this is what's being done by the code below)."
   ]
  },
  {
   "cell_type": "code",
   "execution_count": 21,
   "metadata": {
    "ExecuteTime": {
     "end_time": "2020-03-16T21:08:03.394408Z",
     "start_time": "2020-03-16T21:08:03.389155Z"
    }
   },
   "outputs": [],
   "source": [
    "# define mu1\n",
    "mu1 = np.array([\n",
    "    [1],\n",
    "    [1]\n",
    "])\n",
    "\n",
    "# define mu2\n",
    "mu2 = np.array([\n",
    "    [2],\n",
    "    [1]\n",
    "])"
   ]
  },
  {
   "cell_type": "code",
   "execution_count": 22,
   "metadata": {
    "ExecuteTime": {
     "end_time": "2020-03-16T21:08:03.400413Z",
     "start_time": "2020-03-16T21:08:03.396159Z"
    }
   },
   "outputs": [],
   "source": [
    "# define shared covariance matrix\n",
    "cov = np.array([\n",
    "    [0.2, 0],\n",
    "    [0, 0.2]\n",
    "])"
   ]
  },
  {
   "cell_type": "code",
   "execution_count": 23,
   "metadata": {
    "ExecuteTime": {
     "end_time": "2020-03-16T21:08:03.407718Z",
     "start_time": "2020-03-16T21:08:03.403022Z"
    }
   },
   "outputs": [
    {
     "name": "stdout",
     "output_type": "stream",
     "text": [
      "0.3 0.7\n"
     ]
    }
   ],
   "source": [
    "# define prior probabilities\n",
    "P_C1, P_C2 = gmm.class_props\n",
    "print(P_C1, P_C2)"
   ]
  },
  {
   "cell_type": "code",
   "execution_count": 24,
   "metadata": {
    "ExecuteTime": {
     "end_time": "2020-03-16T21:08:03.430002Z",
     "start_time": "2020-03-16T21:08:03.415721Z"
    }
   },
   "outputs": [],
   "source": [
    "# compute \\vec{w} and w0 using equation 3.18 and 3.19 respectively\n",
    "w = np.linalg.inv(cov) @ (mu1 - mu2)\n",
    "w0 = (-0.5) * mu1.T @ np.linalg.inv(cov) @ mu1 + (0.5) * mu2.T @ np.linalg.inv(cov) @ mu2 + np.log(P_C1 / P_C2)"
   ]
  },
  {
   "cell_type": "code",
   "execution_count": 25,
   "metadata": {
    "ExecuteTime": {
     "end_time": "2020-03-16T21:08:03.439564Z",
     "start_time": "2020-03-16T21:08:03.434628Z"
    }
   },
   "outputs": [
    {
     "name": "stdout",
     "output_type": "stream",
     "text": [
      "[[-5.]\n",
      " [ 0.]] [[6.65270214]]\n"
     ]
    }
   ],
   "source": [
    "print(w, w0)"
   ]
  },
  {
   "cell_type": "code",
   "execution_count": 26,
   "metadata": {
    "ExecuteTime": {
     "end_time": "2020-03-16T21:08:03.449020Z",
     "start_time": "2020-03-16T21:08:03.442241Z"
    }
   },
   "outputs": [],
   "source": [
    "# defined utility functions\n",
    "def sigmoid(x):\n",
    "    return 1 / (1 + np.exp(-x))"
   ]
  },
  {
   "cell_type": "code",
   "execution_count": 27,
   "metadata": {
    "ExecuteTime": {
     "end_time": "2020-03-16T21:08:03.459063Z",
     "start_time": "2020-03-16T21:08:03.452117Z"
    }
   },
   "outputs": [
    {
     "data": {
      "text/plain": [
       "0.7861635220125787"
      ]
     },
     "execution_count": 27,
     "metadata": {},
     "output_type": "execute_result"
    }
   ],
   "source": [
    "c1_test_classifications = sigmoid(w.T @ c1_test_samps.T + w0)\n",
    "acc(c1_test_classifications, decision_func=lambda preds : preds > 0.5)"
   ]
  },
  {
   "cell_type": "code",
   "execution_count": 28,
   "metadata": {
    "ExecuteTime": {
     "end_time": "2020-03-16T21:08:03.467681Z",
     "start_time": "2020-03-16T21:08:03.461633Z"
    }
   },
   "outputs": [
    {
     "data": {
      "text/plain": [
       "0.9266862170087976"
      ]
     },
     "execution_count": 28,
     "metadata": {},
     "output_type": "execute_result"
    }
   ],
   "source": [
    "c2_test_classifications = sigmoid(w.T @ c2_test_samps.T + w0)\n",
    "acc(c2_test_classifications, decision_func=lambda preds : preds < 0.5)"
   ]
  },
  {
   "cell_type": "markdown",
   "metadata": {},
   "source": [
    "Accuracy on class 2 is expected to be higher since its prior probability is greater - there are simply more samples from class 2 (70%, see `P_C1`)."
   ]
  },
  {
   "cell_type": "markdown",
   "metadata": {},
   "source": [
    "These accuracies are not expected to be exceeded by the gradient-descent approach."
   ]
  },
  {
   "cell_type": "markdown",
   "metadata": {},
   "source": [
    "## Gradient-descent solution"
   ]
  },
  {
   "cell_type": "code",
   "execution_count": 29,
   "metadata": {
    "ExecuteTime": {
     "end_time": "2020-03-16T21:08:03.675101Z",
     "start_time": "2020-03-16T21:08:03.471085Z"
    }
   },
   "outputs": [],
   "source": [
    "import torch\n",
    "from torch.utils.data import TensorDataset, DataLoader\n",
    "import torch.nn as nn\n",
    "import torch.optim as optim"
   ]
  },
  {
   "cell_type": "code",
   "execution_count": 30,
   "metadata": {
    "ExecuteTime": {
     "end_time": "2020-03-16T21:08:03.683827Z",
     "start_time": "2020-03-16T21:08:03.677157Z"
    }
   },
   "outputs": [],
   "source": [
    "class SingleLayerNetwork(nn.Module):\n",
    "    \n",
    "    def __init__(self):\n",
    "        super().__init__()\n",
    "        self.main = nn.Sequential(\n",
    "            nn.Linear(in_features=2, out_features=2, bias=True)\n",
    "        )\n",
    "        \n",
    "    def forward(self, xs):\n",
    "        xs = self.main(xs)\n",
    "        return xs"
   ]
  },
  {
   "cell_type": "code",
   "execution_count": 31,
   "metadata": {
    "ExecuteTime": {
     "end_time": "2020-03-16T21:08:03.691327Z",
     "start_time": "2020-03-16T21:08:03.686453Z"
    }
   },
   "outputs": [],
   "source": [
    "def get_model():\n",
    "    model = SingleLayerNetwork()\n",
    "    return model, optim.SGD(model.parameters(), lr=0.01)"
   ]
  },
  {
   "cell_type": "code",
   "execution_count": 32,
   "metadata": {
    "ExecuteTime": {
     "end_time": "2020-03-16T21:08:03.697201Z",
     "start_time": "2020-03-16T21:08:03.693448Z"
    }
   },
   "outputs": [],
   "source": [
    "loss_fn = nn.CrossEntropyLoss"
   ]
  },
  {
   "cell_type": "code",
   "execution_count": 33,
   "metadata": {
    "ExecuteTime": {
     "end_time": "2020-03-16T21:08:03.706300Z",
     "start_time": "2020-03-16T21:08:03.699990Z"
    }
   },
   "outputs": [],
   "source": [
    "train_samps = torch.from_numpy(np.concatenate([c1_test_samps, c2_test_samps]))\n",
    "train_labels = torch.from_numpy(np.concatenate([np.ones(len(c1_test_samps)), np.zeros(len(c2_test_samps))]))"
   ]
  },
  {
   "cell_type": "code",
   "execution_count": 34,
   "metadata": {
    "ExecuteTime": {
     "end_time": "2020-03-16T21:08:03.713676Z",
     "start_time": "2020-03-16T21:08:03.708426Z"
    }
   },
   "outputs": [],
   "source": [
    "train_ds = TensorDataset(train_samps, train_labels)\n",
    "train_dl = DataLoader(train_ds, batch_size=16, shuffle=True)"
   ]
  },
  {
   "cell_type": "code",
   "execution_count": null,
   "metadata": {
    "ExecuteTime": {
     "start_time": "2020-03-16T21:08:04.939Z"
    }
   },
   "outputs": [],
   "source": [
    "model, optim = get_model()\n",
    "for i in range(10):\n",
    "    for xb, yb in train_dl:\n",
    "        yhatb = model(xb.float())\n",
    "        loss = loss_fn(yhatb, yb)\n",
    "        print(loss)\n",
    "        loss.backward()\n",
    "        optim.step()\n",
    "        optim.zero_grad()"
   ]
  },
  {
   "cell_type": "code",
   "execution_count": null,
   "metadata": {},
   "outputs": [],
   "source": []
  },
  {
   "cell_type": "code",
   "execution_count": null,
   "metadata": {},
   "outputs": [],
   "source": []
  },
  {
   "cell_type": "code",
   "execution_count": null,
   "metadata": {},
   "outputs": [],
   "source": []
  },
  {
   "cell_type": "code",
   "execution_count": null,
   "metadata": {},
   "outputs": [],
   "source": []
  },
  {
   "cell_type": "markdown",
   "metadata": {},
   "source": [
    "### Compute posterior using baye's rule"
   ]
  },
  {
   "cell_type": "markdown",
   "metadata": {},
   "source": []
  },
  {
   "cell_type": "markdown",
   "metadata": {},
   "source": [
    "## Compare solutions"
   ]
  },
  {
   "cell_type": "code",
   "execution_count": null,
   "metadata": {},
   "outputs": [],
   "source": []
  },
  {
   "cell_type": "code",
   "execution_count": null,
   "metadata": {},
   "outputs": [],
   "source": []
  }
 ],
 "metadata": {
  "kernelspec": {
   "display_name": "Python 3",
   "language": "python",
   "name": "python3"
  },
  "language_info": {
   "codemirror_mode": {
    "name": "ipython",
    "version": 3
   },
   "file_extension": ".py",
   "mimetype": "text/x-python",
   "name": "python",
   "nbconvert_exporter": "python",
   "pygments_lexer": "ipython3",
   "version": "3.6.9"
  },
  "toc": {
   "base_numbering": 1,
   "nav_menu": {},
   "number_sections": false,
   "sideBar": true,
   "skip_h1_title": false,
   "title_cell": "Table of Contents",
   "title_sidebar": "Contents",
   "toc_cell": false,
   "toc_position": {
    "height": "calc(100% - 180px)",
    "left": "10px",
    "top": "150px",
    "width": "361.719px"
   },
   "toc_section_display": true,
   "toc_window_display": true
  }
 },
 "nbformat": 4,
 "nbformat_minor": 2
}
