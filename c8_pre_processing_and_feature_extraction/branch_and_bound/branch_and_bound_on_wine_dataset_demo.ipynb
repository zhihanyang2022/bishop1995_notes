{
 "cells": [
  {
   "cell_type": "markdown",
   "metadata": {},
   "source": [
    "# Feature selection on UCI red-wine dataset"
   ]
  },
  {
   "cell_type": "code",
   "execution_count": 184,
   "metadata": {
    "ExecuteTime": {
     "end_time": "2020-05-22T00:56:15.091665Z",
     "start_time": "2020-05-22T00:56:15.086626Z"
    }
   },
   "outputs": [],
   "source": [
    "import json\n",
    "import numpy as np\n",
    "import pandas as pd\n",
    "import networkx as nx\n",
    "import matplotlib.pyplot as plt\n",
    "import seaborn as sns\n",
    "from sklearn.neural_network import MLPClassifier\n",
    "from sklearn.linear_model import LogisticRegression, LinearRegression\n",
    "from tqdm import tqdm_notebook"
   ]
  },
  {
   "cell_type": "markdown",
   "metadata": {},
   "source": [
    "## Load and channel-wise normalize data"
   ]
  },
  {
   "cell_type": "code",
   "execution_count": 23,
   "metadata": {
    "ExecuteTime": {
     "end_time": "2020-05-21T22:30:05.185582Z",
     "start_time": "2020-05-21T22:30:04.883134Z"
    }
   },
   "outputs": [],
   "source": [
    "url = 'http://archive.ics.uci.edu/ml/machine-learning-databases/wine-quality/winequality-red.csv'\n",
    "data_with_labels = np.array(pd.read_csv(url, sep=\";\"))\n",
    "\n",
    "np.random.shuffle(data_with_labels)\n",
    "\n",
    "data = data_with_labels[:,:11]\n",
    "labels = data_with_labels[:,11]\n",
    "\n",
    "data[:,:11] -= data[:,:11].mean()\n",
    "data[:,:11] /= data[:,:11].std()\n",
    "\n",
    "data.shape\n",
    "\n",
    "data_5_6 = data[np.logical_or(labels == 5, labels == 6)]\n",
    "labels_5_6 = labels[np.logical_or(labels == 5, labels == 6)]\n",
    "\n",
    "labels_5_6[labels_5_6 == 5] = 0\n",
    "labels_5_6[labels_5_6 == 6] = 1\n",
    "\n",
    "data_5_6_train, data_5_6_valid = data_5_6[:int(len(data_5_6) * 0.5)], data_5_6[-int(len(data_5_6) * 0.5):]\n",
    "labels_5_6_train, labels_5_6_valid = labels_5_6[:int(len(data_5_6) * 0.5)], labels_5_6[-int(len(data_5_6) * 0.5):]"
   ]
  },
  {
   "cell_type": "code",
   "execution_count": 22,
   "metadata": {
    "ExecuteTime": {
     "end_time": "2020-05-21T22:29:33.832557Z",
     "start_time": "2020-05-21T22:29:33.821560Z"
    }
   },
   "outputs": [],
   "source": [
    "q5 = data[labels == 5]\n",
    "q6 = data[labels == 6]"
   ]
  },
  {
   "cell_type": "code",
   "execution_count": 4,
   "metadata": {
    "ExecuteTime": {
     "end_time": "2020-05-21T22:28:31.228883Z",
     "start_time": "2020-05-21T22:28:31.220402Z"
    }
   },
   "outputs": [],
   "source": []
  },
  {
   "cell_type": "markdown",
   "metadata": {},
   "source": [
    "## Fisher criterion"
   ]
  },
  {
   "cell_type": "code",
   "execution_count": 34,
   "metadata": {
    "ExecuteTime": {
     "end_time": "2020-05-21T22:31:39.386309Z",
     "start_time": "2020-05-21T22:31:39.377065Z"
    }
   },
   "outputs": [],
   "source": [
    "def get_fisher_projections(data_1, data_2, return_w=False):\n",
    "    \n",
    "    m1 = np.mean(data_1, axis=0)\n",
    "    m2 = np.mean(data_2, axis=0)\n",
    "    \n",
    "    Sw = (data_1 - m1).T @ (data_1 - m1) + (data_2 - m2).T @ (data_2 - m2)\n",
    "    \n",
    "    w = np.linalg.inv(Sw) @ (m2 - m1).reshape(-1, 1)\n",
    "    w /= np.linalg.norm(w)\n",
    "    \n",
    "    if not return_w:\n",
    "        return data_1 @ w, data_2 @ w\n",
    "    else:\n",
    "        return data_1 @ w, data_2 @ w, w"
   ]
  },
  {
   "cell_type": "code",
   "execution_count": 35,
   "metadata": {
    "ExecuteTime": {
     "end_time": "2020-05-21T22:31:39.586870Z",
     "start_time": "2020-05-21T22:31:39.575456Z"
    }
   },
   "outputs": [],
   "source": [
    "proj5, proj6 = get_fisher_projections(q5, q6)"
   ]
  },
  {
   "cell_type": "code",
   "execution_count": 36,
   "metadata": {
    "ExecuteTime": {
     "end_time": "2020-05-21T22:31:40.130624Z",
     "start_time": "2020-05-21T22:31:39.902532Z"
    }
   },
   "outputs": [
    {
     "data": {
      "image/png": "[encoded data removed]",
      "text/plain": [
       "<Figure size 432x288 with 1 Axes>"
      ]
     },
     "metadata": {
      "needs_background": "light"
     },
     "output_type": "display_data"
    }
   ],
   "source": [
    "sns.distplot(proj5)\n",
    "sns.distplot(proj6)\n",
    "plt.show()"
   ]
  },
  {
   "cell_type": "code",
   "execution_count": 37,
   "metadata": {
    "ExecuteTime": {
     "end_time": "2020-05-21T22:31:47.414810Z",
     "start_time": "2020-05-21T22:31:47.402063Z"
    }
   },
   "outputs": [],
   "source": [
    "def fisher_criterion(projs_1, projs_2):\n",
    "    return float((projs_1.mean() - projs_2.mean()) ** 2 / (projs_1.var() + projs_2.var()))"
   ]
  },
  {
   "cell_type": "code",
   "execution_count": 38,
   "metadata": {
    "ExecuteTime": {
     "end_time": "2020-05-21T22:31:47.733532Z",
     "start_time": "2020-05-21T22:31:47.726888Z"
    }
   },
   "outputs": [
    {
     "data": {
      "text/plain": [
       "0.5856450741103125"
      ]
     },
     "execution_count": 38,
     "metadata": {},
     "output_type": "execute_result"
    }
   ],
   "source": [
    "fisher_criterion(proj5, proj6)"
   ]
  },
  {
   "cell_type": "code",
   "execution_count": 39,
   "metadata": {
    "ExecuteTime": {
     "end_time": "2020-05-21T22:31:48.745464Z",
     "start_time": "2020-05-21T22:31:48.741065Z"
    }
   },
   "outputs": [],
   "source": [
    "def score_combination(retained_ids):\n",
    "    retained_ids = [i - 1 for i in retained_ids]\n",
    "    proj_1, proj_2 = get_fisher_projections(q5[:, retained_ids], q6[:, retained_ids])\n",
    "    return fisher_criterion(proj_1, proj_2)"
   ]
  },
  {
   "cell_type": "markdown",
   "metadata": {},
   "source": [
    "## Node class"
   ]
  },
  {
   "cell_type": "code",
   "execution_count": 40,
   "metadata": {
    "ExecuteTime": {
     "end_time": "2020-05-21T22:31:49.899802Z",
     "start_time": "2020-05-21T22:31:49.894127Z"
    }
   },
   "outputs": [],
   "source": [
    "class Node:\n",
    "    \n",
    "    def __init__(self, id, depth, parents):\n",
    "        self.id = id\n",
    "        self.expanded = False\n",
    "        self.searched = False\n",
    "        self.depth = depth\n",
    "        self.parents = parents"
   ]
  },
  {
   "cell_type": "markdown",
   "metadata": {},
   "source": [
    "## Branch-and-bound class"
   ]
  },
  {
   "cell_type": "code",
   "execution_count": 41,
   "metadata": {
    "ExecuteTime": {
     "end_time": "2020-05-21T22:31:50.623918Z",
     "start_time": "2020-05-21T22:31:50.599264Z"
    },
    "code_folding": []
   },
   "outputs": [],
   "source": [
    "class BranchAndBound:\n",
    "    \n",
    "    def __init__(self, num_features, num_features_retained, scoring_func, verbose):\n",
    "        \n",
    "        self.feature_ids = np.arange(1, num_features + 1)\n",
    "        self.max_id = num_features\n",
    "        self.num_features_retained = num_features_retained\n",
    "        num_features_removed = num_features - num_features_retained\n",
    "        self.max_depth = num_features_removed\n",
    "        \n",
    "        self.scoring_func = scoring_func\n",
    "        self.verbose = verbose\n",
    "        \n",
    "        self.construct_graph()\n",
    "    \n",
    "    def has_valid_and_unexpanded_nodes(self, graph):\n",
    "        \"\"\"Helper method to self.construct_graph.\"\"\"\n",
    "        for n in graph.nodes:\n",
    "            if not n.expanded and n.depth < self.max_depth:\n",
    "                return True\n",
    "        return False\n",
    "    \n",
    "    def get_valid_and_unexpanded_nodes(self, graph):\n",
    "        \"\"\"Helper method to self.construct_graph.\"\"\"\n",
    "        unexpanded_nodes = []\n",
    "        for n in graph.nodes:\n",
    "            if not n.expanded and n.depth < self.max_depth:\n",
    "                unexpanded_nodes.append(n)\n",
    "        return unexpanded_nodes\n",
    "    \n",
    "    def expand(self, parent):\n",
    "        \"\"\"Helper method to self.construct_graph.\"\"\"\n",
    "    \n",
    "        children = []\n",
    "        edges_to_children = []\n",
    "\n",
    "        for id in self.feature_ids:\n",
    "\n",
    "            # suppose the next step is already taken\n",
    "\n",
    "            steps_remaining = self.max_depth - (parent.depth + 1)\n",
    "            steps_allowed = self.max_id - id\n",
    "\n",
    "            # id > parent.id so that branches are not duplicates of each other\n",
    "            # steps_allowed >= steps_remaining because the depth of the tree along each branch is fixed\n",
    "\n",
    "            if id > parent.id and steps_allowed >= steps_remaining:\n",
    "\n",
    "                child = Node(\n",
    "                    id=id, \n",
    "                    depth=parent.depth + 1,\n",
    "                    parents=parent.parents + [parent]\n",
    "                )\n",
    "\n",
    "                children.append(child)\n",
    "                edges_to_children.append((parent, child))\n",
    "\n",
    "        parent.expanded = True\n",
    "\n",
    "        return children, edges_to_children\n",
    "        \n",
    "    def construct_graph(self):\n",
    "        \"\"\"Called in self.__init__.\"\"\"\n",
    "    \n",
    "        # ==============================\n",
    "        # create a directional graph in order to use the method self.G.successors\n",
    "        # ==============================\n",
    "        \n",
    "        self.G = nx.DiGraph()\n",
    "\n",
    "        # ==============================\n",
    "        # create a root node\n",
    "        # note that the root node does not represent any feature, so it has an id of 0\n",
    "        # ==============================\n",
    "        \n",
    "        self.root_node = Node(id=0, depth=0, parents=[])\n",
    "        \n",
    "        # ==============================\n",
    "        # create first-level (depth=1) nodes that are directly connected to the root node\n",
    "        # ==============================\n",
    "        \n",
    "        # In order to decide the number of first-level nodes,\n",
    "        # we need to make sure that the first-level nodes have a\n",
    "        # highest feature id <= self.max_id - self.num_features_removed = self.num_features_retained.\n",
    "        \n",
    "        # Since we are indexing an array, we need to plus 1 to self.num_features_retained\n",
    "        # in order to obtain the first self.num_features_retained feature ids.\n",
    "        \n",
    "        first_level_ids = self.feature_ids[:self.num_features_retained+1]\n",
    "        \n",
    "        for id in list(first_level_ids):\n",
    "            \n",
    "            new_node = Node(id=id, depth=1, parents=[self.root_node])\n",
    "            self.G.add_node(new_node)\n",
    "                       \n",
    "        self.G.add_edges_from([(self.root_node, n) for n in self.G.nodes if n != self.root_node])\n",
    "        \n",
    "        # ==============================\n",
    "        # apparently, the root node has been expanded because all first-level nodes are added to the graph\n",
    "        # ==============================\n",
    "        \n",
    "        self.root_node.expanded = True\n",
    "        \n",
    "        # ==============================\n",
    "        # construct the remaining part of the graph\n",
    "        # ==============================\n",
    "        \n",
    "        while self.has_valid_and_unexpanded_nodes(self.G):\n",
    "            for n in self.get_valid_and_unexpanded_nodes(self.G):\n",
    "                children, edges_to_children = self.expand(n)\n",
    "                self.G.add_nodes_from(children)\n",
    "                self.G.add_edges_from(edges_to_children)\n",
    "        \n",
    "    def traverse(self, node):\n",
    "        \"\"\"Called in self.find_best_ids.\"\"\"\n",
    "        \n",
    "        set_of_all_ids = set(list(self.feature_ids))\n",
    "\n",
    "        for n in self.G.successors(node):\n",
    "\n",
    "            comb_of_ids = {n.id for n in n.parents + [n]}\n",
    "            score = self.scoring_func(set_of_all_ids - comb_of_ids)\n",
    "            \n",
    "            # If score <= self.benchmark, no additional removals of features are evaluated because\n",
    "            # the self.scoring_func satisfies the monotonicity property.\n",
    "\n",
    "            if score > self.benchmark:\n",
    "                if n.depth == self.max_depth:\n",
    "                    self.benchmark = score\n",
    "                    self.arg_benchmark = list(set_of_all_ids - comb_of_ids)\n",
    "                else:\n",
    "                    self.traverse(n)\n",
    "            else:  \n",
    "                pass\n",
    "                \n",
    "    def find_best_ids(self):\n",
    "\n",
    "        set_of_all_ids = set(list(self.feature_ids))\n",
    "\n",
    "        # ==============================\n",
    "        # Travel all the way through the tree once along a random path ...\n",
    "        # ==============================\n",
    "        \n",
    "        current_node = self.root_node\n",
    "        nodes_on_path = [self.root_node]\n",
    "        while current_node.depth < self.max_depth:  # stop when current_node.depth == max_depth\n",
    "            current_node = np.random.choice(list(self.G.successors(current_node)))\n",
    "            nodes_on_path.append(current_node)\n",
    "            \n",
    "        # ==============================\n",
    "        # ... so that a pair of benchmark and arg_benchmark can be obtained.\n",
    "        # ==============================\n",
    "    \n",
    "        comb_of_ids = {n.id for n in nodes_on_path}\n",
    "        \n",
    "        self.benchmark = self.scoring_func(set_of_all_ids - comb_of_ids)\n",
    "        self.arg_benchmark = set_of_all_ids - comb_of_ids\n",
    "        \n",
    "        # ==============================\n",
    "        # Recursively traverse following the assumption that self.scoring_func (J) satisties a monotonicity property such that\n",
    "        # $J(X^+) \\geq J(X)$ where $X^+$ denotes a set of features and X $\\subset$ X^+$.\n",
    "        #\n",
    "        # For more details on how this is implemented, see self.traversal.\n",
    "        #\n",
    "        # The current best and its performance are kept in variables self.benchmark and self.arg_benchmark respectively.\n",
    "        # ==============================\n",
    "\n",
    "        self.traverse(self.root_node)\n",
    "\n",
    "        # ==============================\n",
    "        # Print out the overall best and its performance if required.\n",
    "        # ==============================\n",
    "        \n",
    "        if self.verbose:\n",
    "            print('Best Fisher criterion:', round(self.benchmark, 3))\n",
    "            print('Features to retain:', self.arg_benchmark)\n",
    "            \n",
    "        # ==============================\n",
    "        # The overall best, self.arg_benchmark, is converted into array indexing for Numpy advanced indexing along the feature axis.\n",
    "        # ==============================\n",
    "        \n",
    "        return [i - 1 for i in self.arg_benchmark]"
   ]
  },
  {
   "cell_type": "markdown",
   "metadata": {},
   "source": [
    "## Analysis"
   ]
  },
  {
   "cell_type": "markdown",
   "metadata": {},
   "source": [
    "### Simple selection criterion does not model the true relationship between the number of features selected and the model's performance."
   ]
  },
  {
   "cell_type": "code",
   "execution_count": 242,
   "metadata": {
    "ExecuteTime": {
     "end_time": "2020-05-22T01:01:54.666880Z",
     "start_time": "2020-05-22T01:01:48.937432Z"
    }
   },
   "outputs": [
    {
     "data": {
      "application/vnd.jupyter.widget-view+json": {
       "model_id": "1b020d0a97704e8482f0e44d4bc9bcbf",
       "version_major": 2,
       "version_minor": 0
      },
      "text/plain": [
       "HBox(children=(IntProgress(value=0, max=11), HTML(value='')))"
      ]
     },
     "metadata": {},
     "output_type": "display_data"
    },
    {
     "name": "stderr",
     "output_type": "stream",
     "text": [
      "/Users/yangzhihan/anaconda/envs/deeplearning_googlecloud/lib/python3.6/site-packages/sklearn/neural_network/multilayer_perceptron.py:568: UserWarning: Training interrupted by user.\n",
      "  warnings.warn(\"Training interrupted by user.\")\n"
     ]
    },
    {
     "ename": "ValueError",
     "evalue": "Logistic Regression supports only solvers in ['liblinear', 'newton-cg', 'lbfgs', 'sag', 'saga'], got lfgbs.",
     "output_type": "error",
     "traceback": [
      "\u001b[0;31m---------------------------------------------------------------------------\u001b[0m",
      "\u001b[0;31mValueError\u001b[0m                                Traceback (most recent call last)",
      "\u001b[0;32m<ipython-input-242-b7e51bc809e2>\u001b[0m in \u001b[0;36m<module>\u001b[0;34m\u001b[0m\n\u001b[1;32m     45\u001b[0m     \u001b[0;31m# ==============================\u001b[0m\u001b[0;34m\u001b[0m\u001b[0;34m\u001b[0m\u001b[0;34m\u001b[0m\u001b[0m\n\u001b[1;32m     46\u001b[0m \u001b[0;34m\u001b[0m\u001b[0m\n\u001b[0;32m---> 47\u001b[0;31m     \u001b[0mlogreg_clf\u001b[0m \u001b[0;34m=\u001b[0m \u001b[0mLogisticRegression\u001b[0m\u001b[0;34m(\u001b[0m\u001b[0msolver\u001b[0m\u001b[0;34m=\u001b[0m\u001b[0;34m'lfgbs'\u001b[0m\u001b[0;34m,\u001b[0m \u001b[0mmulti_class\u001b[0m\u001b[0;34m=\u001b[0m\u001b[0;34m'ovr'\u001b[0m\u001b[0;34m)\u001b[0m\u001b[0;34m.\u001b[0m\u001b[0mfit\u001b[0m\u001b[0;34m(\u001b[0m\u001b[0mdata_5_6_train\u001b[0m\u001b[0;34m[\u001b[0m\u001b[0;34m:\u001b[0m\u001b[0;34m,\u001b[0m \u001b[0marg_benchmark\u001b[0m\u001b[0;34m]\u001b[0m\u001b[0;34m,\u001b[0m \u001b[0mlabels_5_6_train\u001b[0m\u001b[0;34m)\u001b[0m\u001b[0;34m\u001b[0m\u001b[0;34m\u001b[0m\u001b[0m\n\u001b[0m\u001b[1;32m     48\u001b[0m \u001b[0;34m\u001b[0m\u001b[0m\n\u001b[1;32m     49\u001b[0m     \u001b[0mtrain_accs_logreg\u001b[0m\u001b[0;34m.\u001b[0m\u001b[0mappend\u001b[0m\u001b[0;34m(\u001b[0m\u001b[0mlogreg_clf\u001b[0m\u001b[0;34m.\u001b[0m\u001b[0mscore\u001b[0m\u001b[0;34m(\u001b[0m\u001b[0mdata_5_6_train\u001b[0m\u001b[0;34m[\u001b[0m\u001b[0;34m:\u001b[0m\u001b[0;34m,\u001b[0m \u001b[0marg_benchmark\u001b[0m\u001b[0;34m]\u001b[0m\u001b[0;34m,\u001b[0m \u001b[0mlabels_5_6_train\u001b[0m\u001b[0;34m)\u001b[0m\u001b[0;34m)\u001b[0m\u001b[0;34m\u001b[0m\u001b[0;34m\u001b[0m\u001b[0m\n",
      "\u001b[0;32m~/anaconda/envs/deeplearning_googlecloud/lib/python3.6/site-packages/sklearn/linear_model/logistic.py\u001b[0m in \u001b[0;36mfit\u001b[0;34m(self, X, y, sample_weight)\u001b[0m\n\u001b[1;32m   1491\u001b[0m         \u001b[0mThe\u001b[0m \u001b[0mSAGA\u001b[0m \u001b[0msolver\u001b[0m \u001b[0msupports\u001b[0m \u001b[0mboth\u001b[0m \u001b[0mfloat64\u001b[0m \u001b[0;32mand\u001b[0m \u001b[0mfloat32\u001b[0m \u001b[0mbit\u001b[0m \u001b[0marrays\u001b[0m\u001b[0;34m.\u001b[0m\u001b[0;34m\u001b[0m\u001b[0;34m\u001b[0m\u001b[0m\n\u001b[1;32m   1492\u001b[0m         \"\"\"\n\u001b[0;32m-> 1493\u001b[0;31m         \u001b[0msolver\u001b[0m \u001b[0;34m=\u001b[0m \u001b[0m_check_solver\u001b[0m\u001b[0;34m(\u001b[0m\u001b[0mself\u001b[0m\u001b[0;34m.\u001b[0m\u001b[0msolver\u001b[0m\u001b[0;34m,\u001b[0m \u001b[0mself\u001b[0m\u001b[0;34m.\u001b[0m\u001b[0mpenalty\u001b[0m\u001b[0;34m,\u001b[0m \u001b[0mself\u001b[0m\u001b[0;34m.\u001b[0m\u001b[0mdual\u001b[0m\u001b[0;34m)\u001b[0m\u001b[0;34m\u001b[0m\u001b[0;34m\u001b[0m\u001b[0m\n\u001b[0m\u001b[1;32m   1494\u001b[0m \u001b[0;34m\u001b[0m\u001b[0m\n\u001b[1;32m   1495\u001b[0m         \u001b[0;32mif\u001b[0m \u001b[0;32mnot\u001b[0m \u001b[0misinstance\u001b[0m\u001b[0;34m(\u001b[0m\u001b[0mself\u001b[0m\u001b[0;34m.\u001b[0m\u001b[0mC\u001b[0m\u001b[0;34m,\u001b[0m \u001b[0mnumbers\u001b[0m\u001b[0;34m.\u001b[0m\u001b[0mNumber\u001b[0m\u001b[0;34m)\u001b[0m \u001b[0;32mor\u001b[0m \u001b[0mself\u001b[0m\u001b[0;34m.\u001b[0m\u001b[0mC\u001b[0m \u001b[0;34m<\u001b[0m \u001b[0;36m0\u001b[0m\u001b[0;34m:\u001b[0m\u001b[0;34m\u001b[0m\u001b[0;34m\u001b[0m\u001b[0m\n",
      "\u001b[0;32m~/anaconda/envs/deeplearning_googlecloud/lib/python3.6/site-packages/sklearn/linear_model/logistic.py\u001b[0m in \u001b[0;36m_check_solver\u001b[0;34m(solver, penalty, dual)\u001b[0m\n\u001b[1;32m    435\u001b[0m     \u001b[0;32mif\u001b[0m \u001b[0msolver\u001b[0m \u001b[0;32mnot\u001b[0m \u001b[0;32min\u001b[0m \u001b[0mall_solvers\u001b[0m\u001b[0;34m:\u001b[0m\u001b[0;34m\u001b[0m\u001b[0;34m\u001b[0m\u001b[0m\n\u001b[1;32m    436\u001b[0m         raise ValueError(\"Logistic Regression supports only solvers in %s, got\"\n\u001b[0;32m--> 437\u001b[0;31m                          \" %s.\" % (all_solvers, solver))\n\u001b[0m\u001b[1;32m    438\u001b[0m \u001b[0;34m\u001b[0m\u001b[0m\n\u001b[1;32m    439\u001b[0m     \u001b[0mall_penalties\u001b[0m \u001b[0;34m=\u001b[0m \u001b[0;34m[\u001b[0m\u001b[0;34m'l1'\u001b[0m\u001b[0;34m,\u001b[0m \u001b[0;34m'l2'\u001b[0m\u001b[0;34m,\u001b[0m \u001b[0;34m'elasticnet'\u001b[0m\u001b[0;34m,\u001b[0m \u001b[0;34m'none'\u001b[0m\u001b[0;34m]\u001b[0m\u001b[0;34m\u001b[0m\u001b[0;34m\u001b[0m\u001b[0m\n",
      "\u001b[0;31mValueError\u001b[0m: Logistic Regression supports only solvers in ['liblinear', 'newton-cg', 'lbfgs', 'sag', 'saga'], got lfgbs."
     ]
    }
   ],
   "source": [
    "num_features_retained_s = np.arange(1, 11+1)\n",
    "fisher_criterions = []\n",
    "\n",
    "train_accs_mlp = []\n",
    "valid_accs_mlp = []\n",
    "\n",
    "train_accs_logreg = []\n",
    "valid_accs_logreg = []\n",
    "\n",
    "for i in tqdm_notebook(num_features_retained_s, leave=False):\n",
    "    \n",
    "    bab = BranchAndBound(\n",
    "        num_features=11, \n",
    "        num_features_retained=i, \n",
    "        scoring_func=score_combination,\n",
    "        verbose=False\n",
    "    )\n",
    "    arg_benchmark = bab.find_best_ids()\n",
    "    \n",
    "    best_proj_5, best_proj_6, w = get_fisher_projections(q5[:, arg_benchmark], q6[:, arg_benchmark], return_w=True)\n",
    "    \n",
    "    fisher_criterions.append(fisher_criterion(best_proj_5, best_proj_6))\n",
    "    \n",
    "    # ==============================\n",
    "    # MLP\n",
    "    # ==============================\n",
    "    \n",
    "    valid_temps = []\n",
    "    train_temps = []\n",
    "    \n",
    "    for i in range(5):  # since MLP is less consistent, we average stats over multiple runs\n",
    "        \n",
    "        mlp_clf = MLPClassifier(solver='adam', hidden_layer_sizes=(300, 300, 300), max_iter=int(1e7)).fit(\n",
    "            data_5_6_train[:, arg_benchmark], labels_5_6_train\n",
    "        )\n",
    "\n",
    "        valid_temps.append(mlp_clf.score(data_5_6_valid[:, arg_benchmark], labels_5_6_valid))\n",
    "        train_temps.append(mlp_clf.score(data_5_6_train[:, arg_benchmark], labels_5_6_train))\n",
    "        \n",
    "    train_accs_mlp.append(np.mean(train_temps))\n",
    "    valid_accs_mlp.append(np.mean(valid_temps))\n",
    "    \n",
    "    # ==============================\n",
    "    # Logistic regression\n",
    "    # ==============================\n",
    "    \n",
    "    logreg_clf = LogisticRegression(solver='lfgbs', multi_class='ovr').fit(data_5_6_train[:, arg_benchmark], labels_5_6_train)\n",
    "    \n",
    "    train_accs_logreg.append(logreg_clf.score(data_5_6_train[:, arg_benchmark], labels_5_6_train))\n",
    "    valid_accs_logreg.append(logreg_clf.score(data_5_6_valid[:, arg_benchmark], labels_5_6_valid))"
   ]
  },
  {
   "cell_type": "code",
   "execution_count": null,
   "metadata": {
    "ExecuteTime": {
     "end_time": "2020-05-22T01:01:54.678378Z",
     "start_time": "2020-05-22T01:01:49.257Z"
    }
   },
   "outputs": [],
   "source": [
    "with open('training_history.json', 'w+') as json_f:\n",
    "    json.dump([\n",
    "        train_accs_mlp,\n",
    "        valid_accs_mlp,\n",
    "        train_accs_logreg,\n",
    "        valid_accs_logreg\n",
    "    ], json_f)"
   ]
  },
  {
   "cell_type": "code",
   "execution_count": 54,
   "metadata": {
    "ExecuteTime": {
     "end_time": "2020-05-21T22:39:28.766578Z",
     "start_time": "2020-05-21T22:39:28.404698Z"
    },
    "scrolled": true
   },
   "outputs": [
    {
     "data": {
      "image/png": "[encoded data removed]",
      "text/plain": [
       "<Figure size 1080x360 with 3 Axes>"
      ]
     },
     "metadata": {
      "needs_background": "light"
     },
     "output_type": "display_data"
    }
   ],
   "source": [
    "fig = plt.figure(figsize=(15, 5))\n",
    "\n",
    "fig.add_subplot(131)\n",
    "plt.plot(num_features_retained_s, fisher_criterions)\n",
    "plt.xticks(num_features_retained_s)\n",
    "plt.xlabel('Number of features selected'); plt.ylabel('Fisher criterion')\n",
    "plt.grid()\n",
    "\n",
    "fig.add_subplot(132)\n",
    "\n",
    "plt.plot(num_features_retained_s, train_accs_mlp, label='MLP training')\n",
    "plt.plot(num_features_retained_s, valid_accs_mlp, label='MLP validation')\n",
    "plt.xticks(num_features_retained_s)\n",
    "plt.ylim(0.5, 1)\n",
    "plt.xlabel('Number of features selected'); plt.ylabel('Accuracy')\n",
    "plt.legend()\n",
    "plt.grid()\n",
    "\n",
    "fig.add_subplot(133)\n",
    "\n",
    "plt.plot(num_features_retained_s, train_accs_logreg, label='Logistic regression training')\n",
    "plt.plot(num_features_retained_s, valid_accs_logreg, label='Logistic regression validation')\n",
    "plt.xticks(num_features_retained_s)\n",
    "plt.ylim(0.5, 1)\n",
    "plt.xlabel('Number of features selected'); plt.ylabel('Accuracy')\n",
    "plt.legend()\n",
    "plt.grid()\n",
    "\n",
    "plt.show()"
   ]
  },
  {
   "cell_type": "markdown",
   "metadata": {},
   "source": [
    "From the plots above, it is clear that, while increasing the number of features always improve upon Fisher criterion (regardless of order), doing so does not necessarily significantly improve the validation accuracy of MLP or Logistic regression. In fact, the validation accuracy dropped significantly as soon as more than 2 features were selected. This is likely due to **the curse of dimensionality**. On the other hand, MLP seems to be more robust against this issue."
   ]
  },
  {
   "cell_type": "markdown",
   "metadata": {},
   "source": [
    "### Feature selection for logistic regression"
   ]
  },
  {
   "cell_type": "markdown",
   "metadata": {},
   "source": [
    "Simple selection criterion offers a useful way to compare sets of variables having the same number of elements."
   ]
  },
  {
   "cell_type": "code",
   "execution_count": 243,
   "metadata": {
    "ExecuteTime": {
     "end_time": "2020-05-22T01:02:07.210660Z",
     "start_time": "2020-05-22T01:02:07.111083Z"
    }
   },
   "outputs": [],
   "source": [
    "bab = BranchAndBound(\n",
    "        num_features=11, \n",
    "        num_features_retained=3,\n",
    "        scoring_func=score_combination,\n",
    "        verbose=False\n",
    "    )\n",
    "best_3_ids = bab.find_best_ids()"
   ]
  },
  {
   "cell_type": "code",
   "execution_count": 244,
   "metadata": {
    "ExecuteTime": {
     "end_time": "2020-05-22T01:02:07.366712Z",
     "start_time": "2020-05-22T01:02:07.358922Z"
    }
   },
   "outputs": [
    {
     "data": {
      "text/plain": [
       "[1, 10, 6]"
      ]
     },
     "execution_count": 244,
     "metadata": {},
     "output_type": "execute_result"
    }
   ],
   "source": [
    "best_3_ids"
   ]
  },
  {
   "cell_type": "code",
   "execution_count": 245,
   "metadata": {
    "ExecuteTime": {
     "end_time": "2020-05-22T01:02:07.624579Z",
     "start_time": "2020-05-22T01:02:07.573422Z"
    }
   },
   "outputs": [],
   "source": [
    " logreg_clf = LogisticRegression(solver='liblinear', multi_class='ovr').fit(data_5_6_train[:, best_3_ids], labels_5_6_train)"
   ]
  },
  {
   "cell_type": "code",
   "execution_count": 246,
   "metadata": {
    "ExecuteTime": {
     "end_time": "2020-05-22T01:02:08.003263Z",
     "start_time": "2020-05-22T01:02:07.998606Z"
    }
   },
   "outputs": [],
   "source": [
    "fisher_acc = logreg_clf.score(data_5_6_valid[:, best_3_ids], labels_5_6_valid)"
   ]
  },
  {
   "cell_type": "code",
   "execution_count": 247,
   "metadata": {
    "ExecuteTime": {
     "end_time": "2020-05-22T01:02:09.507830Z",
     "start_time": "2020-05-22T01:02:08.240186Z"
    }
   },
   "outputs": [],
   "source": [
    "random_accs = []\n",
    "for i in range(1000):\n",
    "    random_3_ids = np.random.choice(np.arange(0, 11), size=3)\n",
    "    logreg_clf = LogisticRegression(solver='liblinear', multi_class='ovr').fit(data_5_6_train[:, random_3_ids], labels_5_6_train)\n",
    "    acc = logreg_clf.score(data_5_6_valid[:, random_3_ids], labels_5_6_valid)\n",
    "    random_accs.append(acc)"
   ]
  },
  {
   "cell_type": "code",
   "execution_count": 248,
   "metadata": {
    "ExecuteTime": {
     "end_time": "2020-05-22T01:02:09.620743Z",
     "start_time": "2020-05-22T01:02:09.510830Z"
    }
   },
   "outputs": [
    {
     "data": {
      "image/png": "[encoded data removed]",
      "text/plain": [
       "<Figure size 432x288 with 1 Axes>"
      ]
     },
     "metadata": {
      "needs_background": "light"
     },
     "output_type": "display_data"
    }
   ],
   "source": [
    "plt.bar(['Fisher acc.', 'Random acc.'], [fisher_acc, np.mean(random_accs)])\n",
    "plt.errorbar(\n",
    "    ['Random acc.'], \n",
    "    np.mean(random_accs), \n",
    "    np.array([[np.mean(random_accs) - np.quantile(random_accs, 0.025)], [np.quantile(random_accs, 0.975) - np.mean(random_accs)]]),\n",
    "    color='orange'\n",
    ")\n",
    "plt.show()"
   ]
  },
  {
   "cell_type": "markdown",
   "metadata": {},
   "source": [
    "Although the best 3 features selected using Fisher criterion performs better than a random set of 3 features on average, the later out-performs the prior occasionally."
   ]
  },
  {
   "cell_type": "code",
   "execution_count": null,
   "metadata": {},
   "outputs": [],
   "source": []
  }
 ],
 "metadata": {
  "kernelspec": {
   "display_name": "Python 3",
   "language": "python",
   "name": "python3"
  },
  "language_info": {
   "codemirror_mode": {
    "name": "ipython",
    "version": 3
   },
   "file_extension": ".py",
   "mimetype": "text/x-python",
   "name": "python",
   "nbconvert_exporter": "python",
   "pygments_lexer": "ipython3",
   "version": "3.6.9"
  },
  "toc": {
   "base_numbering": 1,
   "nav_menu": {},
   "number_sections": false,
   "sideBar": true,
   "skip_h1_title": false,
   "title_cell": "Table of Contents",
   "title_sidebar": "Contents",
   "toc_cell": false,
   "toc_position": {},
   "toc_section_display": true,
   "toc_window_display": false
  }
 },
 "nbformat": 4,
 "nbformat_minor": 2
}
