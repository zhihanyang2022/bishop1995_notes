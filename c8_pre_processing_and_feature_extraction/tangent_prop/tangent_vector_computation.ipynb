{
 "cells": [
  {
   "cell_type": "code",
   "execution_count": 203,
   "metadata": {
    "ExecuteTime": {
     "end_time": "2020-05-27T14:40:25.477926Z",
     "start_time": "2020-05-27T14:40:25.473192Z"
    }
   },
   "outputs": [],
   "source": [
    "from tqdm import tqdm_notebook\n",
    "\n",
    "import json\n",
    "import numpy as np\n",
    "from skimage.transform import rotate\n",
    "from keras.datasets.mnist import load_data\n",
    "from scipy.ndimage import gaussian_filter, rotate\n",
    "import matplotlib.pyplot as plt\n",
    "import seaborn as sns"
   ]
  },
  {
   "cell_type": "code",
   "execution_count": 206,
   "metadata": {
    "ExecuteTime": {
     "end_time": "2020-05-27T14:41:25.688757Z",
     "start_time": "2020-05-27T14:41:24.272022Z"
    }
   },
   "outputs": [],
   "source": [
    "(x_train, y_train), (x_test, y_test) = load_data()\n",
    "\n",
    "x_train = x_train - x_train.mean()\n",
    "x_train = x_train / x_train.std()\n",
    "x_test = x_test - x_test.mean()\n",
    "x_test = x_test / x_test.std()"
   ]
  },
  {
   "cell_type": "markdown",
   "metadata": {},
   "source": [
    "## Tangent vector by center finite difference"
   ]
  },
  {
   "cell_type": "code",
   "execution_count": 174,
   "metadata": {
    "ExecuteTime": {
     "end_time": "2020-05-27T14:32:00.462640Z",
     "start_time": "2020-05-27T14:32:00.457620Z"
    }
   },
   "outputs": [],
   "source": [
    "digit = x_train[0]\n",
    "digit = digit / digit.max()\n",
    "digit.min(), digit.max()\n",
    "digit = gaussian_filter(digit, 1/2)"
   ]
  },
  {
   "cell_type": "code",
   "execution_count": 223,
   "metadata": {
    "ExecuteTime": {
     "end_time": "2020-05-27T15:01:01.682144Z",
     "start_time": "2020-05-27T15:01:01.673648Z"
    }
   },
   "outputs": [],
   "source": [
    "angle = np.finfo(float).eps * 1000#\n",
    "angle = 1e-3\n",
    "left_rotated_digit = rotate(digit, angle, reshape=False)\n",
    "right_rotated_digit = rotate(digit, - angle, reshape=False)\n",
    "tangent_vector = (left_rotated_digit - right_rotated_digit) / (2 * angle)"
   ]
  },
  {
   "cell_type": "code",
   "execution_count": 224,
   "metadata": {
    "ExecuteTime": {
     "end_time": "2020-05-27T15:01:02.058483Z",
     "start_time": "2020-05-27T15:01:01.861371Z"
    }
   },
   "outputs": [
    {
     "name": "stdout",
     "output_type": "stream",
     "text": [
      "-0.13382757585889138 0.1272747509937222\n"
     ]
    },
    {
     "data": {
      "image/png": "[encoded data removed]",
      "text/plain": [
       "<Figure size 864x288 with 4 Axes>"
      ]
     },
     "metadata": {},
     "output_type": "display_data"
    }
   ],
   "source": [
    "fig = plt.figure(figsize=(12, 4))\n",
    "\n",
    "fig.add_subplot(141)\n",
    "plt.title('Original digit', y=1.05)\n",
    "plt.imshow(digit, cmap='gray_r')\n",
    "plt.xticks([]); plt.yticks([])\n",
    "plt.xlabel('28 pixels'); plt.ylabel('28 pixels')\n",
    "\n",
    "fig.add_subplot(142)\n",
    "plt.title(f'Rotation by\\n{angle} degrees', y=1.05)\n",
    "plt.imshow(left_rotated_digit, cmap='gray_r')\n",
    "plt.xticks([]); plt.yticks([])\n",
    "plt.xlabel('28 pixels'); plt.ylabel('28 pixels')\n",
    "\n",
    "fig.add_subplot(143)\n",
    "plt.title(f'Rotation by\\n{-angle} degrees', y=1.05)\n",
    "plt.imshow(right_rotated_digit, cmap='gray_r')\n",
    "plt.xticks([]); plt.yticks([])\n",
    "plt.xlabel('28 pixels'); plt.ylabel('28 pixels')\n",
    "\n",
    "fig.add_subplot(144)\n",
    "plt.title('Directional derivate\\nby finite difference', y=1.05)\n",
    "plt.imshow(tangent_vector, cmap='gray_r')\n",
    "print(tangent_vector.min(), tangent_vector.max())\n",
    "plt.xticks([]); plt.yticks([])\n",
    "plt.xlabel('28 pixels'); plt.ylabel('28 pixels')\n",
    "\n",
    "plt.tight_layout()\n",
    "plt.show()"
   ]
  },
  {
   "cell_type": "code",
   "execution_count": 90,
   "metadata": {
    "ExecuteTime": {
     "end_time": "2020-05-27T14:19:12.259972Z",
     "start_time": "2020-05-27T14:19:12.249085Z"
    }
   },
   "outputs": [
    {
     "data": {
      "text/plain": [
       "(False, False)"
      ]
     },
     "execution_count": 90,
     "metadata": {},
     "output_type": "execute_result"
    }
   ],
   "source": [
    "np.allclose(digit, rotated_digit), np.allclose(rotated_digit, rotate(digit, 1, reshape=False))"
   ]
  },
  {
   "cell_type": "markdown",
   "metadata": {},
   "source": [
    "## Create rotation dataset"
   ]
  },
  {
   "cell_type": "code",
   "execution_count": 207,
   "metadata": {
    "ExecuteTime": {
     "end_time": "2020-05-27T14:41:52.885766Z",
     "start_time": "2020-05-27T14:41:34.106960Z"
    }
   },
   "outputs": [
    {
     "data": {
      "application/vnd.jupyter.widget-view+json": {
       "model_id": "925828aef77649b589385c96f4bdba62",
       "version_major": 2,
       "version_minor": 0
      },
      "text/plain": [
       "HBox(children=(IntProgress(value=0, max=60000), HTML(value='')))"
      ]
     },
     "metadata": {},
     "output_type": "display_data"
    },
    {
     "name": "stdout",
     "output_type": "stream",
     "text": [
      "\n"
     ]
    }
   ],
   "source": [
    "x_train_modified = []\n",
    "np.random.seed(42)\n",
    "degrees_to_rotate = np.random.choice([0, 60, 120, 180, 240, 300, 360], size=len(x_train))\n",
    "for x, deg in tqdm_notebook(list(zip(x_train, degrees_to_rotate))):\n",
    "    x = gaussian_filter(x, 1/2)\n",
    "    x_train_modified.append(rotate(x, deg, reshape=False))\n",
    "x_train_modified = np.array(x_train_modified)"
   ]
  },
  {
   "cell_type": "code",
   "execution_count": 209,
   "metadata": {
    "ExecuteTime": {
     "end_time": "2020-05-27T14:42:08.816648Z",
     "start_time": "2020-05-27T14:42:05.659610Z"
    }
   },
   "outputs": [
    {
     "data": {
      "application/vnd.jupyter.widget-view+json": {
       "model_id": "e0748f7380124be8b9f99964fda33e7f",
       "version_major": 2,
       "version_minor": 0
      },
      "text/plain": [
       "HBox(children=(IntProgress(value=0, max=10000), HTML(value='')))"
      ]
     },
     "metadata": {},
     "output_type": "display_data"
    },
    {
     "name": "stdout",
     "output_type": "stream",
     "text": [
      "\n"
     ]
    }
   ],
   "source": [
    "x_test_modified = []\n",
    "np.random.seed(42)\n",
    "degrees_to_rotate = np.random.choice(np.arange(360), size=len(x_test))\n",
    "for x, deg in tqdm_notebook(list(zip(x_test, degrees_to_rotate))):\n",
    "    x = gaussian_filter(x, 1/2)\n",
    "    x_test_modified.append(rotate(x, deg, reshape=False))\n",
    "x_test_modified = np.array(x_test_modified)"
   ]
  },
  {
   "cell_type": "code",
   "execution_count": null,
   "metadata": {},
   "outputs": [],
   "source": []
  },
  {
   "cell_type": "code",
   "execution_count": null,
   "metadata": {},
   "outputs": [],
   "source": []
  },
  {
   "cell_type": "code",
   "execution_count": null,
   "metadata": {},
   "outputs": [],
   "source": []
  },
  {
   "cell_type": "code",
   "execution_count": null,
   "metadata": {},
   "outputs": [],
   "source": []
  },
  {
   "cell_type": "code",
   "execution_count": null,
   "metadata": {},
   "outputs": [],
   "source": []
  },
  {
   "cell_type": "code",
   "execution_count": null,
   "metadata": {},
   "outputs": [],
   "source": []
  }
 ],
 "metadata": {
  "kernelspec": {
   "display_name": "Python 3",
   "language": "python",
   "name": "python3"
  },
  "language_info": {
   "codemirror_mode": {
    "name": "ipython",
    "version": 3
   },
   "file_extension": ".py",
   "mimetype": "text/x-python",
   "name": "python",
   "nbconvert_exporter": "python",
   "pygments_lexer": "ipython3",
   "version": "3.6.9"
  },
  "toc": {
   "base_numbering": 1,
   "nav_menu": {},
   "number_sections": false,
   "sideBar": true,
   "skip_h1_title": false,
   "title_cell": "Table of Contents",
   "title_sidebar": "Contents",
   "toc_cell": false,
   "toc_position": {},
   "toc_section_display": true,
   "toc_window_display": true
  }
 },
 "nbformat": 4,
 "nbformat_minor": 2
}
