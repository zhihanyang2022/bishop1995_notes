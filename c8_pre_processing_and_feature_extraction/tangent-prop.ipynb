{
 "cells": [
  {
   "cell_type": "code",
   "execution_count": 11,
   "metadata": {
    "ExecuteTime": {
     "end_time": "2021-12-29T07:44:21.838912Z",
     "start_time": "2021-12-29T07:44:21.835248Z"
    }
   },
   "outputs": [],
   "source": [
    "import numpy as np\n",
    "import torch\n",
    "import torch.nn as nn\n",
    "import matplotlib.pyplot as plt"
   ]
  },
  {
   "cell_type": "code",
   "execution_count": 18,
   "metadata": {
    "ExecuteTime": {
     "end_time": "2021-12-29T07:46:31.280601Z",
     "start_time": "2021-12-29T07:46:31.274398Z"
    }
   },
   "outputs": [],
   "source": [
    "inp_np = np.array([1., 2., 3., 4., 5])\n",
    "tar_np = inp_np\n",
    "\n",
    "inp = torch.tensor(inp_np).view(-1, 1).float()\n",
    "tar = torch.tensor(tar_np).view(-1, 1).float()"
   ]
  },
  {
   "cell_type": "code",
   "execution_count": 100,
   "metadata": {
    "ExecuteTime": {
     "end_time": "2021-12-29T08:01:08.240136Z",
     "start_time": "2021-12-29T08:01:08.232920Z"
    }
   },
   "outputs": [],
   "source": [
    "nn.LayerNorm?"
   ]
  },
  {
   "cell_type": "code",
   "execution_count": 130,
   "metadata": {
    "ExecuteTime": {
     "end_time": "2021-12-29T08:07:42.023731Z",
     "start_time": "2021-12-29T08:07:36.700768Z"
    }
   },
   "outputs": [],
   "source": [
    "# activation_klass = nn.Softplus\n",
    "activation_klass = nn.Sigmoid\n",
    "# activation_klass = nn.ReLU\n",
    "\n",
    "regressor = nn.Sequential(\n",
    "    nn.Linear(1, 256),\n",
    "    activation_klass(),\n",
    "    nn.Linear(256, 256),\n",
    "    activation_klass(),\n",
    "    nn.Linear(256, 256),\n",
    "    activation_klass(),\n",
    "    nn.Linear(256, 1)\n",
    ").float()\n",
    "\n",
    "optim = torch.optim.Adam(regressor.parameters(), lr=1e-3)\n",
    "\n",
    "for i in range(2000):\n",
    "    \n",
    "    pred = regressor(inp)\n",
    "    \n",
    "    inp.requires_grad_(True)\n",
    "    \n",
    "    grad = torch.autograd.grad(\n",
    "        outputs=pred,\n",
    "        inputs=inp,\n",
    "        create_graph=True,\n",
    "        grad_outputs=torch.ones_like(pred)\n",
    "    )[0]\n",
    "\n",
    "    gradient_norm_loss = torch.mean(grad ** 2)\n",
    "    \n",
    "    loss = torch.mean((pred - tar) ** 2)\n",
    "    \n",
    "    optim.zero_grad()\n",
    "    \n",
    "    loss.backward(retain_graph=True)\n",
    "    gradient_norm_loss.backward()\n",
    "    \n",
    "    optim.step()"
   ]
  },
  {
   "cell_type": "code",
   "execution_count": 132,
   "metadata": {
    "ExecuteTime": {
     "end_time": "2021-12-29T08:11:04.938191Z",
     "start_time": "2021-12-29T08:11:04.703375Z"
    }
   },
   "outputs": [
    {
     "data": {
      "image/png": "[encoded data removed]",
      "text/plain": [
       "<Figure size 360x360 with 1 Axes>"
      ]
     },
     "metadata": {
      "needs_background": "light"
     },
     "output_type": "display_data"
    }
   ],
   "source": [
    "plt.figure(figsize=(5, 5))\n",
    "plt.scatter(inp_np, tar_np, label='Ground Truth')\n",
    "plt.scatter(inp_np, regressor(inp).detach().numpy().reshape(-1), label='Prediction')\n",
    "xs = np.linspace(0, 6, 100)\n",
    "plt.plot(xs, regressor(torch.tensor(xs).view(-1, 1).float()).detach().numpy().reshape(-1), label='Full Curve')\n",
    "plt.ylim(0, 6)\n",
    "plt.xlim(0, 6)\n",
    "plt.legend()\n",
    "plt.xlabel('Input')\n",
    "plt.ylabel('Output')\n",
    "plt.show()"
   ]
  },
  {
   "cell_type": "code",
   "execution_count": null,
   "metadata": {},
   "outputs": [],
   "source": []
  }
 ],
 "metadata": {
  "kernelspec": {
   "display_name": "Python (pomdpr)",
   "language": "python",
   "name": "pomdpr"
  },
  "language_info": {
   "codemirror_mode": {
    "name": "ipython",
    "version": 3
   },
   "file_extension": ".py",
   "mimetype": "text/x-python",
   "name": "python",
   "nbconvert_exporter": "python",
   "pygments_lexer": "ipython3",
   "version": "3.7.10"
  },
  "toc": {
   "base_numbering": 1,
   "nav_menu": {},
   "number_sections": true,
   "sideBar": true,
   "skip_h1_title": false,
   "title_cell": "Table of Contents",
   "title_sidebar": "Contents",
   "toc_cell": false,
   "toc_position": {},
   "toc_section_display": true,
   "toc_window_display": false
  }
 },
 "nbformat": 4,
 "nbformat_minor": 4
}
