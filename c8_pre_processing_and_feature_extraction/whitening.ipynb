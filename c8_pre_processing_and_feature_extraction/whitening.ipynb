{
 "cells": [
  {
   "cell_type": "code",
   "execution_count": 18,
   "metadata": {
    "ExecuteTime": {
     "end_time": "2020-05-24T22:16:55.011393Z",
     "start_time": "2020-05-24T22:16:55.000103Z"
    }
   },
   "outputs": [],
   "source": [
    "import numpy as np\n",
    "from scipy.linalg import fractional_matrix_power as fmpow\n",
    "import pandas as pd\n",
    "import matplotlib.pyplot as plt\n",
    "import seaborn as sns"
   ]
  },
  {
   "cell_type": "code",
   "execution_count": 19,
   "metadata": {
    "ExecuteTime": {
     "end_time": "2020-05-24T22:16:55.245001Z",
     "start_time": "2020-05-24T22:16:55.239096Z"
    }
   },
   "outputs": [],
   "source": [
    "from sklearn.datasets import load_wine"
   ]
  },
  {
   "cell_type": "code",
   "execution_count": 20,
   "metadata": {
    "ExecuteTime": {
     "end_time": "2020-05-24T22:16:55.524308Z",
     "start_time": "2020-05-24T22:16:55.498464Z"
    }
   },
   "outputs": [],
   "source": [
    "class PCA:\n",
    "    \n",
    "    def __init__(self, num_components, whitening):\n",
    "        self.c = num_components\n",
    "        self.whitening = whitening\n",
    "        \n",
    "    def fit(self, X):\n",
    "        Sigma = np.cov(X.T)\n",
    "        eigenvalues, eigenvectors = np.linalg.eig(Sigma)\n",
    "        sorting_indices = np.argsort(eigenvalues)[::-1]\n",
    "        eigenvalues = eigenvalues[sorting_indices]\n",
    "        self.eigenvectors = eigenvectors[:, sorting_indices]\n",
    "        self.Lambda = np.eye(X.shape[1]) * eigenvalues\n",
    "        return self\n",
    "    \n",
    "    def transform(self, X):\n",
    "        if self.whitening:\n",
    "            return (fmpow(self.Lambda, -1/2)[:self.c,:self.c] @ self.eigenvectors.T[:self.c,] @ (X - X.mean(axis=0)).T).T\n",
    "        else:\n",
    "            return (self.eigenvectors.T[:self.c,] @ (X - X.mean(axis=0)).T).T\n",
    "        \n",
    "    def fit_transform(self, X):\n",
    "        self = self.fit(X)\n",
    "        return self.transform(X)"
   ]
  },
  {
   "cell_type": "markdown",
   "metadata": {},
   "source": [
    "## PCA on toy data"
   ]
  },
  {
   "cell_type": "code",
   "execution_count": 21,
   "metadata": {
    "ExecuteTime": {
     "end_time": "2020-05-24T22:16:56.200662Z",
     "start_time": "2020-05-24T22:16:56.162793Z"
    }
   },
   "outputs": [],
   "source": [
    "simpledata = pd.read_csv('pca_data.csv')"
   ]
  },
  {
   "cell_type": "code",
   "execution_count": 22,
   "metadata": {
    "ExecuteTime": {
     "end_time": "2020-05-24T22:16:56.522400Z",
     "start_time": "2020-05-24T22:16:56.500358Z"
    }
   },
   "outputs": [],
   "source": [
    "pca = PCA(2, True)\n",
    "transformed_data = pca.fit_transform(simpledata)\n",
    "transformed_data = np.array(transformed_data)"
   ]
  },
  {
   "cell_type": "code",
   "execution_count": 23,
   "metadata": {
    "ExecuteTime": {
     "end_time": "2020-05-24T22:16:57.039767Z",
     "start_time": "2020-05-24T22:16:57.024415Z"
    }
   },
   "outputs": [
    {
     "data": {
      "text/plain": [
       "True"
      ]
     },
     "execution_count": 23,
     "metadata": {},
     "output_type": "execute_result"
    }
   ],
   "source": [
    "np.allclose(np.cov(transformed_data.T), np.eye(2))"
   ]
  },
  {
   "cell_type": "code",
   "execution_count": 24,
   "metadata": {
    "ExecuteTime": {
     "end_time": "2020-05-24T22:16:57.536378Z",
     "start_time": "2020-05-24T22:16:57.271801Z"
    }
   },
   "outputs": [
    {
     "data": {
      "image/png": "[encoded data removed]",
      "text/plain": [
       "<Figure size 432x288 with 1 Axes>"
      ]
     },
     "metadata": {
      "needs_background": "light"
     },
     "output_type": "display_data"
    }
   ],
   "source": [
    "plt.scatter(transformed_data[:,0], transformed_data[:,1])\n",
    "plt.show()"
   ]
  },
  {
   "cell_type": "markdown",
   "metadata": {},
   "source": [
    "## PCA on wine data"
   ]
  },
  {
   "cell_type": "code",
   "execution_count": 25,
   "metadata": {
    "ExecuteTime": {
     "end_time": "2020-05-24T22:16:59.022901Z",
     "start_time": "2020-05-24T22:16:58.708955Z"
    }
   },
   "outputs": [],
   "source": [
    "url = 'http://archive.ics.uci.edu/ml/machine-learning-databases/wine-quality/winequality-red.csv'\n",
    "data = pd.read_csv(url, sep=\";\")"
   ]
  },
  {
   "cell_type": "code",
   "execution_count": 26,
   "metadata": {
    "ExecuteTime": {
     "end_time": "2020-05-24T22:16:59.072862Z",
     "start_time": "2020-05-24T22:16:59.025655Z"
    }
   },
   "outputs": [],
   "source": [
    "data = data - data.mean()\n",
    "data /= data.std()\n",
    "total_variance = np.var(data, axis=0).sum()"
   ]
  },
  {
   "cell_type": "code",
   "execution_count": 27,
   "metadata": {
    "ExecuteTime": {
     "end_time": "2020-05-24T22:16:59.372122Z",
     "start_time": "2020-05-24T22:16:59.200030Z"
    }
   },
   "outputs": [
    {
     "data": {
      "image/png": "[encoded data removed]",
      "text/plain": [
       "<Figure size 288x288 with 1 Axes>"
      ]
     },
     "metadata": {
      "needs_background": "light"
     },
     "output_type": "display_data"
    }
   ],
   "source": [
    "pca = PCA(13, False)\n",
    "transformed_data = pca.fit_transform(data)\n",
    "plt.matshow(np.cov(transformed_data.T))\n",
    "plt.show()"
   ]
  },
  {
   "cell_type": "code",
   "execution_count": 28,
   "metadata": {
    "ExecuteTime": {
     "end_time": "2020-05-24T22:16:59.963714Z",
     "start_time": "2020-05-24T22:16:59.842876Z"
    }
   },
   "outputs": [
    {
     "data": {
      "image/png": "[encoded data removed]",
      "text/plain": [
       "<Figure size 432x288 with 1 Axes>"
      ]
     },
     "metadata": {
      "needs_background": "light"
     },
     "output_type": "display_data"
    }
   ],
   "source": [
    "plt.plot(np.arange(1, 13), np.var(transformed_data, axis=0) / total_variance)\n",
    "plt.xticks(np.arange(1, 13))\n",
    "plt.show()"
   ]
  },
  {
   "cell_type": "code",
   "execution_count": null,
   "metadata": {},
   "outputs": [],
   "source": []
  },
  {
   "cell_type": "code",
   "execution_count": null,
   "metadata": {},
   "outputs": [],
   "source": []
  }
 ],
 "metadata": {
  "kernelspec": {
   "display_name": "Python 3",
   "language": "python",
   "name": "python3"
  },
  "language_info": {
   "codemirror_mode": {
    "name": "ipython",
    "version": 3
   },
   "file_extension": ".py",
   "mimetype": "text/x-python",
   "name": "python",
   "nbconvert_exporter": "python",
   "pygments_lexer": "ipython3",
   "version": "3.6.9"
  },
  "toc": {
   "base_numbering": 1,
   "nav_menu": {},
   "number_sections": false,
   "sideBar": true,
   "skip_h1_title": false,
   "title_cell": "Table of Contents",
   "title_sidebar": "Contents",
   "toc_cell": false,
   "toc_position": {
    "height": "calc(100% - 180px)",
    "left": "10px",
    "top": "150px",
    "width": "320px"
   },
   "toc_section_display": true,
   "toc_window_display": true
  }
 },
 "nbformat": 4,
 "nbformat_minor": 2
}
